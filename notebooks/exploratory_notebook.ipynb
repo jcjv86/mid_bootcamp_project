{
 "cells": [
  {
   "cell_type": "code",
   "execution_count": 1,
   "id": "7aeed96b-d1cc-4d58-8b37-353c07553f33",
   "metadata": {
    "tags": []
   },
   "outputs": [],
   "source": [
    "import pandas as pd\n",
    "import numpy as np"
   ]
  },
  {
   "cell_type": "code",
   "execution_count": 2,
   "id": "16a1a7f6",
   "metadata": {
    "tags": []
   },
   "outputs": [],
   "source": [
    "def standard_headers(df):\n",
    "    cols = [col.lower().replace(' ', '_') for col in df.columns]\n",
    "    df.columns = cols\n",
    "    return df"
   ]
  },
  {
   "cell_type": "code",
   "execution_count": 3,
   "id": "bbcbef39-c47b-4ab9-b359-293594ddca91",
   "metadata": {
    "tags": []
   },
   "outputs": [
    {
     "data": {
      "text/html": [
       "<div>\n",
       "<style scoped>\n",
       "    .dataframe tbody tr th:only-of-type {\n",
       "        vertical-align: middle;\n",
       "    }\n",
       "\n",
       "    .dataframe tbody tr th {\n",
       "        vertical-align: top;\n",
       "    }\n",
       "\n",
       "    .dataframe thead th {\n",
       "        text-align: right;\n",
       "    }\n",
       "</style>\n",
       "<table border=\"1\" class=\"dataframe\">\n",
       "  <thead>\n",
       "    <tr style=\"text-align: right;\">\n",
       "      <th></th>\n",
       "      <th>date</th>\n",
       "      <th>time</th>\n",
       "      <th>location</th>\n",
       "      <th>operator</th>\n",
       "      <th>flight_no</th>\n",
       "      <th>route</th>\n",
       "      <th>type</th>\n",
       "      <th>registration</th>\n",
       "      <th>cn/in</th>\n",
       "      <th>aboard</th>\n",
       "      <th>fatalities</th>\n",
       "      <th>ground</th>\n",
       "      <th>summary</th>\n",
       "    </tr>\n",
       "  </thead>\n",
       "  <tbody>\n",
       "    <tr>\n",
       "      <th>0</th>\n",
       "      <td>09/17/1908</td>\n",
       "      <td>17:18</td>\n",
       "      <td>Fort Myer, Virginia</td>\n",
       "      <td>Military - U.S. Army</td>\n",
       "      <td>NaN</td>\n",
       "      <td>Demonstration</td>\n",
       "      <td>Wright Flyer III</td>\n",
       "      <td>NaN</td>\n",
       "      <td>1</td>\n",
       "      <td>2.0</td>\n",
       "      <td>1.0</td>\n",
       "      <td>0.0</td>\n",
       "      <td>During a demonstration flight, a U.S. Army fly...</td>\n",
       "    </tr>\n",
       "    <tr>\n",
       "      <th>1</th>\n",
       "      <td>07/12/1912</td>\n",
       "      <td>06:30</td>\n",
       "      <td>AtlantiCity, New Jersey</td>\n",
       "      <td>Military - U.S. Navy</td>\n",
       "      <td>NaN</td>\n",
       "      <td>Test flight</td>\n",
       "      <td>Dirigible</td>\n",
       "      <td>NaN</td>\n",
       "      <td>NaN</td>\n",
       "      <td>5.0</td>\n",
       "      <td>5.0</td>\n",
       "      <td>0.0</td>\n",
       "      <td>First U.S. dirigible Akron exploded just offsh...</td>\n",
       "    </tr>\n",
       "    <tr>\n",
       "      <th>2</th>\n",
       "      <td>08/06/1913</td>\n",
       "      <td>NaN</td>\n",
       "      <td>Victoria, British Columbia, Canada</td>\n",
       "      <td>Private</td>\n",
       "      <td>-</td>\n",
       "      <td>NaN</td>\n",
       "      <td>Curtiss seaplane</td>\n",
       "      <td>NaN</td>\n",
       "      <td>NaN</td>\n",
       "      <td>1.0</td>\n",
       "      <td>1.0</td>\n",
       "      <td>0.0</td>\n",
       "      <td>The first fatal airplane accident in Canada oc...</td>\n",
       "    </tr>\n",
       "    <tr>\n",
       "      <th>3</th>\n",
       "      <td>09/09/1913</td>\n",
       "      <td>18:30</td>\n",
       "      <td>Over the North Sea</td>\n",
       "      <td>Military - German Navy</td>\n",
       "      <td>NaN</td>\n",
       "      <td>NaN</td>\n",
       "      <td>Zeppelin L-1 (airship)</td>\n",
       "      <td>NaN</td>\n",
       "      <td>NaN</td>\n",
       "      <td>20.0</td>\n",
       "      <td>14.0</td>\n",
       "      <td>0.0</td>\n",
       "      <td>The airship flew into a thunderstorm and encou...</td>\n",
       "    </tr>\n",
       "    <tr>\n",
       "      <th>4</th>\n",
       "      <td>10/17/1913</td>\n",
       "      <td>10:30</td>\n",
       "      <td>Near Johannisthal, Germany</td>\n",
       "      <td>Military - German Navy</td>\n",
       "      <td>NaN</td>\n",
       "      <td>NaN</td>\n",
       "      <td>Zeppelin L-2 (airship)</td>\n",
       "      <td>NaN</td>\n",
       "      <td>NaN</td>\n",
       "      <td>30.0</td>\n",
       "      <td>30.0</td>\n",
       "      <td>0.0</td>\n",
       "      <td>Hydrogen gas which was being vented was sucked...</td>\n",
       "    </tr>\n",
       "  </tbody>\n",
       "</table>\n",
       "</div>"
      ],
      "text/plain": [
       "         date   time                            location  \\\n",
       "0  09/17/1908  17:18                 Fort Myer, Virginia   \n",
       "1  07/12/1912  06:30             AtlantiCity, New Jersey   \n",
       "2  08/06/1913    NaN  Victoria, British Columbia, Canada   \n",
       "3  09/09/1913  18:30                  Over the North Sea   \n",
       "4  10/17/1913  10:30          Near Johannisthal, Germany   \n",
       "\n",
       "                 operator flight_no          route                    type  \\\n",
       "0    Military - U.S. Army       NaN  Demonstration        Wright Flyer III   \n",
       "1    Military - U.S. Navy       NaN    Test flight               Dirigible   \n",
       "2                 Private         -            NaN        Curtiss seaplane   \n",
       "3  Military - German Navy       NaN            NaN  Zeppelin L-1 (airship)   \n",
       "4  Military - German Navy       NaN            NaN  Zeppelin L-2 (airship)   \n",
       "\n",
       "  registration cn/in  aboard  fatalities  ground  \\\n",
       "0          NaN     1     2.0         1.0     0.0   \n",
       "1          NaN   NaN     5.0         5.0     0.0   \n",
       "2          NaN   NaN     1.0         1.0     0.0   \n",
       "3          NaN   NaN    20.0        14.0     0.0   \n",
       "4          NaN   NaN    30.0        30.0     0.0   \n",
       "\n",
       "                                             summary  \n",
       "0  During a demonstration flight, a U.S. Army fly...  \n",
       "1  First U.S. dirigible Akron exploded just offsh...  \n",
       "2  The first fatal airplane accident in Canada oc...  \n",
       "3  The airship flew into a thunderstorm and encou...  \n",
       "4  Hydrogen gas which was being vented was sucked...  "
      ]
     },
     "metadata": {},
     "output_type": "display_data"
    },
    {
     "data": {
      "text/plain": [
       "(5268, 13)"
      ]
     },
     "metadata": {},
     "output_type": "display_data"
    }
   ],
   "source": [
    "airplanes = pd.read_csv('../data/raw/Airplane_Crashes_and_Fatalities_Since_1908.csv')\n",
    "airplanes = standard_headers(airplanes)\n",
    "airplanes = airplanes.rename(columns={'flight_#': 'flight_no'}) #Character can be a problem so we get rid of it.\n",
    "display(airplanes.head())\n",
    "display(airplanes.shape)"
   ]
  },
  {
   "cell_type": "code",
   "execution_count": 4,
   "id": "b3867136",
   "metadata": {
    "tags": []
   },
   "outputs": [
    {
     "name": "stdout",
     "output_type": "stream",
     "text": [
      "<class 'pandas.core.frame.DataFrame'>\n",
      "RangeIndex: 5268 entries, 0 to 5267\n",
      "Data columns (total 13 columns):\n",
      " #   Column        Non-Null Count  Dtype  \n",
      "---  ------        --------------  -----  \n",
      " 0   date          5268 non-null   object \n",
      " 1   time          3049 non-null   object \n",
      " 2   location      5248 non-null   object \n",
      " 3   operator      5250 non-null   object \n",
      " 4   flight_no     1069 non-null   object \n",
      " 5   route         3562 non-null   object \n",
      " 6   type          5241 non-null   object \n",
      " 7   registration  4933 non-null   object \n",
      " 8   cn/in         4040 non-null   object \n",
      " 9   aboard        5246 non-null   float64\n",
      " 10  fatalities    5256 non-null   float64\n",
      " 11  ground        5246 non-null   float64\n",
      " 12  summary       4878 non-null   object \n",
      "dtypes: float64(3), object(10)\n",
      "memory usage: 535.2+ KB\n"
     ]
    }
   ],
   "source": [
    "airplanes.info()"
   ]
  },
  {
   "cell_type": "code",
   "execution_count": 5,
   "id": "2ea4147e",
   "metadata": {
    "tags": []
   },
   "outputs": [
    {
     "data": {
      "text/plain": [
       "date               0\n",
       "time            2219\n",
       "location          20\n",
       "operator          18\n",
       "flight_no       4199\n",
       "route           1706\n",
       "type              27\n",
       "registration     335\n",
       "cn/in           1228\n",
       "aboard            22\n",
       "fatalities        12\n",
       "ground            22\n",
       "summary          390\n",
       "dtype: int64"
      ]
     },
     "execution_count": 5,
     "metadata": {},
     "output_type": "execute_result"
    }
   ],
   "source": [
    "airplanes.isna().sum()"
   ]
  },
  {
   "cell_type": "markdown",
   "id": "2b70ccaf",
   "metadata": {},
   "source": [
    "We can observe quite a number of Nas. This could be due to multiple reasons: lack of obligation to provide that information (as many measures were implemented with time and progressively with the industry development), non-registered flights (like military or pirate flights), unclear information or damaged sensors.\n",
    "\n",
    "For now we will not drop any rows or columns and continue to explore the data, as one missing value in a row may not be that relevant to understand the case. Date is the essential paramenter to classify the flights (also will allow us to build a time accident rate) and we have no missing values on that one."
   ]
  },
  {
   "cell_type": "markdown",
   "id": "ba5bce55",
   "metadata": {},
   "source": [
    "<h3>Let's explore the location column.<h3>"
   ]
  },
  {
   "cell_type": "code",
   "execution_count": 6,
   "id": "b1a65f38",
   "metadata": {
    "tags": []
   },
   "outputs": [
    {
     "data": {
      "text/plain": [
       "4304"
      ]
     },
     "execution_count": 6,
     "metadata": {},
     "output_type": "execute_result"
    }
   ],
   "source": [
    "airplanes['location'].nunique(dropna = False)"
   ]
  },
  {
   "cell_type": "code",
   "execution_count": 7,
   "id": "1ea86e72",
   "metadata": {
    "tags": []
   },
   "outputs": [
    {
     "data": {
      "text/plain": [
       "Sao Paulo, Brazil                    15\n",
       "Moscow, Russia                       15\n",
       "Rio de Janeiro, Brazil               14\n",
       "Anchorage, Alaska                    13\n",
       "Manila, Philippines                  13\n",
       "                                     ..\n",
       "Near Charana, Bolivia                 1\n",
       "Monte Matto, Italy                    1\n",
       "Misaki Mountain, Japan                1\n",
       "Angelholm, Sweden                     1\n",
       "State of Arunachal Pradesh, India     1\n",
       "Name: location, Length: 4303, dtype: int64"
      ]
     },
     "execution_count": 7,
     "metadata": {},
     "output_type": "execute_result"
    }
   ],
   "source": [
    "airplanes['location'].value_counts()"
   ]
  },
  {
   "cell_type": "markdown",
   "id": "3db8cf77",
   "metadata": {},
   "source": [
    "We have 4304 different locations for the flights (we also have 20 Nas and one of them is included in this calculation, so in reality we would have 4303).\n",
    "\n",
    "Some of these locations can be in the same country and even region or city. As this column stores info as a string, just a minor difference in the writing would count as a different value, so we will have to consider that when using the information (as we can see in the value counts - 2 locations from the same country on top, an USA state but without stating the country). We will have to get the country information from this column."
   ]
  },
  {
   "cell_type": "markdown",
   "id": "d6d5d0e4",
   "metadata": {},
   "source": [
    "<h3>Let's now check the flight operators:<h3>"
   ]
  },
  {
   "cell_type": "code",
   "execution_count": 8,
   "id": "9b36b5fc",
   "metadata": {
    "tags": []
   },
   "outputs": [
    {
     "data": {
      "text/plain": [
       "2476"
      ]
     },
     "execution_count": 8,
     "metadata": {},
     "output_type": "execute_result"
    }
   ],
   "source": [
    "airplanes['operator'].nunique()"
   ]
  },
  {
   "cell_type": "code",
   "execution_count": 9,
   "id": "fa386a4a",
   "metadata": {
    "tags": []
   },
   "outputs": [
    {
     "data": {
      "text/plain": [
       "Aeroflot                               179\n",
       "Military - U.S. Air Force              176\n",
       "Air France                              70\n",
       "Deutsche Lufthansa                      65\n",
       "Air Taxi                                44\n",
       "                                      ... \n",
       "Military - Argentine Navy                1\n",
       "Richland Flying Service - Air Taxii      1\n",
       "Harbor Airlines - Air Taxi               1\n",
       "Aerovias Venezolanas SA (Venezuela)      1\n",
       "Strait Air                               1\n",
       "Name: operator, Length: 2476, dtype: int64"
      ]
     },
     "execution_count": 9,
     "metadata": {},
     "output_type": "execute_result"
    }
   ],
   "source": [
    "airplanes['operator'].value_counts()"
   ]
  },
  {
   "cell_type": "markdown",
   "id": "a2a5cfce",
   "metadata": {},
   "source": [
    "We have 2476 unique flight operators. Nas have not been considered as the nunique function drops them by default. Here we have some considerations: this info is also stored in a string so any minor difference or typo would count as a different value. Also, some flights are labeled as private - they may be grouped but it doesn't mean they were handled by the same company.\n",
    "We can already see which operators have the biggest incident rate: Aeroflot, USAF and Air France (closely followed by Lufthansa)."
   ]
  },
  {
   "cell_type": "markdown",
   "id": "583196a2",
   "metadata": {},
   "source": [
    "<h3>Let's check the flight number column:<h3>"
   ]
  },
  {
   "cell_type": "code",
   "execution_count": 10,
   "id": "1d4c578c",
   "metadata": {
    "tags": []
   },
   "outputs": [
    {
     "data": {
      "text/plain": [
       "NaN     4199\n",
       "-         67\n",
       "1         10\n",
       "4          7\n",
       "21         6\n",
       "        ... \n",
       "621        1\n",
       "215        1\n",
       "208B       1\n",
       "158        1\n",
       "447        1\n",
       "Name: flight_no, Length: 725, dtype: int64"
      ]
     },
     "execution_count": 10,
     "metadata": {},
     "output_type": "execute_result"
    }
   ],
   "source": [
    "airplanes['flight_no'].value_counts(dropna = False)"
   ]
  },
  {
   "cell_type": "markdown",
   "id": "5634cada",
   "metadata": {},
   "source": [
    "There are many Nas, it may be interesting to keep it just for extra information purposes (for example, to provide extra narrative context when talking about an specific flight when this info is available). That would be the only purpose of this column, also because flight names are usually based on aircraft routes, and these can change with relative frequence depending on many factors."
   ]
  },
  {
   "cell_type": "markdown",
   "id": "362504dc",
   "metadata": {},
   "source": [
    "<h3>Let's check now the route column:<h3>"
   ]
  },
  {
   "cell_type": "code",
   "execution_count": 11,
   "id": "0a5f61c6",
   "metadata": {
    "tags": []
   },
   "outputs": [
    {
     "data": {
      "text/plain": [
       "NaN                           1706\n",
       "Training                        81\n",
       "Sightseeing                     29\n",
       "Test flight                     17\n",
       "Test                             6\n",
       "                              ... \n",
       "Manila - Lapu Lapu               1\n",
       "Saint Denis - Paris              1\n",
       "Cork - London                    1\n",
       "Peoria, IL - St. Louis, MO       1\n",
       "Mechuka for Jorhat               1\n",
       "Name: route, Length: 3245, dtype: int64"
      ]
     },
     "execution_count": 11,
     "metadata": {},
     "output_type": "execute_result"
    }
   ],
   "source": [
    "airplanes['route'].value_counts(dropna = False)"
   ]
  },
  {
   "cell_type": "markdown",
   "id": "2af74072",
   "metadata": {},
   "source": [
    "As before, we have quite a number of Nas but it may be interesting to keep this column for extra context."
   ]
  },
  {
   "cell_type": "markdown",
   "id": "fcc6b163",
   "metadata": {},
   "source": [
    "<h3>We will check now the type column, which indicates the plane model that was involved in the accident:<h3>"
   ]
  },
  {
   "cell_type": "code",
   "execution_count": 12,
   "id": "08aec3db",
   "metadata": {
    "tags": []
   },
   "outputs": [
    {
     "data": {
      "text/plain": [
       "Douglas DC-3                                334\n",
       "de Havilland Canada DHC-6 Twin Otter 300     81\n",
       "Douglas C-47A                                74\n",
       "Douglas C-47                                 62\n",
       "Douglas DC-4                                 40\n",
       "                                           ... \n",
       "Boeing 727-21                                 1\n",
       "NAMC-YS-11-111                                1\n",
       "Lockheed EC-121H                              1\n",
       "Cessna 205A                                   1\n",
       "Airbus A330-203                               1\n",
       "Name: type, Length: 2447, dtype: int64"
      ]
     },
     "execution_count": 12,
     "metadata": {},
     "output_type": "execute_result"
    }
   ],
   "source": [
    "airplanes['type'].value_counts(dropna = False)"
   ]
  },
  {
   "cell_type": "markdown",
   "id": "cfb8b52b",
   "metadata": {},
   "source": [
    "We can observe that the Douglas models have the highest number of accidents by far. We can later consider to cross check it with the operators."
   ]
  },
  {
   "cell_type": "markdown",
   "id": "eb1d2449",
   "metadata": {},
   "source": [
    "<h3>registration and cn/In<h3>"
   ]
  },
  {
   "cell_type": "markdown",
   "id": "3b48627a",
   "metadata": {},
   "source": [
    "These columns indicate the registration number of the aircraft and the serial number given by the manufacturer. It is not relevant for our dataset and they contain quite a number or Nas, but we will keep them as we did with the flight number."
   ]
  },
  {
   "cell_type": "markdown",
   "id": "ef681ae7-4d7f-4409-bfd1-dfae6034bd85",
   "metadata": {},
   "source": [
    "<h3>Aboard<h3>"
   ]
  },
  {
   "cell_type": "markdown",
   "id": "6eef5825-2666-47c4-b383-02ec0550d8e1",
   "metadata": {},
   "source": [
    "Time to check the 'aboard' column, which indicates how many persons were aboard each flight (including crew members as the lower values indicate)."
   ]
  },
  {
   "cell_type": "code",
   "execution_count": 13,
   "id": "03979711",
   "metadata": {
    "tags": []
   },
   "outputs": [
    {
     "data": {
      "text/plain": [
       "2.0      377\n",
       "3.0      370\n",
       "4.0      296\n",
       "5.0      239\n",
       "6.0      223\n",
       "        ... \n",
       "240.0      1\n",
       "218.0      1\n",
       "192.0      1\n",
       "269.0      1\n",
       "228.0      1\n",
       "Name: aboard, Length: 240, dtype: int64"
      ]
     },
     "execution_count": 13,
     "metadata": {},
     "output_type": "execute_result"
    }
   ],
   "source": [
    "airplanes['aboard'].value_counts(dropna = False)"
   ]
  },
  {
   "cell_type": "code",
   "execution_count": 14,
   "id": "3974101e-86ad-48fe-8a12-9394e2a2e5be",
   "metadata": {
    "tags": []
   },
   "outputs": [
    {
     "data": {
      "text/plain": [
       "22"
      ]
     },
     "execution_count": 14,
     "metadata": {},
     "output_type": "execute_result"
    }
   ],
   "source": [
    "airplanes['aboard'].isna().sum()"
   ]
  },
  {
   "cell_type": "markdown",
   "id": "32c4f973-7768-483b-bf84-b4e42f69b150",
   "metadata": {},
   "source": [
    "There are 22 flights for which we have no information on how many passengers were onboard. We can assume that there was at least the pilot on board, so we will check the type of flight to see if we can gather more information and eventually fill in the values by comparing them to similar flights.<br> As a last resort, we could also look for them on google as the information could be available, and we have enough data to do a search.<br>\n",
    "We will also take advantage of the descritpion column to get more information."
   ]
  },
  {
   "cell_type": "code",
   "execution_count": 15,
   "id": "efed3bb7-cc30-4ea3-bc50-a1726715febf",
   "metadata": {
    "tags": []
   },
   "outputs": [
    {
     "data": {
      "text/html": [
       "<div>\n",
       "<style scoped>\n",
       "    .dataframe tbody tr th:only-of-type {\n",
       "        vertical-align: middle;\n",
       "    }\n",
       "\n",
       "    .dataframe tbody tr th {\n",
       "        vertical-align: top;\n",
       "    }\n",
       "\n",
       "    .dataframe thead th {\n",
       "        text-align: right;\n",
       "    }\n",
       "</style>\n",
       "<table border=\"1\" class=\"dataframe\">\n",
       "  <thead>\n",
       "    <tr style=\"text-align: right;\">\n",
       "      <th></th>\n",
       "      <th>date</th>\n",
       "      <th>time</th>\n",
       "      <th>location</th>\n",
       "      <th>operator</th>\n",
       "      <th>flight_no</th>\n",
       "      <th>route</th>\n",
       "      <th>type</th>\n",
       "      <th>registration</th>\n",
       "      <th>cn/in</th>\n",
       "      <th>aboard</th>\n",
       "      <th>fatalities</th>\n",
       "      <th>ground</th>\n",
       "      <th>summary</th>\n",
       "    </tr>\n",
       "  </thead>\n",
       "  <tbody>\n",
       "    <tr>\n",
       "      <th>26</th>\n",
       "      <td>10/20/1919</td>\n",
       "      <td>NaN</td>\n",
       "      <td>English Channel</td>\n",
       "      <td>Aircraft Transport and Travel</td>\n",
       "      <td>NaN</td>\n",
       "      <td>NaN</td>\n",
       "      <td>De Havilland DH-4</td>\n",
       "      <td>G-EAHG</td>\n",
       "      <td>NaN</td>\n",
       "      <td>NaN</td>\n",
       "      <td>NaN</td>\n",
       "      <td>NaN</td>\n",
       "      <td>NaN</td>\n",
       "    </tr>\n",
       "    <tr>\n",
       "      <th>333</th>\n",
       "      <td>08/10/1934</td>\n",
       "      <td>NaN</td>\n",
       "      <td>Ningbo, China</td>\n",
       "      <td>China National Aviation Corporation</td>\n",
       "      <td>NaN</td>\n",
       "      <td>NaN</td>\n",
       "      <td>Sikorsky S-38B</td>\n",
       "      <td>NaN</td>\n",
       "      <td>NaN</td>\n",
       "      <td>NaN</td>\n",
       "      <td>NaN</td>\n",
       "      <td>NaN</td>\n",
       "      <td>NaN</td>\n",
       "    </tr>\n",
       "    <tr>\n",
       "      <th>348</th>\n",
       "      <td>03/07/1935</td>\n",
       "      <td>NaN</td>\n",
       "      <td>Schievelbein, Germany</td>\n",
       "      <td>Deruluft</td>\n",
       "      <td>NaN</td>\n",
       "      <td>NaN</td>\n",
       "      <td>Rochrbach Roland</td>\n",
       "      <td>D-AJYP</td>\n",
       "      <td>45</td>\n",
       "      <td>NaN</td>\n",
       "      <td>3.0</td>\n",
       "      <td>0.0</td>\n",
       "      <td>Fuselage failure.</td>\n",
       "    </tr>\n",
       "    <tr>\n",
       "      <th>364</th>\n",
       "      <td>08/13/1935</td>\n",
       "      <td>NaN</td>\n",
       "      <td>Hangow, China</td>\n",
       "      <td>China National Aviation Corporation</td>\n",
       "      <td>NaN</td>\n",
       "      <td>NaN</td>\n",
       "      <td>Sikorsky S-38B</td>\n",
       "      <td>NV40V</td>\n",
       "      <td>NaN</td>\n",
       "      <td>NaN</td>\n",
       "      <td>NaN</td>\n",
       "      <td>NaN</td>\n",
       "      <td>Destoryed in a storm.</td>\n",
       "    </tr>\n",
       "    <tr>\n",
       "      <th>423</th>\n",
       "      <td>12/26/1936</td>\n",
       "      <td>NaN</td>\n",
       "      <td>Nanking, China</td>\n",
       "      <td>China National Aviation Corporation</td>\n",
       "      <td>NaN</td>\n",
       "      <td>NaN</td>\n",
       "      <td>Douglas DC-2</td>\n",
       "      <td>NC14269</td>\n",
       "      <td>NaN</td>\n",
       "      <td>NaN</td>\n",
       "      <td>NaN</td>\n",
       "      <td>NaN</td>\n",
       "      <td>NaN</td>\n",
       "    </tr>\n",
       "    <tr>\n",
       "      <th>526</th>\n",
       "      <td>09/26/1939</td>\n",
       "      <td>NaN</td>\n",
       "      <td>North Sea</td>\n",
       "      <td>KLM Royal Dutch Airlines</td>\n",
       "      <td>NaN</td>\n",
       "      <td>Stockholm - Amsterdam</td>\n",
       "      <td>Douglas DC-3</td>\n",
       "      <td>PH-ASM</td>\n",
       "      <td>2142</td>\n",
       "      <td>NaN</td>\n",
       "      <td>1.0</td>\n",
       "      <td>0.0</td>\n",
       "      <td>One Swedish passenger was killed when the plan...</td>\n",
       "    </tr>\n",
       "    <tr>\n",
       "      <th>537</th>\n",
       "      <td>07/07/1940</td>\n",
       "      <td>NaN</td>\n",
       "      <td>Gulf of Tonkin</td>\n",
       "      <td>Air France</td>\n",
       "      <td>NaN</td>\n",
       "      <td>NaN</td>\n",
       "      <td>Dewoitine D-338</td>\n",
       "      <td>F-AQBA</td>\n",
       "      <td>1</td>\n",
       "      <td>NaN</td>\n",
       "      <td>NaN</td>\n",
       "      <td>NaN</td>\n",
       "      <td>Shot down by a Japanese military fighter.</td>\n",
       "    </tr>\n",
       "    <tr>\n",
       "      <th>570</th>\n",
       "      <td>01/24/1942</td>\n",
       "      <td>NaN</td>\n",
       "      <td>Near Samarinda, Borneo</td>\n",
       "      <td>KNILM</td>\n",
       "      <td>NaN</td>\n",
       "      <td>NaN</td>\n",
       "      <td>Douglas DC-3</td>\n",
       "      <td>PK-AFW</td>\n",
       "      <td>1982</td>\n",
       "      <td>NaN</td>\n",
       "      <td>NaN</td>\n",
       "      <td>NaN</td>\n",
       "      <td>Shot down by Japanese military aircraft.</td>\n",
       "    </tr>\n",
       "    <tr>\n",
       "      <th>571</th>\n",
       "      <td>01/26/1942</td>\n",
       "      <td>NaN</td>\n",
       "      <td>Kupang, Timor</td>\n",
       "      <td>KNILM</td>\n",
       "      <td>NaN</td>\n",
       "      <td>NaN</td>\n",
       "      <td>Grumman G-21 Goose</td>\n",
       "      <td>PK-AFS</td>\n",
       "      <td>1081</td>\n",
       "      <td>NaN</td>\n",
       "      <td>NaN</td>\n",
       "      <td>NaN</td>\n",
       "      <td>Shot down by Japanese military aircraft.</td>\n",
       "    </tr>\n",
       "    <tr>\n",
       "      <th>573</th>\n",
       "      <td>02/14/1942</td>\n",
       "      <td>NaN</td>\n",
       "      <td>NaN</td>\n",
       "      <td>China National Aviation Corporation</td>\n",
       "      <td>NaN</td>\n",
       "      <td>NaN</td>\n",
       "      <td>Douglas DC-2</td>\n",
       "      <td>45</td>\n",
       "      <td>NaN</td>\n",
       "      <td>NaN</td>\n",
       "      <td>NaN</td>\n",
       "      <td>NaN</td>\n",
       "      <td>NaN</td>\n",
       "    </tr>\n",
       "    <tr>\n",
       "      <th>587</th>\n",
       "      <td>08/13/1942</td>\n",
       "      <td>NaN</td>\n",
       "      <td>Algiers, Algeria</td>\n",
       "      <td>Air France</td>\n",
       "      <td>NaN</td>\n",
       "      <td>NaN</td>\n",
       "      <td>Liore et Olivier H-246 Air Boat</td>\n",
       "      <td>F-AREJ</td>\n",
       "      <td>403</td>\n",
       "      <td>NaN</td>\n",
       "      <td>4.0</td>\n",
       "      <td>0.0</td>\n",
       "      <td>Attacked by Royal Air Force fighters.  Crashed...</td>\n",
       "    </tr>\n",
       "    <tr>\n",
       "      <th>593</th>\n",
       "      <td>10/01/1942</td>\n",
       "      <td>NaN</td>\n",
       "      <td>Kunming, China</td>\n",
       "      <td>China National Aviation Corporation</td>\n",
       "      <td>NaN</td>\n",
       "      <td>NaN</td>\n",
       "      <td>Douglas C-47</td>\n",
       "      <td>69</td>\n",
       "      <td>NaN</td>\n",
       "      <td>NaN</td>\n",
       "      <td>NaN</td>\n",
       "      <td>NaN</td>\n",
       "      <td>Crashed while attempting to land after losing ...</td>\n",
       "    </tr>\n",
       "    <tr>\n",
       "      <th>678</th>\n",
       "      <td>11/09/1944</td>\n",
       "      <td>NaN</td>\n",
       "      <td>Seljord, Norway</td>\n",
       "      <td>Military - U.S. Army Air Corps</td>\n",
       "      <td>NaN</td>\n",
       "      <td>NaN</td>\n",
       "      <td>NaN</td>\n",
       "      <td>42-52196</td>\n",
       "      <td>NaN</td>\n",
       "      <td>NaN</td>\n",
       "      <td>NaN</td>\n",
       "      <td>NaN</td>\n",
       "      <td>NaN</td>\n",
       "    </tr>\n",
       "    <tr>\n",
       "      <th>768</th>\n",
       "      <td>03/18/1946</td>\n",
       "      <td>NaN</td>\n",
       "      <td>Between Chungking and Shanghai, China</td>\n",
       "      <td>China National Aviation Corporation</td>\n",
       "      <td>NaN</td>\n",
       "      <td>Chunking - Shanghai</td>\n",
       "      <td>NaN</td>\n",
       "      <td>139</td>\n",
       "      <td>NaN</td>\n",
       "      <td>NaN</td>\n",
       "      <td>NaN</td>\n",
       "      <td>NaN</td>\n",
       "      <td>Disappeared while en route. Plane never located.</td>\n",
       "    </tr>\n",
       "    <tr>\n",
       "      <th>832</th>\n",
       "      <td>12/25/1946</td>\n",
       "      <td>NaN</td>\n",
       "      <td>Lunghwa, Shanghai, China</td>\n",
       "      <td>China National Aviation Corporation</td>\n",
       "      <td>NaN</td>\n",
       "      <td>NaN</td>\n",
       "      <td>Curtiss C-46, C-47, DC-3</td>\n",
       "      <td>115</td>\n",
       "      <td>NaN</td>\n",
       "      <td>NaN</td>\n",
       "      <td>87.0</td>\n",
       "      <td>4.0</td>\n",
       "      <td>Various accidents involving three aircraft una...</td>\n",
       "    </tr>\n",
       "    <tr>\n",
       "      <th>1479</th>\n",
       "      <td>04/20/1957</td>\n",
       "      <td>NaN</td>\n",
       "      <td>Jirkouk, Iraq</td>\n",
       "      <td>Air France</td>\n",
       "      <td>NaN</td>\n",
       "      <td>Tehran, Iran - Istanbul, Turkey</td>\n",
       "      <td>Lockheed Super Constellation</td>\n",
       "      <td>F-BGNE</td>\n",
       "      <td>4514</td>\n",
       "      <td>NaN</td>\n",
       "      <td>1.0</td>\n",
       "      <td>0.0</td>\n",
       "      <td>Explosive decompression. A passenger was sucke...</td>\n",
       "    </tr>\n",
       "    <tr>\n",
       "      <th>3007</th>\n",
       "      <td>11/03/1977</td>\n",
       "      <td>NaN</td>\n",
       "      <td>Belgrade, Yugoslavia</td>\n",
       "      <td>El Al</td>\n",
       "      <td>NaN</td>\n",
       "      <td>NaN</td>\n",
       "      <td>Boeing B-747</td>\n",
       "      <td>NaN</td>\n",
       "      <td>NaN</td>\n",
       "      <td>NaN</td>\n",
       "      <td>1.0</td>\n",
       "      <td>0.0</td>\n",
       "      <td>Explosive decompression.</td>\n",
       "    </tr>\n",
       "    <tr>\n",
       "      <th>3323</th>\n",
       "      <td>12/16/1981</td>\n",
       "      <td>NaN</td>\n",
       "      <td>Kuala Belait, Brunei</td>\n",
       "      <td>Bristow Helicopters</td>\n",
       "      <td>NaN</td>\n",
       "      <td>NaN</td>\n",
       "      <td>Aerospatiale Puma</td>\n",
       "      <td>9M-SSC</td>\n",
       "      <td>1481</td>\n",
       "      <td>NaN</td>\n",
       "      <td>12.0</td>\n",
       "      <td>0.0</td>\n",
       "      <td>NaN</td>\n",
       "    </tr>\n",
       "    <tr>\n",
       "      <th>3369</th>\n",
       "      <td>08/11/1982</td>\n",
       "      <td>NaN</td>\n",
       "      <td>PacifiOcean</td>\n",
       "      <td>Pan American World Airways</td>\n",
       "      <td>830</td>\n",
       "      <td>Tokyo - Honolulu</td>\n",
       "      <td>Boeing B-747-121</td>\n",
       "      <td>N754PA</td>\n",
       "      <td>19658/47</td>\n",
       "      <td>NaN</td>\n",
       "      <td>1.0</td>\n",
       "      <td>0.0</td>\n",
       "      <td>A sixteen-year-old boy was killed when a bomb ...</td>\n",
       "    </tr>\n",
       "    <tr>\n",
       "      <th>3843</th>\n",
       "      <td>05/09/1989</td>\n",
       "      <td>NaN</td>\n",
       "      <td>Near Tainjin, China</td>\n",
       "      <td>Aero Asahi</td>\n",
       "      <td>NaN</td>\n",
       "      <td>NaN</td>\n",
       "      <td>Bell 412</td>\n",
       "      <td>JA9596</td>\n",
       "      <td>33070</td>\n",
       "      <td>NaN</td>\n",
       "      <td>10.0</td>\n",
       "      <td>0.0</td>\n",
       "      <td>NaN</td>\n",
       "    </tr>\n",
       "    <tr>\n",
       "      <th>4080</th>\n",
       "      <td>02/20/1992</td>\n",
       "      <td>NaN</td>\n",
       "      <td>En route from Argentina  to  California</td>\n",
       "      <td>Aerolineas Argentinas</td>\n",
       "      <td>386</td>\n",
       "      <td>NaN</td>\n",
       "      <td>Boeing B-747</td>\n",
       "      <td>NaN</td>\n",
       "      <td>NaN</td>\n",
       "      <td>NaN</td>\n",
       "      <td>1.0</td>\n",
       "      <td>0.0</td>\n",
       "      <td>A passenger died of cholera while en route.</td>\n",
       "    </tr>\n",
       "    <tr>\n",
       "      <th>4705</th>\n",
       "      <td>03/22/2000</td>\n",
       "      <td>NaN</td>\n",
       "      <td>Herreira, Spain</td>\n",
       "      <td>Military - Ejército del Aire</td>\n",
       "      <td>NaN</td>\n",
       "      <td>Sevilla - Herreira</td>\n",
       "      <td>CASA 212-DE Aviocar 200</td>\n",
       "      <td>TM-12D-73</td>\n",
       "      <td>314</td>\n",
       "      <td>NaN</td>\n",
       "      <td>NaN</td>\n",
       "      <td>NaN</td>\n",
       "      <td>Crashed while attempting to land in poor weather.</td>\n",
       "    </tr>\n",
       "  </tbody>\n",
       "</table>\n",
       "</div>"
      ],
      "text/plain": [
       "            date time                                 location  \\\n",
       "26    10/20/1919  NaN                          English Channel   \n",
       "333   08/10/1934  NaN                            Ningbo, China   \n",
       "348   03/07/1935  NaN                    Schievelbein, Germany   \n",
       "364   08/13/1935  NaN                            Hangow, China   \n",
       "423   12/26/1936  NaN                           Nanking, China   \n",
       "526   09/26/1939  NaN                                North Sea   \n",
       "537   07/07/1940  NaN                           Gulf of Tonkin   \n",
       "570   01/24/1942  NaN                   Near Samarinda, Borneo   \n",
       "571   01/26/1942  NaN                            Kupang, Timor   \n",
       "573   02/14/1942  NaN                                      NaN   \n",
       "587   08/13/1942  NaN                         Algiers, Algeria   \n",
       "593   10/01/1942  NaN                           Kunming, China   \n",
       "678   11/09/1944  NaN                          Seljord, Norway   \n",
       "768   03/18/1946  NaN    Between Chungking and Shanghai, China   \n",
       "832   12/25/1946  NaN                 Lunghwa, Shanghai, China   \n",
       "1479  04/20/1957  NaN                            Jirkouk, Iraq   \n",
       "3007  11/03/1977  NaN                     Belgrade, Yugoslavia   \n",
       "3323  12/16/1981  NaN                     Kuala Belait, Brunei   \n",
       "3369  08/11/1982  NaN                              PacifiOcean   \n",
       "3843  05/09/1989  NaN                      Near Tainjin, China   \n",
       "4080  02/20/1992  NaN  En route from Argentina  to  California   \n",
       "4705  03/22/2000  NaN                          Herreira, Spain   \n",
       "\n",
       "                                 operator flight_no  \\\n",
       "26          Aircraft Transport and Travel       NaN   \n",
       "333   China National Aviation Corporation       NaN   \n",
       "348                              Deruluft       NaN   \n",
       "364   China National Aviation Corporation       NaN   \n",
       "423   China National Aviation Corporation       NaN   \n",
       "526              KLM Royal Dutch Airlines       NaN   \n",
       "537                            Air France       NaN   \n",
       "570                                 KNILM       NaN   \n",
       "571                                 KNILM       NaN   \n",
       "573   China National Aviation Corporation       NaN   \n",
       "587                            Air France       NaN   \n",
       "593   China National Aviation Corporation       NaN   \n",
       "678        Military - U.S. Army Air Corps       NaN   \n",
       "768   China National Aviation Corporation       NaN   \n",
       "832   China National Aviation Corporation       NaN   \n",
       "1479                           Air France       NaN   \n",
       "3007                                El Al       NaN   \n",
       "3323                  Bristow Helicopters       NaN   \n",
       "3369           Pan American World Airways       830   \n",
       "3843                           Aero Asahi       NaN   \n",
       "4080                Aerolineas Argentinas       386   \n",
       "4705         Military - Ejército del Aire       NaN   \n",
       "\n",
       "                                route                             type  \\\n",
       "26                                NaN                De Havilland DH-4   \n",
       "333                               NaN                   Sikorsky S-38B   \n",
       "348                               NaN                 Rochrbach Roland   \n",
       "364                               NaN                   Sikorsky S-38B   \n",
       "423                               NaN                     Douglas DC-2   \n",
       "526             Stockholm - Amsterdam                     Douglas DC-3   \n",
       "537                               NaN                  Dewoitine D-338   \n",
       "570                               NaN                     Douglas DC-3   \n",
       "571                               NaN               Grumman G-21 Goose   \n",
       "573                               NaN                     Douglas DC-2   \n",
       "587                               NaN  Liore et Olivier H-246 Air Boat   \n",
       "593                               NaN                     Douglas C-47   \n",
       "678                               NaN                              NaN   \n",
       "768               Chunking - Shanghai                              NaN   \n",
       "832                               NaN         Curtiss C-46, C-47, DC-3   \n",
       "1479  Tehran, Iran - Istanbul, Turkey     Lockheed Super Constellation   \n",
       "3007                              NaN                     Boeing B-747   \n",
       "3323                              NaN                Aerospatiale Puma   \n",
       "3369                 Tokyo - Honolulu                 Boeing B-747-121   \n",
       "3843                              NaN                         Bell 412   \n",
       "4080                              NaN                     Boeing B-747   \n",
       "4705               Sevilla - Herreira          CASA 212-DE Aviocar 200   \n",
       "\n",
       "     registration     cn/in  aboard  fatalities  ground  \\\n",
       "26         G-EAHG       NaN     NaN         NaN     NaN   \n",
       "333           NaN       NaN     NaN         NaN     NaN   \n",
       "348        D-AJYP        45     NaN         3.0     0.0   \n",
       "364         NV40V       NaN     NaN         NaN     NaN   \n",
       "423       NC14269       NaN     NaN         NaN     NaN   \n",
       "526        PH-ASM      2142     NaN         1.0     0.0   \n",
       "537        F-AQBA         1     NaN         NaN     NaN   \n",
       "570        PK-AFW      1982     NaN         NaN     NaN   \n",
       "571        PK-AFS      1081     NaN         NaN     NaN   \n",
       "573            45       NaN     NaN         NaN     NaN   \n",
       "587        F-AREJ       403     NaN         4.0     0.0   \n",
       "593            69       NaN     NaN         NaN     NaN   \n",
       "678      42-52196       NaN     NaN         NaN     NaN   \n",
       "768           139       NaN     NaN         NaN     NaN   \n",
       "832           115       NaN     NaN        87.0     4.0   \n",
       "1479       F-BGNE      4514     NaN         1.0     0.0   \n",
       "3007          NaN       NaN     NaN         1.0     0.0   \n",
       "3323       9M-SSC      1481     NaN        12.0     0.0   \n",
       "3369       N754PA  19658/47     NaN         1.0     0.0   \n",
       "3843       JA9596     33070     NaN        10.0     0.0   \n",
       "4080          NaN       NaN     NaN         1.0     0.0   \n",
       "4705    TM-12D-73       314     NaN         NaN     NaN   \n",
       "\n",
       "                                                summary  \n",
       "26                                                  NaN  \n",
       "333                                                 NaN  \n",
       "348                                   Fuselage failure.  \n",
       "364                               Destoryed in a storm.  \n",
       "423                                                 NaN  \n",
       "526   One Swedish passenger was killed when the plan...  \n",
       "537           Shot down by a Japanese military fighter.  \n",
       "570            Shot down by Japanese military aircraft.  \n",
       "571            Shot down by Japanese military aircraft.  \n",
       "573                                                 NaN  \n",
       "587   Attacked by Royal Air Force fighters.  Crashed...  \n",
       "593   Crashed while attempting to land after losing ...  \n",
       "678                                                 NaN  \n",
       "768    Disappeared while en route. Plane never located.  \n",
       "832   Various accidents involving three aircraft una...  \n",
       "1479  Explosive decompression. A passenger was sucke...  \n",
       "3007                           Explosive decompression.  \n",
       "3323                                                NaN  \n",
       "3369  A sixteen-year-old boy was killed when a bomb ...  \n",
       "3843                                                NaN  \n",
       "4080        A passenger died of cholera while en route.  \n",
       "4705  Crashed while attempting to land in poor weather.  "
      ]
     },
     "execution_count": 15,
     "metadata": {},
     "output_type": "execute_result"
    }
   ],
   "source": [
    "airplanes_nopassengers = airplanes[(airplanes['aboard'].isna())]\n",
    "airplanes_nopassengers"
   ]
  },
  {
   "cell_type": "code",
   "execution_count": 16,
   "id": "dbc0d0e4-5a9c-4729-85f7-67c298d6f04c",
   "metadata": {
    "tags": []
   },
   "outputs": [
    {
     "data": {
      "text/plain": [
       "'One Swedish passenger was killed when the plane was attacked by German fighters. The plane was able to land safely in Amsterdam.'"
      ]
     },
     "execution_count": 16,
     "metadata": {},
     "output_type": "execute_result"
    }
   ],
   "source": [
    "airplanes['summary'][526]"
   ]
  },
  {
   "cell_type": "code",
   "execution_count": 17,
   "id": "a643cd3b-43b7-4671-be79-520e9b0a5eba",
   "metadata": {
    "tags": []
   },
   "outputs": [
    {
     "data": {
      "text/plain": [
       "'Shot down by Japanese military aircraft.'"
      ]
     },
     "execution_count": 17,
     "metadata": {},
     "output_type": "execute_result"
    }
   ],
   "source": [
    "airplanes['summary'][570]"
   ]
  },
  {
   "cell_type": "code",
   "execution_count": 18,
   "id": "5166be9d-14dd-4e8e-95b4-1f36bea6304c",
   "metadata": {
    "tags": []
   },
   "outputs": [
    {
     "data": {
      "text/plain": [
       "'Explosive decompression. A passenger was sucked out of a window at 18,000 feet when the window he was sitting next to shattered. The body was never recovered.'"
      ]
     },
     "execution_count": 18,
     "metadata": {},
     "output_type": "execute_result"
    }
   ],
   "source": [
    "airplanes['summary'][1479]"
   ]
  },
  {
   "cell_type": "code",
   "execution_count": 19,
   "id": "af1eefcc-0189-489d-b8b2-f9db3bc330de",
   "metadata": {
    "tags": []
   },
   "outputs": [
    {
     "data": {
      "text/plain": [
       "'A sixteen-year-old boy was killed when a bomb detonated under a seat cushion. The explosion caused minor damage and the plane landed safely at Honolulu. The bomb was placed onboard by Mohammed Rashed, a Jordanian terrorist with the May 15 Organization.'"
      ]
     },
     "execution_count": 19,
     "metadata": {},
     "output_type": "execute_result"
    }
   ],
   "source": [
    "airplanes['summary'][3369]"
   ]
  },
  {
   "cell_type": "markdown",
   "id": "aa03b2f8-2c09-400a-ac41-27010dd65ace",
   "metadata": {},
   "source": [
    "-8 aircrafts were involved on incidents during the WWII period. Some of them directly involved in combat (three of them shot down by a Japanese military fighter). Other on which a passenger died after the plane was attacked by a fighter.\n",
    "-One of the incidents refers to a passenger dying of cholera while en route.\n",
    "-One of the incidents involves a bomb exploding on board and killing a passenger, but the plane managed to land without any further casualties.\n",
    "\n",
    "Since we want to focus exclusively on aircraft accidents - whether these are mechanic, man-cause or weather caused - we can drop these rows as non relevant. This also could mean that some of the casualties in the dataset are not related to airplane crashes, but on-flight health related deaths. We will have to dig in deeper but we will start by clearing these rows (7 in total)."
   ]
  },
  {
   "cell_type": "code",
   "execution_count": 20,
   "id": "1a0c4667-31d4-49dc-9052-bbcce5528a50",
   "metadata": {
    "tags": []
   },
   "outputs": [],
   "source": [
    "airplanes = airplanes.drop([airplanes.index[526], airplanes.index[537], airplanes.index[570], airplanes.index[571], airplanes.index[587], airplanes.index[3369], airplanes.index[4080]])"
   ]
  },
  {
   "cell_type": "code",
   "execution_count": 21,
   "id": "dffaf132-648c-4ba9-a987-7ab356664737",
   "metadata": {
    "tags": []
   },
   "outputs": [],
   "source": [
    "airplanes = airplanes.reset_index(drop=True)"
   ]
  },
  {
   "cell_type": "code",
   "execution_count": 22,
   "id": "bd3e3310-9fbe-4506-8b5c-e31dc7537fba",
   "metadata": {
    "tags": []
   },
   "outputs": [
    {
     "data": {
      "text/html": [
       "<div>\n",
       "<style scoped>\n",
       "    .dataframe tbody tr th:only-of-type {\n",
       "        vertical-align: middle;\n",
       "    }\n",
       "\n",
       "    .dataframe tbody tr th {\n",
       "        vertical-align: top;\n",
       "    }\n",
       "\n",
       "    .dataframe thead th {\n",
       "        text-align: right;\n",
       "    }\n",
       "</style>\n",
       "<table border=\"1\" class=\"dataframe\">\n",
       "  <thead>\n",
       "    <tr style=\"text-align: right;\">\n",
       "      <th></th>\n",
       "      <th>date</th>\n",
       "      <th>time</th>\n",
       "      <th>location</th>\n",
       "      <th>operator</th>\n",
       "      <th>flight_no</th>\n",
       "      <th>route</th>\n",
       "      <th>type</th>\n",
       "      <th>registration</th>\n",
       "      <th>cn/in</th>\n",
       "      <th>aboard</th>\n",
       "      <th>fatalities</th>\n",
       "      <th>ground</th>\n",
       "      <th>summary</th>\n",
       "    </tr>\n",
       "  </thead>\n",
       "  <tbody>\n",
       "    <tr>\n",
       "      <th>26</th>\n",
       "      <td>10/20/1919</td>\n",
       "      <td>NaN</td>\n",
       "      <td>English Channel</td>\n",
       "      <td>Aircraft Transport and Travel</td>\n",
       "      <td>NaN</td>\n",
       "      <td>NaN</td>\n",
       "      <td>De Havilland DH-4</td>\n",
       "      <td>G-EAHG</td>\n",
       "      <td>NaN</td>\n",
       "      <td>NaN</td>\n",
       "      <td>NaN</td>\n",
       "      <td>NaN</td>\n",
       "      <td>NaN</td>\n",
       "    </tr>\n",
       "    <tr>\n",
       "      <th>333</th>\n",
       "      <td>08/10/1934</td>\n",
       "      <td>NaN</td>\n",
       "      <td>Ningbo, China</td>\n",
       "      <td>China National Aviation Corporation</td>\n",
       "      <td>NaN</td>\n",
       "      <td>NaN</td>\n",
       "      <td>Sikorsky S-38B</td>\n",
       "      <td>NaN</td>\n",
       "      <td>NaN</td>\n",
       "      <td>NaN</td>\n",
       "      <td>NaN</td>\n",
       "      <td>NaN</td>\n",
       "      <td>NaN</td>\n",
       "    </tr>\n",
       "    <tr>\n",
       "      <th>348</th>\n",
       "      <td>03/07/1935</td>\n",
       "      <td>NaN</td>\n",
       "      <td>Schievelbein, Germany</td>\n",
       "      <td>Deruluft</td>\n",
       "      <td>NaN</td>\n",
       "      <td>NaN</td>\n",
       "      <td>Rochrbach Roland</td>\n",
       "      <td>D-AJYP</td>\n",
       "      <td>45</td>\n",
       "      <td>NaN</td>\n",
       "      <td>3.0</td>\n",
       "      <td>0.0</td>\n",
       "      <td>Fuselage failure.</td>\n",
       "    </tr>\n",
       "    <tr>\n",
       "      <th>364</th>\n",
       "      <td>08/13/1935</td>\n",
       "      <td>NaN</td>\n",
       "      <td>Hangow, China</td>\n",
       "      <td>China National Aviation Corporation</td>\n",
       "      <td>NaN</td>\n",
       "      <td>NaN</td>\n",
       "      <td>Sikorsky S-38B</td>\n",
       "      <td>NV40V</td>\n",
       "      <td>NaN</td>\n",
       "      <td>NaN</td>\n",
       "      <td>NaN</td>\n",
       "      <td>NaN</td>\n",
       "      <td>Destoryed in a storm.</td>\n",
       "    </tr>\n",
       "    <tr>\n",
       "      <th>423</th>\n",
       "      <td>12/26/1936</td>\n",
       "      <td>NaN</td>\n",
       "      <td>Nanking, China</td>\n",
       "      <td>China National Aviation Corporation</td>\n",
       "      <td>NaN</td>\n",
       "      <td>NaN</td>\n",
       "      <td>Douglas DC-2</td>\n",
       "      <td>NC14269</td>\n",
       "      <td>NaN</td>\n",
       "      <td>NaN</td>\n",
       "      <td>NaN</td>\n",
       "      <td>NaN</td>\n",
       "      <td>NaN</td>\n",
       "    </tr>\n",
       "    <tr>\n",
       "      <th>569</th>\n",
       "      <td>02/14/1942</td>\n",
       "      <td>NaN</td>\n",
       "      <td>NaN</td>\n",
       "      <td>China National Aviation Corporation</td>\n",
       "      <td>NaN</td>\n",
       "      <td>NaN</td>\n",
       "      <td>Douglas DC-2</td>\n",
       "      <td>45</td>\n",
       "      <td>NaN</td>\n",
       "      <td>NaN</td>\n",
       "      <td>NaN</td>\n",
       "      <td>NaN</td>\n",
       "      <td>NaN</td>\n",
       "    </tr>\n",
       "    <tr>\n",
       "      <th>588</th>\n",
       "      <td>10/01/1942</td>\n",
       "      <td>NaN</td>\n",
       "      <td>Kunming, China</td>\n",
       "      <td>China National Aviation Corporation</td>\n",
       "      <td>NaN</td>\n",
       "      <td>NaN</td>\n",
       "      <td>Douglas C-47</td>\n",
       "      <td>69</td>\n",
       "      <td>NaN</td>\n",
       "      <td>NaN</td>\n",
       "      <td>NaN</td>\n",
       "      <td>NaN</td>\n",
       "      <td>Crashed while attempting to land after losing ...</td>\n",
       "    </tr>\n",
       "    <tr>\n",
       "      <th>673</th>\n",
       "      <td>11/09/1944</td>\n",
       "      <td>NaN</td>\n",
       "      <td>Seljord, Norway</td>\n",
       "      <td>Military - U.S. Army Air Corps</td>\n",
       "      <td>NaN</td>\n",
       "      <td>NaN</td>\n",
       "      <td>NaN</td>\n",
       "      <td>42-52196</td>\n",
       "      <td>NaN</td>\n",
       "      <td>NaN</td>\n",
       "      <td>NaN</td>\n",
       "      <td>NaN</td>\n",
       "      <td>NaN</td>\n",
       "    </tr>\n",
       "    <tr>\n",
       "      <th>763</th>\n",
       "      <td>03/18/1946</td>\n",
       "      <td>NaN</td>\n",
       "      <td>Between Chungking and Shanghai, China</td>\n",
       "      <td>China National Aviation Corporation</td>\n",
       "      <td>NaN</td>\n",
       "      <td>Chunking - Shanghai</td>\n",
       "      <td>NaN</td>\n",
       "      <td>139</td>\n",
       "      <td>NaN</td>\n",
       "      <td>NaN</td>\n",
       "      <td>NaN</td>\n",
       "      <td>NaN</td>\n",
       "      <td>Disappeared while en route. Plane never located.</td>\n",
       "    </tr>\n",
       "    <tr>\n",
       "      <th>827</th>\n",
       "      <td>12/25/1946</td>\n",
       "      <td>NaN</td>\n",
       "      <td>Lunghwa, Shanghai, China</td>\n",
       "      <td>China National Aviation Corporation</td>\n",
       "      <td>NaN</td>\n",
       "      <td>NaN</td>\n",
       "      <td>Curtiss C-46, C-47, DC-3</td>\n",
       "      <td>115</td>\n",
       "      <td>NaN</td>\n",
       "      <td>NaN</td>\n",
       "      <td>87.0</td>\n",
       "      <td>4.0</td>\n",
       "      <td>Various accidents involving three aircraft una...</td>\n",
       "    </tr>\n",
       "    <tr>\n",
       "      <th>1474</th>\n",
       "      <td>04/20/1957</td>\n",
       "      <td>NaN</td>\n",
       "      <td>Jirkouk, Iraq</td>\n",
       "      <td>Air France</td>\n",
       "      <td>NaN</td>\n",
       "      <td>Tehran, Iran - Istanbul, Turkey</td>\n",
       "      <td>Lockheed Super Constellation</td>\n",
       "      <td>F-BGNE</td>\n",
       "      <td>4514</td>\n",
       "      <td>NaN</td>\n",
       "      <td>1.0</td>\n",
       "      <td>0.0</td>\n",
       "      <td>Explosive decompression. A passenger was sucke...</td>\n",
       "    </tr>\n",
       "    <tr>\n",
       "      <th>3002</th>\n",
       "      <td>11/03/1977</td>\n",
       "      <td>NaN</td>\n",
       "      <td>Belgrade, Yugoslavia</td>\n",
       "      <td>El Al</td>\n",
       "      <td>NaN</td>\n",
       "      <td>NaN</td>\n",
       "      <td>Boeing B-747</td>\n",
       "      <td>NaN</td>\n",
       "      <td>NaN</td>\n",
       "      <td>NaN</td>\n",
       "      <td>1.0</td>\n",
       "      <td>0.0</td>\n",
       "      <td>Explosive decompression.</td>\n",
       "    </tr>\n",
       "    <tr>\n",
       "      <th>3318</th>\n",
       "      <td>12/16/1981</td>\n",
       "      <td>NaN</td>\n",
       "      <td>Kuala Belait, Brunei</td>\n",
       "      <td>Bristow Helicopters</td>\n",
       "      <td>NaN</td>\n",
       "      <td>NaN</td>\n",
       "      <td>Aerospatiale Puma</td>\n",
       "      <td>9M-SSC</td>\n",
       "      <td>1481</td>\n",
       "      <td>NaN</td>\n",
       "      <td>12.0</td>\n",
       "      <td>0.0</td>\n",
       "      <td>NaN</td>\n",
       "    </tr>\n",
       "    <tr>\n",
       "      <th>3837</th>\n",
       "      <td>05/09/1989</td>\n",
       "      <td>NaN</td>\n",
       "      <td>Near Tainjin, China</td>\n",
       "      <td>Aero Asahi</td>\n",
       "      <td>NaN</td>\n",
       "      <td>NaN</td>\n",
       "      <td>Bell 412</td>\n",
       "      <td>JA9596</td>\n",
       "      <td>33070</td>\n",
       "      <td>NaN</td>\n",
       "      <td>10.0</td>\n",
       "      <td>0.0</td>\n",
       "      <td>NaN</td>\n",
       "    </tr>\n",
       "    <tr>\n",
       "      <th>4698</th>\n",
       "      <td>03/22/2000</td>\n",
       "      <td>NaN</td>\n",
       "      <td>Herreira, Spain</td>\n",
       "      <td>Military - Ejército del Aire</td>\n",
       "      <td>NaN</td>\n",
       "      <td>Sevilla - Herreira</td>\n",
       "      <td>CASA 212-DE Aviocar 200</td>\n",
       "      <td>TM-12D-73</td>\n",
       "      <td>314</td>\n",
       "      <td>NaN</td>\n",
       "      <td>NaN</td>\n",
       "      <td>NaN</td>\n",
       "      <td>Crashed while attempting to land in poor weather.</td>\n",
       "    </tr>\n",
       "  </tbody>\n",
       "</table>\n",
       "</div>"
      ],
      "text/plain": [
       "            date time                               location  \\\n",
       "26    10/20/1919  NaN                        English Channel   \n",
       "333   08/10/1934  NaN                          Ningbo, China   \n",
       "348   03/07/1935  NaN                  Schievelbein, Germany   \n",
       "364   08/13/1935  NaN                          Hangow, China   \n",
       "423   12/26/1936  NaN                         Nanking, China   \n",
       "569   02/14/1942  NaN                                    NaN   \n",
       "588   10/01/1942  NaN                         Kunming, China   \n",
       "673   11/09/1944  NaN                        Seljord, Norway   \n",
       "763   03/18/1946  NaN  Between Chungking and Shanghai, China   \n",
       "827   12/25/1946  NaN               Lunghwa, Shanghai, China   \n",
       "1474  04/20/1957  NaN                          Jirkouk, Iraq   \n",
       "3002  11/03/1977  NaN                   Belgrade, Yugoslavia   \n",
       "3318  12/16/1981  NaN                   Kuala Belait, Brunei   \n",
       "3837  05/09/1989  NaN                    Near Tainjin, China   \n",
       "4698  03/22/2000  NaN                        Herreira, Spain   \n",
       "\n",
       "                                 operator flight_no  \\\n",
       "26          Aircraft Transport and Travel       NaN   \n",
       "333   China National Aviation Corporation       NaN   \n",
       "348                              Deruluft       NaN   \n",
       "364   China National Aviation Corporation       NaN   \n",
       "423   China National Aviation Corporation       NaN   \n",
       "569   China National Aviation Corporation       NaN   \n",
       "588   China National Aviation Corporation       NaN   \n",
       "673        Military - U.S. Army Air Corps       NaN   \n",
       "763   China National Aviation Corporation       NaN   \n",
       "827   China National Aviation Corporation       NaN   \n",
       "1474                           Air France       NaN   \n",
       "3002                                El Al       NaN   \n",
       "3318                  Bristow Helicopters       NaN   \n",
       "3837                           Aero Asahi       NaN   \n",
       "4698         Military - Ejército del Aire       NaN   \n",
       "\n",
       "                                route                          type  \\\n",
       "26                                NaN             De Havilland DH-4   \n",
       "333                               NaN                Sikorsky S-38B   \n",
       "348                               NaN              Rochrbach Roland   \n",
       "364                               NaN                Sikorsky S-38B   \n",
       "423                               NaN                  Douglas DC-2   \n",
       "569                               NaN                  Douglas DC-2   \n",
       "588                               NaN                  Douglas C-47   \n",
       "673                               NaN                           NaN   \n",
       "763               Chunking - Shanghai                           NaN   \n",
       "827                               NaN      Curtiss C-46, C-47, DC-3   \n",
       "1474  Tehran, Iran - Istanbul, Turkey  Lockheed Super Constellation   \n",
       "3002                              NaN                  Boeing B-747   \n",
       "3318                              NaN             Aerospatiale Puma   \n",
       "3837                              NaN                      Bell 412   \n",
       "4698               Sevilla - Herreira       CASA 212-DE Aviocar 200   \n",
       "\n",
       "     registration  cn/in  aboard  fatalities  ground  \\\n",
       "26         G-EAHG    NaN     NaN         NaN     NaN   \n",
       "333           NaN    NaN     NaN         NaN     NaN   \n",
       "348        D-AJYP     45     NaN         3.0     0.0   \n",
       "364         NV40V    NaN     NaN         NaN     NaN   \n",
       "423       NC14269    NaN     NaN         NaN     NaN   \n",
       "569            45    NaN     NaN         NaN     NaN   \n",
       "588            69    NaN     NaN         NaN     NaN   \n",
       "673      42-52196    NaN     NaN         NaN     NaN   \n",
       "763           139    NaN     NaN         NaN     NaN   \n",
       "827           115    NaN     NaN        87.0     4.0   \n",
       "1474       F-BGNE   4514     NaN         1.0     0.0   \n",
       "3002          NaN    NaN     NaN         1.0     0.0   \n",
       "3318       9M-SSC   1481     NaN        12.0     0.0   \n",
       "3837       JA9596  33070     NaN        10.0     0.0   \n",
       "4698    TM-12D-73    314     NaN         NaN     NaN   \n",
       "\n",
       "                                                summary  \n",
       "26                                                  NaN  \n",
       "333                                                 NaN  \n",
       "348                                   Fuselage failure.  \n",
       "364                               Destoryed in a storm.  \n",
       "423                                                 NaN  \n",
       "569                                                 NaN  \n",
       "588   Crashed while attempting to land after losing ...  \n",
       "673                                                 NaN  \n",
       "763    Disappeared while en route. Plane never located.  \n",
       "827   Various accidents involving three aircraft una...  \n",
       "1474  Explosive decompression. A passenger was sucke...  \n",
       "3002                           Explosive decompression.  \n",
       "3318                                                NaN  \n",
       "3837                                                NaN  \n",
       "4698  Crashed while attempting to land in poor weather.  "
      ]
     },
     "execution_count": 22,
     "metadata": {},
     "output_type": "execute_result"
    }
   ],
   "source": [
    "airplanes_nopassengers = airplanes[(airplanes['aboard'].isna())]\n",
    "airplanes_nopassengers"
   ]
  },
  {
   "cell_type": "markdown",
   "id": "36845270-b243-4da0-9117-9018b85ac3bb",
   "metadata": {},
   "source": [
    "The last flight of the list is quite recent so we will probably be able to find more information on google."
   ]
  },
  {
   "cell_type": "markdown",
   "id": "6921ee6c-debb-4f8c-b74d-fc1b91af085b",
   "metadata": {},
   "source": [
    "7 people dead.\n",
    "https://hemeroteca.lavanguardia.com/preview/2000/03/23/pagina-40/34056506/pdf.html?search=aviocar"
   ]
  },
  {
   "cell_type": "code",
   "execution_count": 23,
   "id": "bbb02222-fb60-46b8-b114-fb06c4c1dc3b",
   "metadata": {
    "tags": []
   },
   "outputs": [
    {
     "data": {
      "text/plain": [
       "date                                                   03/22/2000\n",
       "time                                                          NaN\n",
       "location                                          Herreira, Spain\n",
       "operator                             Military - Ejército del Aire\n",
       "flight_no                                                     NaN\n",
       "route                                          Sevilla - Herreira\n",
       "type                                      CASA 212-DE Aviocar 200\n",
       "registration                                            TM-12D-73\n",
       "cn/in                                                         314\n",
       "aboard                                                        NaN\n",
       "fatalities                                                    NaN\n",
       "ground                                                        NaN\n",
       "summary         Crashed while attempting to land in poor weather.\n",
       "Name: 4698, dtype: object"
      ]
     },
     "execution_count": 23,
     "metadata": {},
     "output_type": "execute_result"
    }
   ],
   "source": [
    "airplanes.iloc[4698]"
   ]
  },
  {
   "cell_type": "code",
   "execution_count": 24,
   "id": "b92e84e8-1ca7-47f4-86f7-e89d5e602123",
   "metadata": {
    "tags": []
   },
   "outputs": [
    {
     "name": "stderr",
     "output_type": "stream",
     "text": [
      "/tmp/ipykernel_45867/1304270209.py:1: SettingWithCopyWarning: \n",
      "A value is trying to be set on a copy of a slice from a DataFrame\n",
      "\n",
      "See the caveats in the documentation: https://pandas.pydata.org/pandas-docs/stable/user_guide/indexing.html#returning-a-view-versus-a-copy\n",
      "  airplanes['aboard'][4698] = 7\n"
     ]
    }
   ],
   "source": [
    "airplanes['aboard'][4698] = 7"
   ]
  },
  {
   "cell_type": "code",
   "execution_count": 25,
   "id": "616032ef-e9ec-4275-b8cf-cff2b714bbe7",
   "metadata": {
    "tags": []
   },
   "outputs": [
    {
     "name": "stderr",
     "output_type": "stream",
     "text": [
      "/tmp/ipykernel_45867/826404550.py:1: SettingWithCopyWarning: \n",
      "A value is trying to be set on a copy of a slice from a DataFrame\n",
      "\n",
      "See the caveats in the documentation: https://pandas.pydata.org/pandas-docs/stable/user_guide/indexing.html#returning-a-view-versus-a-copy\n",
      "  airplanes['fatalities'][4698] = 7\n"
     ]
    }
   ],
   "source": [
    "airplanes['fatalities'][4698] = 7"
   ]
  },
  {
   "cell_type": "code",
   "execution_count": 26,
   "id": "19c3cc90-2864-4e2c-adcd-06257367f9dd",
   "metadata": {
    "tags": []
   },
   "outputs": [
    {
     "data": {
      "text/plain": [
       "date                                                   03/22/2000\n",
       "time                                                          NaN\n",
       "location                                          Herreira, Spain\n",
       "operator                             Military - Ejército del Aire\n",
       "flight_no                                                     NaN\n",
       "route                                          Sevilla - Herreira\n",
       "type                                      CASA 212-DE Aviocar 200\n",
       "registration                                            TM-12D-73\n",
       "cn/in                                                         314\n",
       "aboard                                                        7.0\n",
       "fatalities                                                    7.0\n",
       "ground                                                        NaN\n",
       "summary         Crashed while attempting to land in poor weather.\n",
       "Name: 4698, dtype: object"
      ]
     },
     "execution_count": 26,
     "metadata": {},
     "output_type": "execute_result"
    }
   ],
   "source": [
    "airplanes.iloc[4698]"
   ]
  },
  {
   "cell_type": "code",
   "execution_count": 27,
   "id": "28400c2a-e34e-4cad-949c-786947fb1f91",
   "metadata": {
    "tags": []
   },
   "outputs": [
    {
     "data": {
      "text/html": [
       "<div>\n",
       "<style scoped>\n",
       "    .dataframe tbody tr th:only-of-type {\n",
       "        vertical-align: middle;\n",
       "    }\n",
       "\n",
       "    .dataframe tbody tr th {\n",
       "        vertical-align: top;\n",
       "    }\n",
       "\n",
       "    .dataframe thead th {\n",
       "        text-align: right;\n",
       "    }\n",
       "</style>\n",
       "<table border=\"1\" class=\"dataframe\">\n",
       "  <thead>\n",
       "    <tr style=\"text-align: right;\">\n",
       "      <th></th>\n",
       "      <th>date</th>\n",
       "      <th>time</th>\n",
       "      <th>location</th>\n",
       "      <th>operator</th>\n",
       "      <th>flight_no</th>\n",
       "      <th>route</th>\n",
       "      <th>type</th>\n",
       "      <th>registration</th>\n",
       "      <th>cn/in</th>\n",
       "      <th>aboard</th>\n",
       "      <th>fatalities</th>\n",
       "      <th>ground</th>\n",
       "      <th>summary</th>\n",
       "    </tr>\n",
       "  </thead>\n",
       "  <tbody>\n",
       "    <tr>\n",
       "      <th>26</th>\n",
       "      <td>10/20/1919</td>\n",
       "      <td>NaN</td>\n",
       "      <td>English Channel</td>\n",
       "      <td>Aircraft Transport and Travel</td>\n",
       "      <td>NaN</td>\n",
       "      <td>NaN</td>\n",
       "      <td>De Havilland DH-4</td>\n",
       "      <td>G-EAHG</td>\n",
       "      <td>NaN</td>\n",
       "      <td>NaN</td>\n",
       "      <td>NaN</td>\n",
       "      <td>NaN</td>\n",
       "      <td>NaN</td>\n",
       "    </tr>\n",
       "    <tr>\n",
       "      <th>333</th>\n",
       "      <td>08/10/1934</td>\n",
       "      <td>NaN</td>\n",
       "      <td>Ningbo, China</td>\n",
       "      <td>China National Aviation Corporation</td>\n",
       "      <td>NaN</td>\n",
       "      <td>NaN</td>\n",
       "      <td>Sikorsky S-38B</td>\n",
       "      <td>NaN</td>\n",
       "      <td>NaN</td>\n",
       "      <td>NaN</td>\n",
       "      <td>NaN</td>\n",
       "      <td>NaN</td>\n",
       "      <td>NaN</td>\n",
       "    </tr>\n",
       "    <tr>\n",
       "      <th>348</th>\n",
       "      <td>03/07/1935</td>\n",
       "      <td>NaN</td>\n",
       "      <td>Schievelbein, Germany</td>\n",
       "      <td>Deruluft</td>\n",
       "      <td>NaN</td>\n",
       "      <td>NaN</td>\n",
       "      <td>Rochrbach Roland</td>\n",
       "      <td>D-AJYP</td>\n",
       "      <td>45</td>\n",
       "      <td>NaN</td>\n",
       "      <td>3.0</td>\n",
       "      <td>0.0</td>\n",
       "      <td>Fuselage failure.</td>\n",
       "    </tr>\n",
       "    <tr>\n",
       "      <th>364</th>\n",
       "      <td>08/13/1935</td>\n",
       "      <td>NaN</td>\n",
       "      <td>Hangow, China</td>\n",
       "      <td>China National Aviation Corporation</td>\n",
       "      <td>NaN</td>\n",
       "      <td>NaN</td>\n",
       "      <td>Sikorsky S-38B</td>\n",
       "      <td>NV40V</td>\n",
       "      <td>NaN</td>\n",
       "      <td>NaN</td>\n",
       "      <td>NaN</td>\n",
       "      <td>NaN</td>\n",
       "      <td>Destoryed in a storm.</td>\n",
       "    </tr>\n",
       "    <tr>\n",
       "      <th>423</th>\n",
       "      <td>12/26/1936</td>\n",
       "      <td>NaN</td>\n",
       "      <td>Nanking, China</td>\n",
       "      <td>China National Aviation Corporation</td>\n",
       "      <td>NaN</td>\n",
       "      <td>NaN</td>\n",
       "      <td>Douglas DC-2</td>\n",
       "      <td>NC14269</td>\n",
       "      <td>NaN</td>\n",
       "      <td>NaN</td>\n",
       "      <td>NaN</td>\n",
       "      <td>NaN</td>\n",
       "      <td>NaN</td>\n",
       "    </tr>\n",
       "    <tr>\n",
       "      <th>569</th>\n",
       "      <td>02/14/1942</td>\n",
       "      <td>NaN</td>\n",
       "      <td>NaN</td>\n",
       "      <td>China National Aviation Corporation</td>\n",
       "      <td>NaN</td>\n",
       "      <td>NaN</td>\n",
       "      <td>Douglas DC-2</td>\n",
       "      <td>45</td>\n",
       "      <td>NaN</td>\n",
       "      <td>NaN</td>\n",
       "      <td>NaN</td>\n",
       "      <td>NaN</td>\n",
       "      <td>NaN</td>\n",
       "    </tr>\n",
       "    <tr>\n",
       "      <th>588</th>\n",
       "      <td>10/01/1942</td>\n",
       "      <td>NaN</td>\n",
       "      <td>Kunming, China</td>\n",
       "      <td>China National Aviation Corporation</td>\n",
       "      <td>NaN</td>\n",
       "      <td>NaN</td>\n",
       "      <td>Douglas C-47</td>\n",
       "      <td>69</td>\n",
       "      <td>NaN</td>\n",
       "      <td>NaN</td>\n",
       "      <td>NaN</td>\n",
       "      <td>NaN</td>\n",
       "      <td>Crashed while attempting to land after losing ...</td>\n",
       "    </tr>\n",
       "    <tr>\n",
       "      <th>673</th>\n",
       "      <td>11/09/1944</td>\n",
       "      <td>NaN</td>\n",
       "      <td>Seljord, Norway</td>\n",
       "      <td>Military - U.S. Army Air Corps</td>\n",
       "      <td>NaN</td>\n",
       "      <td>NaN</td>\n",
       "      <td>NaN</td>\n",
       "      <td>42-52196</td>\n",
       "      <td>NaN</td>\n",
       "      <td>NaN</td>\n",
       "      <td>NaN</td>\n",
       "      <td>NaN</td>\n",
       "      <td>NaN</td>\n",
       "    </tr>\n",
       "    <tr>\n",
       "      <th>763</th>\n",
       "      <td>03/18/1946</td>\n",
       "      <td>NaN</td>\n",
       "      <td>Between Chungking and Shanghai, China</td>\n",
       "      <td>China National Aviation Corporation</td>\n",
       "      <td>NaN</td>\n",
       "      <td>Chunking - Shanghai</td>\n",
       "      <td>NaN</td>\n",
       "      <td>139</td>\n",
       "      <td>NaN</td>\n",
       "      <td>NaN</td>\n",
       "      <td>NaN</td>\n",
       "      <td>NaN</td>\n",
       "      <td>Disappeared while en route. Plane never located.</td>\n",
       "    </tr>\n",
       "    <tr>\n",
       "      <th>827</th>\n",
       "      <td>12/25/1946</td>\n",
       "      <td>NaN</td>\n",
       "      <td>Lunghwa, Shanghai, China</td>\n",
       "      <td>China National Aviation Corporation</td>\n",
       "      <td>NaN</td>\n",
       "      <td>NaN</td>\n",
       "      <td>Curtiss C-46, C-47, DC-3</td>\n",
       "      <td>115</td>\n",
       "      <td>NaN</td>\n",
       "      <td>NaN</td>\n",
       "      <td>87.0</td>\n",
       "      <td>4.0</td>\n",
       "      <td>Various accidents involving three aircraft una...</td>\n",
       "    </tr>\n",
       "    <tr>\n",
       "      <th>1474</th>\n",
       "      <td>04/20/1957</td>\n",
       "      <td>NaN</td>\n",
       "      <td>Jirkouk, Iraq</td>\n",
       "      <td>Air France</td>\n",
       "      <td>NaN</td>\n",
       "      <td>Tehran, Iran - Istanbul, Turkey</td>\n",
       "      <td>Lockheed Super Constellation</td>\n",
       "      <td>F-BGNE</td>\n",
       "      <td>4514</td>\n",
       "      <td>NaN</td>\n",
       "      <td>1.0</td>\n",
       "      <td>0.0</td>\n",
       "      <td>Explosive decompression. A passenger was sucke...</td>\n",
       "    </tr>\n",
       "    <tr>\n",
       "      <th>3002</th>\n",
       "      <td>11/03/1977</td>\n",
       "      <td>NaN</td>\n",
       "      <td>Belgrade, Yugoslavia</td>\n",
       "      <td>El Al</td>\n",
       "      <td>NaN</td>\n",
       "      <td>NaN</td>\n",
       "      <td>Boeing B-747</td>\n",
       "      <td>NaN</td>\n",
       "      <td>NaN</td>\n",
       "      <td>NaN</td>\n",
       "      <td>1.0</td>\n",
       "      <td>0.0</td>\n",
       "      <td>Explosive decompression.</td>\n",
       "    </tr>\n",
       "    <tr>\n",
       "      <th>3318</th>\n",
       "      <td>12/16/1981</td>\n",
       "      <td>NaN</td>\n",
       "      <td>Kuala Belait, Brunei</td>\n",
       "      <td>Bristow Helicopters</td>\n",
       "      <td>NaN</td>\n",
       "      <td>NaN</td>\n",
       "      <td>Aerospatiale Puma</td>\n",
       "      <td>9M-SSC</td>\n",
       "      <td>1481</td>\n",
       "      <td>NaN</td>\n",
       "      <td>12.0</td>\n",
       "      <td>0.0</td>\n",
       "      <td>NaN</td>\n",
       "    </tr>\n",
       "    <tr>\n",
       "      <th>3837</th>\n",
       "      <td>05/09/1989</td>\n",
       "      <td>NaN</td>\n",
       "      <td>Near Tainjin, China</td>\n",
       "      <td>Aero Asahi</td>\n",
       "      <td>NaN</td>\n",
       "      <td>NaN</td>\n",
       "      <td>Bell 412</td>\n",
       "      <td>JA9596</td>\n",
       "      <td>33070</td>\n",
       "      <td>NaN</td>\n",
       "      <td>10.0</td>\n",
       "      <td>0.0</td>\n",
       "      <td>NaN</td>\n",
       "    </tr>\n",
       "  </tbody>\n",
       "</table>\n",
       "</div>"
      ],
      "text/plain": [
       "            date time                               location  \\\n",
       "26    10/20/1919  NaN                        English Channel   \n",
       "333   08/10/1934  NaN                          Ningbo, China   \n",
       "348   03/07/1935  NaN                  Schievelbein, Germany   \n",
       "364   08/13/1935  NaN                          Hangow, China   \n",
       "423   12/26/1936  NaN                         Nanking, China   \n",
       "569   02/14/1942  NaN                                    NaN   \n",
       "588   10/01/1942  NaN                         Kunming, China   \n",
       "673   11/09/1944  NaN                        Seljord, Norway   \n",
       "763   03/18/1946  NaN  Between Chungking and Shanghai, China   \n",
       "827   12/25/1946  NaN               Lunghwa, Shanghai, China   \n",
       "1474  04/20/1957  NaN                          Jirkouk, Iraq   \n",
       "3002  11/03/1977  NaN                   Belgrade, Yugoslavia   \n",
       "3318  12/16/1981  NaN                   Kuala Belait, Brunei   \n",
       "3837  05/09/1989  NaN                    Near Tainjin, China   \n",
       "\n",
       "                                 operator flight_no  \\\n",
       "26          Aircraft Transport and Travel       NaN   \n",
       "333   China National Aviation Corporation       NaN   \n",
       "348                              Deruluft       NaN   \n",
       "364   China National Aviation Corporation       NaN   \n",
       "423   China National Aviation Corporation       NaN   \n",
       "569   China National Aviation Corporation       NaN   \n",
       "588   China National Aviation Corporation       NaN   \n",
       "673        Military - U.S. Army Air Corps       NaN   \n",
       "763   China National Aviation Corporation       NaN   \n",
       "827   China National Aviation Corporation       NaN   \n",
       "1474                           Air France       NaN   \n",
       "3002                                El Al       NaN   \n",
       "3318                  Bristow Helicopters       NaN   \n",
       "3837                           Aero Asahi       NaN   \n",
       "\n",
       "                                route                          type  \\\n",
       "26                                NaN             De Havilland DH-4   \n",
       "333                               NaN                Sikorsky S-38B   \n",
       "348                               NaN              Rochrbach Roland   \n",
       "364                               NaN                Sikorsky S-38B   \n",
       "423                               NaN                  Douglas DC-2   \n",
       "569                               NaN                  Douglas DC-2   \n",
       "588                               NaN                  Douglas C-47   \n",
       "673                               NaN                           NaN   \n",
       "763               Chunking - Shanghai                           NaN   \n",
       "827                               NaN      Curtiss C-46, C-47, DC-3   \n",
       "1474  Tehran, Iran - Istanbul, Turkey  Lockheed Super Constellation   \n",
       "3002                              NaN                  Boeing B-747   \n",
       "3318                              NaN             Aerospatiale Puma   \n",
       "3837                              NaN                      Bell 412   \n",
       "\n",
       "     registration  cn/in  aboard  fatalities  ground  \\\n",
       "26         G-EAHG    NaN     NaN         NaN     NaN   \n",
       "333           NaN    NaN     NaN         NaN     NaN   \n",
       "348        D-AJYP     45     NaN         3.0     0.0   \n",
       "364         NV40V    NaN     NaN         NaN     NaN   \n",
       "423       NC14269    NaN     NaN         NaN     NaN   \n",
       "569            45    NaN     NaN         NaN     NaN   \n",
       "588            69    NaN     NaN         NaN     NaN   \n",
       "673      42-52196    NaN     NaN         NaN     NaN   \n",
       "763           139    NaN     NaN         NaN     NaN   \n",
       "827           115    NaN     NaN        87.0     4.0   \n",
       "1474       F-BGNE   4514     NaN         1.0     0.0   \n",
       "3002          NaN    NaN     NaN         1.0     0.0   \n",
       "3318       9M-SSC   1481     NaN        12.0     0.0   \n",
       "3837       JA9596  33070     NaN        10.0     0.0   \n",
       "\n",
       "                                                summary  \n",
       "26                                                  NaN  \n",
       "333                                                 NaN  \n",
       "348                                   Fuselage failure.  \n",
       "364                               Destoryed in a storm.  \n",
       "423                                                 NaN  \n",
       "569                                                 NaN  \n",
       "588   Crashed while attempting to land after losing ...  \n",
       "673                                                 NaN  \n",
       "763    Disappeared while en route. Plane never located.  \n",
       "827   Various accidents involving three aircraft una...  \n",
       "1474  Explosive decompression. A passenger was sucke...  \n",
       "3002                           Explosive decompression.  \n",
       "3318                                                NaN  \n",
       "3837                                                NaN  "
      ]
     },
     "execution_count": 27,
     "metadata": {},
     "output_type": "execute_result"
    }
   ],
   "source": [
    "airplanes_nopassengers = airplanes[(airplanes['aboard'].isna())]\n",
    "airplanes_nopassengers"
   ]
  },
  {
   "cell_type": "markdown",
   "id": "66e4186f-07f8-45c4-ac32-39ba8cb71822",
   "metadata": {},
   "source": [
    "For the last value (05/09/1989 Near Tainjin, China), 10/10 dead:\n",
    "https://aviation-safety.net/wikibase/32772"
   ]
  },
  {
   "cell_type": "code",
   "execution_count": 28,
   "id": "692d73c2-10bb-49a4-9672-8809a7cc6288",
   "metadata": {
    "tags": []
   },
   "outputs": [
    {
     "name": "stderr",
     "output_type": "stream",
     "text": [
      "/tmp/ipykernel_45867/3195782740.py:1: SettingWithCopyWarning: \n",
      "A value is trying to be set on a copy of a slice from a DataFrame\n",
      "\n",
      "See the caveats in the documentation: https://pandas.pydata.org/pandas-docs/stable/user_guide/indexing.html#returning-a-view-versus-a-copy\n",
      "  airplanes['aboard'][3837] = 10\n"
     ]
    }
   ],
   "source": [
    "airplanes['aboard'][3837] = 10"
   ]
  },
  {
   "cell_type": "code",
   "execution_count": 29,
   "id": "9d151c3e-b093-4d90-b304-1b6d12b7efef",
   "metadata": {
    "tags": []
   },
   "outputs": [
    {
     "name": "stderr",
     "output_type": "stream",
     "text": [
      "/tmp/ipykernel_45867/1402348532.py:1: SettingWithCopyWarning: \n",
      "A value is trying to be set on a copy of a slice from a DataFrame\n",
      "\n",
      "See the caveats in the documentation: https://pandas.pydata.org/pandas-docs/stable/user_guide/indexing.html#returning-a-view-versus-a-copy\n",
      "  airplanes['fatalities'][3837] = 10\n"
     ]
    }
   ],
   "source": [
    "airplanes['fatalities'][3837] = 10"
   ]
  },
  {
   "cell_type": "code",
   "execution_count": 30,
   "id": "04caaf5a-a09f-4c52-8c03-c4a2558535ab",
   "metadata": {
    "tags": []
   },
   "outputs": [
    {
     "data": {
      "text/html": [
       "<div>\n",
       "<style scoped>\n",
       "    .dataframe tbody tr th:only-of-type {\n",
       "        vertical-align: middle;\n",
       "    }\n",
       "\n",
       "    .dataframe tbody tr th {\n",
       "        vertical-align: top;\n",
       "    }\n",
       "\n",
       "    .dataframe thead th {\n",
       "        text-align: right;\n",
       "    }\n",
       "</style>\n",
       "<table border=\"1\" class=\"dataframe\">\n",
       "  <thead>\n",
       "    <tr style=\"text-align: right;\">\n",
       "      <th></th>\n",
       "      <th>date</th>\n",
       "      <th>time</th>\n",
       "      <th>location</th>\n",
       "      <th>operator</th>\n",
       "      <th>flight_no</th>\n",
       "      <th>route</th>\n",
       "      <th>type</th>\n",
       "      <th>registration</th>\n",
       "      <th>cn/in</th>\n",
       "      <th>aboard</th>\n",
       "      <th>fatalities</th>\n",
       "      <th>ground</th>\n",
       "      <th>summary</th>\n",
       "    </tr>\n",
       "  </thead>\n",
       "  <tbody>\n",
       "    <tr>\n",
       "      <th>26</th>\n",
       "      <td>10/20/1919</td>\n",
       "      <td>NaN</td>\n",
       "      <td>English Channel</td>\n",
       "      <td>Aircraft Transport and Travel</td>\n",
       "      <td>NaN</td>\n",
       "      <td>NaN</td>\n",
       "      <td>De Havilland DH-4</td>\n",
       "      <td>G-EAHG</td>\n",
       "      <td>NaN</td>\n",
       "      <td>NaN</td>\n",
       "      <td>NaN</td>\n",
       "      <td>NaN</td>\n",
       "      <td>NaN</td>\n",
       "    </tr>\n",
       "    <tr>\n",
       "      <th>333</th>\n",
       "      <td>08/10/1934</td>\n",
       "      <td>NaN</td>\n",
       "      <td>Ningbo, China</td>\n",
       "      <td>China National Aviation Corporation</td>\n",
       "      <td>NaN</td>\n",
       "      <td>NaN</td>\n",
       "      <td>Sikorsky S-38B</td>\n",
       "      <td>NaN</td>\n",
       "      <td>NaN</td>\n",
       "      <td>NaN</td>\n",
       "      <td>NaN</td>\n",
       "      <td>NaN</td>\n",
       "      <td>NaN</td>\n",
       "    </tr>\n",
       "    <tr>\n",
       "      <th>348</th>\n",
       "      <td>03/07/1935</td>\n",
       "      <td>NaN</td>\n",
       "      <td>Schievelbein, Germany</td>\n",
       "      <td>Deruluft</td>\n",
       "      <td>NaN</td>\n",
       "      <td>NaN</td>\n",
       "      <td>Rochrbach Roland</td>\n",
       "      <td>D-AJYP</td>\n",
       "      <td>45</td>\n",
       "      <td>NaN</td>\n",
       "      <td>3.0</td>\n",
       "      <td>0.0</td>\n",
       "      <td>Fuselage failure.</td>\n",
       "    </tr>\n",
       "    <tr>\n",
       "      <th>364</th>\n",
       "      <td>08/13/1935</td>\n",
       "      <td>NaN</td>\n",
       "      <td>Hangow, China</td>\n",
       "      <td>China National Aviation Corporation</td>\n",
       "      <td>NaN</td>\n",
       "      <td>NaN</td>\n",
       "      <td>Sikorsky S-38B</td>\n",
       "      <td>NV40V</td>\n",
       "      <td>NaN</td>\n",
       "      <td>NaN</td>\n",
       "      <td>NaN</td>\n",
       "      <td>NaN</td>\n",
       "      <td>Destoryed in a storm.</td>\n",
       "    </tr>\n",
       "    <tr>\n",
       "      <th>423</th>\n",
       "      <td>12/26/1936</td>\n",
       "      <td>NaN</td>\n",
       "      <td>Nanking, China</td>\n",
       "      <td>China National Aviation Corporation</td>\n",
       "      <td>NaN</td>\n",
       "      <td>NaN</td>\n",
       "      <td>Douglas DC-2</td>\n",
       "      <td>NC14269</td>\n",
       "      <td>NaN</td>\n",
       "      <td>NaN</td>\n",
       "      <td>NaN</td>\n",
       "      <td>NaN</td>\n",
       "      <td>NaN</td>\n",
       "    </tr>\n",
       "    <tr>\n",
       "      <th>569</th>\n",
       "      <td>02/14/1942</td>\n",
       "      <td>NaN</td>\n",
       "      <td>NaN</td>\n",
       "      <td>China National Aviation Corporation</td>\n",
       "      <td>NaN</td>\n",
       "      <td>NaN</td>\n",
       "      <td>Douglas DC-2</td>\n",
       "      <td>45</td>\n",
       "      <td>NaN</td>\n",
       "      <td>NaN</td>\n",
       "      <td>NaN</td>\n",
       "      <td>NaN</td>\n",
       "      <td>NaN</td>\n",
       "    </tr>\n",
       "    <tr>\n",
       "      <th>588</th>\n",
       "      <td>10/01/1942</td>\n",
       "      <td>NaN</td>\n",
       "      <td>Kunming, China</td>\n",
       "      <td>China National Aviation Corporation</td>\n",
       "      <td>NaN</td>\n",
       "      <td>NaN</td>\n",
       "      <td>Douglas C-47</td>\n",
       "      <td>69</td>\n",
       "      <td>NaN</td>\n",
       "      <td>NaN</td>\n",
       "      <td>NaN</td>\n",
       "      <td>NaN</td>\n",
       "      <td>Crashed while attempting to land after losing ...</td>\n",
       "    </tr>\n",
       "    <tr>\n",
       "      <th>673</th>\n",
       "      <td>11/09/1944</td>\n",
       "      <td>NaN</td>\n",
       "      <td>Seljord, Norway</td>\n",
       "      <td>Military - U.S. Army Air Corps</td>\n",
       "      <td>NaN</td>\n",
       "      <td>NaN</td>\n",
       "      <td>NaN</td>\n",
       "      <td>42-52196</td>\n",
       "      <td>NaN</td>\n",
       "      <td>NaN</td>\n",
       "      <td>NaN</td>\n",
       "      <td>NaN</td>\n",
       "      <td>NaN</td>\n",
       "    </tr>\n",
       "    <tr>\n",
       "      <th>763</th>\n",
       "      <td>03/18/1946</td>\n",
       "      <td>NaN</td>\n",
       "      <td>Between Chungking and Shanghai, China</td>\n",
       "      <td>China National Aviation Corporation</td>\n",
       "      <td>NaN</td>\n",
       "      <td>Chunking - Shanghai</td>\n",
       "      <td>NaN</td>\n",
       "      <td>139</td>\n",
       "      <td>NaN</td>\n",
       "      <td>NaN</td>\n",
       "      <td>NaN</td>\n",
       "      <td>NaN</td>\n",
       "      <td>Disappeared while en route. Plane never located.</td>\n",
       "    </tr>\n",
       "    <tr>\n",
       "      <th>827</th>\n",
       "      <td>12/25/1946</td>\n",
       "      <td>NaN</td>\n",
       "      <td>Lunghwa, Shanghai, China</td>\n",
       "      <td>China National Aviation Corporation</td>\n",
       "      <td>NaN</td>\n",
       "      <td>NaN</td>\n",
       "      <td>Curtiss C-46, C-47, DC-3</td>\n",
       "      <td>115</td>\n",
       "      <td>NaN</td>\n",
       "      <td>NaN</td>\n",
       "      <td>87.0</td>\n",
       "      <td>4.0</td>\n",
       "      <td>Various accidents involving three aircraft una...</td>\n",
       "    </tr>\n",
       "    <tr>\n",
       "      <th>1474</th>\n",
       "      <td>04/20/1957</td>\n",
       "      <td>NaN</td>\n",
       "      <td>Jirkouk, Iraq</td>\n",
       "      <td>Air France</td>\n",
       "      <td>NaN</td>\n",
       "      <td>Tehran, Iran - Istanbul, Turkey</td>\n",
       "      <td>Lockheed Super Constellation</td>\n",
       "      <td>F-BGNE</td>\n",
       "      <td>4514</td>\n",
       "      <td>NaN</td>\n",
       "      <td>1.0</td>\n",
       "      <td>0.0</td>\n",
       "      <td>Explosive decompression. A passenger was sucke...</td>\n",
       "    </tr>\n",
       "    <tr>\n",
       "      <th>3002</th>\n",
       "      <td>11/03/1977</td>\n",
       "      <td>NaN</td>\n",
       "      <td>Belgrade, Yugoslavia</td>\n",
       "      <td>El Al</td>\n",
       "      <td>NaN</td>\n",
       "      <td>NaN</td>\n",
       "      <td>Boeing B-747</td>\n",
       "      <td>NaN</td>\n",
       "      <td>NaN</td>\n",
       "      <td>NaN</td>\n",
       "      <td>1.0</td>\n",
       "      <td>0.0</td>\n",
       "      <td>Explosive decompression.</td>\n",
       "    </tr>\n",
       "    <tr>\n",
       "      <th>3318</th>\n",
       "      <td>12/16/1981</td>\n",
       "      <td>NaN</td>\n",
       "      <td>Kuala Belait, Brunei</td>\n",
       "      <td>Bristow Helicopters</td>\n",
       "      <td>NaN</td>\n",
       "      <td>NaN</td>\n",
       "      <td>Aerospatiale Puma</td>\n",
       "      <td>9M-SSC</td>\n",
       "      <td>1481</td>\n",
       "      <td>NaN</td>\n",
       "      <td>12.0</td>\n",
       "      <td>0.0</td>\n",
       "      <td>NaN</td>\n",
       "    </tr>\n",
       "  </tbody>\n",
       "</table>\n",
       "</div>"
      ],
      "text/plain": [
       "            date time                               location  \\\n",
       "26    10/20/1919  NaN                        English Channel   \n",
       "333   08/10/1934  NaN                          Ningbo, China   \n",
       "348   03/07/1935  NaN                  Schievelbein, Germany   \n",
       "364   08/13/1935  NaN                          Hangow, China   \n",
       "423   12/26/1936  NaN                         Nanking, China   \n",
       "569   02/14/1942  NaN                                    NaN   \n",
       "588   10/01/1942  NaN                         Kunming, China   \n",
       "673   11/09/1944  NaN                        Seljord, Norway   \n",
       "763   03/18/1946  NaN  Between Chungking and Shanghai, China   \n",
       "827   12/25/1946  NaN               Lunghwa, Shanghai, China   \n",
       "1474  04/20/1957  NaN                          Jirkouk, Iraq   \n",
       "3002  11/03/1977  NaN                   Belgrade, Yugoslavia   \n",
       "3318  12/16/1981  NaN                   Kuala Belait, Brunei   \n",
       "\n",
       "                                 operator flight_no  \\\n",
       "26          Aircraft Transport and Travel       NaN   \n",
       "333   China National Aviation Corporation       NaN   \n",
       "348                              Deruluft       NaN   \n",
       "364   China National Aviation Corporation       NaN   \n",
       "423   China National Aviation Corporation       NaN   \n",
       "569   China National Aviation Corporation       NaN   \n",
       "588   China National Aviation Corporation       NaN   \n",
       "673        Military - U.S. Army Air Corps       NaN   \n",
       "763   China National Aviation Corporation       NaN   \n",
       "827   China National Aviation Corporation       NaN   \n",
       "1474                           Air France       NaN   \n",
       "3002                                El Al       NaN   \n",
       "3318                  Bristow Helicopters       NaN   \n",
       "\n",
       "                                route                          type  \\\n",
       "26                                NaN             De Havilland DH-4   \n",
       "333                               NaN                Sikorsky S-38B   \n",
       "348                               NaN              Rochrbach Roland   \n",
       "364                               NaN                Sikorsky S-38B   \n",
       "423                               NaN                  Douglas DC-2   \n",
       "569                               NaN                  Douglas DC-2   \n",
       "588                               NaN                  Douglas C-47   \n",
       "673                               NaN                           NaN   \n",
       "763               Chunking - Shanghai                           NaN   \n",
       "827                               NaN      Curtiss C-46, C-47, DC-3   \n",
       "1474  Tehran, Iran - Istanbul, Turkey  Lockheed Super Constellation   \n",
       "3002                              NaN                  Boeing B-747   \n",
       "3318                              NaN             Aerospatiale Puma   \n",
       "\n",
       "     registration cn/in  aboard  fatalities  ground  \\\n",
       "26         G-EAHG   NaN     NaN         NaN     NaN   \n",
       "333           NaN   NaN     NaN         NaN     NaN   \n",
       "348        D-AJYP    45     NaN         3.0     0.0   \n",
       "364         NV40V   NaN     NaN         NaN     NaN   \n",
       "423       NC14269   NaN     NaN         NaN     NaN   \n",
       "569            45   NaN     NaN         NaN     NaN   \n",
       "588            69   NaN     NaN         NaN     NaN   \n",
       "673      42-52196   NaN     NaN         NaN     NaN   \n",
       "763           139   NaN     NaN         NaN     NaN   \n",
       "827           115   NaN     NaN        87.0     4.0   \n",
       "1474       F-BGNE  4514     NaN         1.0     0.0   \n",
       "3002          NaN   NaN     NaN         1.0     0.0   \n",
       "3318       9M-SSC  1481     NaN        12.0     0.0   \n",
       "\n",
       "                                                summary  \n",
       "26                                                  NaN  \n",
       "333                                                 NaN  \n",
       "348                                   Fuselage failure.  \n",
       "364                               Destoryed in a storm.  \n",
       "423                                                 NaN  \n",
       "569                                                 NaN  \n",
       "588   Crashed while attempting to land after losing ...  \n",
       "673                                                 NaN  \n",
       "763    Disappeared while en route. Plane never located.  \n",
       "827   Various accidents involving three aircraft una...  \n",
       "1474  Explosive decompression. A passenger was sucke...  \n",
       "3002                           Explosive decompression.  \n",
       "3318                                                NaN  "
      ]
     },
     "execution_count": 30,
     "metadata": {},
     "output_type": "execute_result"
    }
   ],
   "source": [
    "airplanes_nopassengers = airplanes[(airplanes['aboard'].isna())]\n",
    "airplanes_nopassengers"
   ]
  },
  {
   "cell_type": "markdown",
   "id": "1999021f-c186-4ae3-883c-a6de9e3a4bbc",
   "metadata": {},
   "source": [
    "10/20/1919 - http://www.planecrashinfo.com/1920/1920-31.htm One aboard, no fatalities.<br>\n",
    "08/10/1934 - http://www.planecrashinfo.com/1934/1934-18.htm Undetermined aboard & fatalities.<br>\n",
    "03/07/1935 - https://aviation-safety.net/database/record.php?id=19350720-0 13/13 dead<br>\n",
    "08/13/1935 - http://www.planecrashinfo.com/1935/1935-24.htm Undetermined aboard & fatalities.<br>\n",
    "12/26/1936 - http://www.planecrashinfo.com/1936/1936-49.htm Undetermined aboard & fatalities.<br>\n",
    "02/14/1942 - No info<br>\n",
    "10/01/1942 - No info<br>\n",
    "11/09/1944 - https://www.baaa-acro.com/crash/crash-consolidated-b-24-liberator-near-seljord-10-killed 10/10 killed. Also, info about the plane (B-24) and accident description. Not a war related loss but an accident.<br>\n",
    "03/18/1946 - http://www.planecrashinfo.com/1946/1946-15.htm Undetermined aboard & fatalities.<br>\n",
    "12/25/1946 - Several matches, no complete match with the information we have (none of them have 4 ground casualties). <br>\n",
    "04/20/1957 - http://www.planecrashinfo.com/1957/1957-21.htm Undetermined aboard, one fatality.<br>\n",
    "11/03/1977 - http://www.airsafe.com/events/airlines/elal.htm One fatality<br>\n",
    "12/16/1981 - https://aviation-safety.net/wikibase/33132 12/12 fatalities. The year is incorrect according to at least 2 different sources - happened in 1980 at 16:15"
   ]
  },
  {
   "cell_type": "markdown",
   "id": "7c5580e6-dd90-4221-aa2e-f6da26a45ee4",
   "metadata": {},
   "source": [
    "With this recovered information we can fill out the missing info a decide what to do with the rows for which we have no information. <br>We need to take into consideration the historic context - the missing information is all from one source, the China National Aviation Corporation. This airliner was part of the Nationalist Chinese goverment before they lost the war, so the information (specially in the last years) is expected to be unclear. <br>Since we are talking about 7 rows, we can also drop them so we have no other missing values for fatalities in the dataset, and then fill out the new information obtained."
   ]
  },
  {
   "cell_type": "code",
   "execution_count": 31,
   "id": "d2484cc9-c547-4609-9e52-122974cd060f",
   "metadata": {
    "tags": []
   },
   "outputs": [],
   "source": [
    "airplanes = airplanes.drop([airplanes.index[333], airplanes.index[364], airplanes.index[423], airplanes.index[569], airplanes.index[588], airplanes.index[763], airplanes.index[827]])\n",
    "airplanes = airplanes.reset_index(drop=True)"
   ]
  },
  {
   "cell_type": "code",
   "execution_count": 32,
   "id": "a23caa27-8261-4c25-bf2d-57d3d3eadb44",
   "metadata": {
    "tags": []
   },
   "outputs": [
    {
     "data": {
      "text/html": [
       "<div>\n",
       "<style scoped>\n",
       "    .dataframe tbody tr th:only-of-type {\n",
       "        vertical-align: middle;\n",
       "    }\n",
       "\n",
       "    .dataframe tbody tr th {\n",
       "        vertical-align: top;\n",
       "    }\n",
       "\n",
       "    .dataframe thead th {\n",
       "        text-align: right;\n",
       "    }\n",
       "</style>\n",
       "<table border=\"1\" class=\"dataframe\">\n",
       "  <thead>\n",
       "    <tr style=\"text-align: right;\">\n",
       "      <th></th>\n",
       "      <th>date</th>\n",
       "      <th>time</th>\n",
       "      <th>location</th>\n",
       "      <th>operator</th>\n",
       "      <th>flight_no</th>\n",
       "      <th>route</th>\n",
       "      <th>type</th>\n",
       "      <th>registration</th>\n",
       "      <th>cn/in</th>\n",
       "      <th>aboard</th>\n",
       "      <th>fatalities</th>\n",
       "      <th>ground</th>\n",
       "      <th>summary</th>\n",
       "    </tr>\n",
       "  </thead>\n",
       "  <tbody>\n",
       "    <tr>\n",
       "      <th>26</th>\n",
       "      <td>10/20/1919</td>\n",
       "      <td>NaN</td>\n",
       "      <td>English Channel</td>\n",
       "      <td>Aircraft Transport and Travel</td>\n",
       "      <td>NaN</td>\n",
       "      <td>NaN</td>\n",
       "      <td>De Havilland DH-4</td>\n",
       "      <td>G-EAHG</td>\n",
       "      <td>NaN</td>\n",
       "      <td>NaN</td>\n",
       "      <td>NaN</td>\n",
       "      <td>NaN</td>\n",
       "      <td>NaN</td>\n",
       "    </tr>\n",
       "    <tr>\n",
       "      <th>347</th>\n",
       "      <td>03/07/1935</td>\n",
       "      <td>NaN</td>\n",
       "      <td>Schievelbein, Germany</td>\n",
       "      <td>Deruluft</td>\n",
       "      <td>NaN</td>\n",
       "      <td>NaN</td>\n",
       "      <td>Rochrbach Roland</td>\n",
       "      <td>D-AJYP</td>\n",
       "      <td>45</td>\n",
       "      <td>NaN</td>\n",
       "      <td>3.0</td>\n",
       "      <td>0.0</td>\n",
       "      <td>Fuselage failure.</td>\n",
       "    </tr>\n",
       "    <tr>\n",
       "      <th>668</th>\n",
       "      <td>11/09/1944</td>\n",
       "      <td>NaN</td>\n",
       "      <td>Seljord, Norway</td>\n",
       "      <td>Military - U.S. Army Air Corps</td>\n",
       "      <td>NaN</td>\n",
       "      <td>NaN</td>\n",
       "      <td>NaN</td>\n",
       "      <td>42-52196</td>\n",
       "      <td>NaN</td>\n",
       "      <td>NaN</td>\n",
       "      <td>NaN</td>\n",
       "      <td>NaN</td>\n",
       "      <td>NaN</td>\n",
       "    </tr>\n",
       "    <tr>\n",
       "      <th>1467</th>\n",
       "      <td>04/20/1957</td>\n",
       "      <td>NaN</td>\n",
       "      <td>Jirkouk, Iraq</td>\n",
       "      <td>Air France</td>\n",
       "      <td>NaN</td>\n",
       "      <td>Tehran, Iran - Istanbul, Turkey</td>\n",
       "      <td>Lockheed Super Constellation</td>\n",
       "      <td>F-BGNE</td>\n",
       "      <td>4514</td>\n",
       "      <td>NaN</td>\n",
       "      <td>1.0</td>\n",
       "      <td>0.0</td>\n",
       "      <td>Explosive decompression. A passenger was sucke...</td>\n",
       "    </tr>\n",
       "    <tr>\n",
       "      <th>2995</th>\n",
       "      <td>11/03/1977</td>\n",
       "      <td>NaN</td>\n",
       "      <td>Belgrade, Yugoslavia</td>\n",
       "      <td>El Al</td>\n",
       "      <td>NaN</td>\n",
       "      <td>NaN</td>\n",
       "      <td>Boeing B-747</td>\n",
       "      <td>NaN</td>\n",
       "      <td>NaN</td>\n",
       "      <td>NaN</td>\n",
       "      <td>1.0</td>\n",
       "      <td>0.0</td>\n",
       "      <td>Explosive decompression.</td>\n",
       "    </tr>\n",
       "    <tr>\n",
       "      <th>3311</th>\n",
       "      <td>12/16/1981</td>\n",
       "      <td>NaN</td>\n",
       "      <td>Kuala Belait, Brunei</td>\n",
       "      <td>Bristow Helicopters</td>\n",
       "      <td>NaN</td>\n",
       "      <td>NaN</td>\n",
       "      <td>Aerospatiale Puma</td>\n",
       "      <td>9M-SSC</td>\n",
       "      <td>1481</td>\n",
       "      <td>NaN</td>\n",
       "      <td>12.0</td>\n",
       "      <td>0.0</td>\n",
       "      <td>NaN</td>\n",
       "    </tr>\n",
       "  </tbody>\n",
       "</table>\n",
       "</div>"
      ],
      "text/plain": [
       "            date time               location                        operator  \\\n",
       "26    10/20/1919  NaN        English Channel   Aircraft Transport and Travel   \n",
       "347   03/07/1935  NaN  Schievelbein, Germany                        Deruluft   \n",
       "668   11/09/1944  NaN        Seljord, Norway  Military - U.S. Army Air Corps   \n",
       "1467  04/20/1957  NaN          Jirkouk, Iraq                      Air France   \n",
       "2995  11/03/1977  NaN   Belgrade, Yugoslavia                           El Al   \n",
       "3311  12/16/1981  NaN   Kuala Belait, Brunei             Bristow Helicopters   \n",
       "\n",
       "     flight_no                            route                          type  \\\n",
       "26         NaN                              NaN             De Havilland DH-4   \n",
       "347        NaN                              NaN              Rochrbach Roland   \n",
       "668        NaN                              NaN                           NaN   \n",
       "1467       NaN  Tehran, Iran - Istanbul, Turkey  Lockheed Super Constellation   \n",
       "2995       NaN                              NaN                  Boeing B-747   \n",
       "3311       NaN                              NaN             Aerospatiale Puma   \n",
       "\n",
       "     registration cn/in  aboard  fatalities  ground  \\\n",
       "26         G-EAHG   NaN     NaN         NaN     NaN   \n",
       "347        D-AJYP    45     NaN         3.0     0.0   \n",
       "668      42-52196   NaN     NaN         NaN     NaN   \n",
       "1467       F-BGNE  4514     NaN         1.0     0.0   \n",
       "2995          NaN   NaN     NaN         1.0     0.0   \n",
       "3311       9M-SSC  1481     NaN        12.0     0.0   \n",
       "\n",
       "                                                summary  \n",
       "26                                                  NaN  \n",
       "347                                   Fuselage failure.  \n",
       "668                                                 NaN  \n",
       "1467  Explosive decompression. A passenger was sucke...  \n",
       "2995                           Explosive decompression.  \n",
       "3311                                                NaN  "
      ]
     },
     "execution_count": 32,
     "metadata": {},
     "output_type": "execute_result"
    }
   ],
   "source": [
    "airplanes_nopassengers = airplanes[(airplanes['aboard'].isna())]\n",
    "airplanes_nopassengers"
   ]
  },
  {
   "cell_type": "code",
   "execution_count": 33,
   "id": "e74a665d-54f9-4614-b3e6-41f3c2eefac5",
   "metadata": {
    "tags": []
   },
   "outputs": [
    {
     "name": "stderr",
     "output_type": "stream",
     "text": [
      "/tmp/ipykernel_45867/3906361751.py:1: SettingWithCopyWarning: \n",
      "A value is trying to be set on a copy of a slice from a DataFrame\n",
      "\n",
      "See the caveats in the documentation: https://pandas.pydata.org/pandas-docs/stable/user_guide/indexing.html#returning-a-view-versus-a-copy\n",
      "  airplanes['aboard'][26] = 1\n",
      "/tmp/ipykernel_45867/3906361751.py:2: SettingWithCopyWarning: \n",
      "A value is trying to be set on a copy of a slice from a DataFrame\n",
      "\n",
      "See the caveats in the documentation: https://pandas.pydata.org/pandas-docs/stable/user_guide/indexing.html#returning-a-view-versus-a-copy\n",
      "  airplanes['fatalities'][26] = 0\n",
      "/tmp/ipykernel_45867/3906361751.py:3: SettingWithCopyWarning: \n",
      "A value is trying to be set on a copy of a slice from a DataFrame\n",
      "\n",
      "See the caveats in the documentation: https://pandas.pydata.org/pandas-docs/stable/user_guide/indexing.html#returning-a-view-versus-a-copy\n",
      "  airplanes['ground'][26] = 0\n",
      "/tmp/ipykernel_45867/3906361751.py:4: SettingWithCopyWarning: \n",
      "A value is trying to be set on a copy of a slice from a DataFrame\n",
      "\n",
      "See the caveats in the documentation: https://pandas.pydata.org/pandas-docs/stable/user_guide/indexing.html#returning-a-view-versus-a-copy\n",
      "  airplanes['summary'][26] = '''Crashed into the sea while attempting to land in fog.'''\n",
      "/tmp/ipykernel_45867/3906361751.py:6: SettingWithCopyWarning: \n",
      "A value is trying to be set on a copy of a slice from a DataFrame\n",
      "\n",
      "See the caveats in the documentation: https://pandas.pydata.org/pandas-docs/stable/user_guide/indexing.html#returning-a-view-versus-a-copy\n",
      "  airplanes['aboard'][347] = 13\n",
      "/tmp/ipykernel_45867/3906361751.py:7: SettingWithCopyWarning: \n",
      "A value is trying to be set on a copy of a slice from a DataFrame\n",
      "\n",
      "See the caveats in the documentation: https://pandas.pydata.org/pandas-docs/stable/user_guide/indexing.html#returning-a-view-versus-a-copy\n",
      "  airplanes['fatalities'][347] = 13\n",
      "/tmp/ipykernel_45867/3906361751.py:8: SettingWithCopyWarning: \n",
      "A value is trying to be set on a copy of a slice from a DataFrame\n",
      "\n",
      "See the caveats in the documentation: https://pandas.pydata.org/pandas-docs/stable/user_guide/indexing.html#returning-a-view-versus-a-copy\n",
      "  airplanes['summary'][347] = '''The DC-2, named \"Gaai\" operated on a passenger service from Milan, Italy to Amsterdam, the Netherlands. The aircraft took off at 11:36 hours,\n",
      "/tmp/ipykernel_45867/3906361751.py:15: SettingWithCopyWarning: \n",
      "A value is trying to be set on a copy of a slice from a DataFrame\n",
      "\n",
      "See the caveats in the documentation: https://pandas.pydata.org/pandas-docs/stable/user_guide/indexing.html#returning-a-view-versus-a-copy\n",
      "  airplanes['aboard'][668] = 10\n",
      "/tmp/ipykernel_45867/3906361751.py:16: SettingWithCopyWarning: \n",
      "A value is trying to be set on a copy of a slice from a DataFrame\n",
      "\n",
      "See the caveats in the documentation: https://pandas.pydata.org/pandas-docs/stable/user_guide/indexing.html#returning-a-view-versus-a-copy\n",
      "  airplanes['fatalities'][668] = 10\n",
      "/tmp/ipykernel_45867/3906361751.py:17: SettingWithCopyWarning: \n",
      "A value is trying to be set on a copy of a slice from a DataFrame\n",
      "\n",
      "See the caveats in the documentation: https://pandas.pydata.org/pandas-docs/stable/user_guide/indexing.html#returning-a-view-versus-a-copy\n",
      "  airplanes['ground'][668] = 0\n",
      "/tmp/ipykernel_45867/3906361751.py:18: SettingWithCopyWarning: \n",
      "A value is trying to be set on a copy of a slice from a DataFrame\n",
      "\n",
      "See the caveats in the documentation: https://pandas.pydata.org/pandas-docs/stable/user_guide/indexing.html#returning-a-view-versus-a-copy\n",
      "  airplanes['type'][668] = '''Consolidated B-24 Liberator'''\n",
      "/tmp/ipykernel_45867/3906361751.py:19: SettingWithCopyWarning: \n",
      "A value is trying to be set on a copy of a slice from a DataFrame\n",
      "\n",
      "See the caveats in the documentation: https://pandas.pydata.org/pandas-docs/stable/user_guide/indexing.html#returning-a-view-versus-a-copy\n",
      "  airplanes['summary'][668] = ''' En route, the crew encountered poor weather and icing conditions. While all engines and both wings were contaminated by ice,\n",
      "/tmp/ipykernel_45867/3906361751.py:22: SettingWithCopyWarning: \n",
      "A value is trying to be set on a copy of a slice from a DataFrame\n",
      "\n",
      "See the caveats in the documentation: https://pandas.pydata.org/pandas-docs/stable/user_guide/indexing.html#returning-a-view-versus-a-copy\n",
      "  airplanes['aboard'][3311] = 12\n",
      "/tmp/ipykernel_45867/3906361751.py:23: SettingWithCopyWarning: \n",
      "A value is trying to be set on a copy of a slice from a DataFrame\n",
      "\n",
      "See the caveats in the documentation: https://pandas.pydata.org/pandas-docs/stable/user_guide/indexing.html#returning-a-view-versus-a-copy\n",
      "  airplanes['fatalities'][3311] = 12\n",
      "/tmp/ipykernel_45867/3906361751.py:24: SettingWithCopyWarning: \n",
      "A value is trying to be set on a copy of a slice from a DataFrame\n",
      "\n",
      "See the caveats in the documentation: https://pandas.pydata.org/pandas-docs/stable/user_guide/indexing.html#returning-a-view-versus-a-copy\n",
      "  airplanes['summary'][3311] = '''A second stage epicyclic module planetary gear fatigue failure caused loss of the main rotor, which severed the tail, causing the aircraft\n"
     ]
    }
   ],
   "source": [
    "airplanes['aboard'][26] = 1\n",
    "airplanes['fatalities'][26] = 0\n",
    "airplanes['ground'][26] = 0\n",
    "airplanes['summary'][26] = '''Crashed into the sea while attempting to land in fog.'''\n",
    "\n",
    "airplanes['aboard'][347] = 13\n",
    "airplanes['fatalities'][347] = 13\n",
    "airplanes['summary'][347] = '''The DC-2, named \"Gaai\" operated on a passenger service from Milan, Italy to Amsterdam, the Netherlands. The aircraft took off at 11:36 hours, \n",
    "bound for Frankfurt, Germany, which was the next planned stop. Cruising at 5000 m altitude, ice accretion forced the crew to descend. At 3000 m the flight was out of \n",
    "icing conditions. However the aircraft was now flying between clouds shrouded mountains. Attempting to navigate visually, the flight continued at low altitude. \n",
    "Likely the crew entered the wrong mountain pass. They circled a valley, looking for a way out but low clouds and rain made it very difficult to continue flight.\n",
    "The captain likely decided to perform a gear-up forced landing in the valley. Flaps were selected down and engine power was decreased. In a left hand turn the aircraft \n",
    "stalled and impacted the ground. The four crew members and the nine passengers died.'''\n",
    "\n",
    "airplanes['aboard'][668] = 10\n",
    "airplanes['fatalities'][668] = 10\n",
    "airplanes['ground'][668] = 0\n",
    "airplanes['type'][668] = '''Consolidated B-24 Liberator'''\n",
    "airplanes['summary'][668] = ''' En route, the crew encountered poor weather and icing conditions. While all engines and both wings were contaminated by ice, \n",
    "the aircraft was unable to maintain the prescribed altitude and hit the slope of Mt Skorve located in the region of Seljord. All ten crew members were killed. '''\n",
    "\n",
    "airplanes['aboard'][3311] = 12\n",
    "airplanes['fatalities'][3311] = 12\n",
    "airplanes['summary'][3311] = '''A second stage epicyclic module planetary gear fatigue failure caused loss of the main rotor, which severed the tail, causing the aircraft \n",
    "to crash in a swamp near the border settlement of Kuala Belait. The gearbox had a recent history of metallic debris being found on the magnetic chip detector\n",
    "in the main module. The aircraft was on contract to Sarawak Shell. '''"
   ]
  },
  {
   "cell_type": "code",
   "execution_count": 34,
   "id": "c538a8f0-4b13-48ef-a4b1-df59c421d530",
   "metadata": {
    "tags": []
   },
   "outputs": [
    {
     "data": {
      "text/html": [
       "<div>\n",
       "<style scoped>\n",
       "    .dataframe tbody tr th:only-of-type {\n",
       "        vertical-align: middle;\n",
       "    }\n",
       "\n",
       "    .dataframe tbody tr th {\n",
       "        vertical-align: top;\n",
       "    }\n",
       "\n",
       "    .dataframe thead th {\n",
       "        text-align: right;\n",
       "    }\n",
       "</style>\n",
       "<table border=\"1\" class=\"dataframe\">\n",
       "  <thead>\n",
       "    <tr style=\"text-align: right;\">\n",
       "      <th></th>\n",
       "      <th>date</th>\n",
       "      <th>time</th>\n",
       "      <th>location</th>\n",
       "      <th>operator</th>\n",
       "      <th>flight_no</th>\n",
       "      <th>route</th>\n",
       "      <th>type</th>\n",
       "      <th>registration</th>\n",
       "      <th>cn/in</th>\n",
       "      <th>aboard</th>\n",
       "      <th>fatalities</th>\n",
       "      <th>ground</th>\n",
       "      <th>summary</th>\n",
       "    </tr>\n",
       "  </thead>\n",
       "  <tbody>\n",
       "    <tr>\n",
       "      <th>1467</th>\n",
       "      <td>04/20/1957</td>\n",
       "      <td>NaN</td>\n",
       "      <td>Jirkouk, Iraq</td>\n",
       "      <td>Air France</td>\n",
       "      <td>NaN</td>\n",
       "      <td>Tehran, Iran - Istanbul, Turkey</td>\n",
       "      <td>Lockheed Super Constellation</td>\n",
       "      <td>F-BGNE</td>\n",
       "      <td>4514</td>\n",
       "      <td>NaN</td>\n",
       "      <td>1.0</td>\n",
       "      <td>0.0</td>\n",
       "      <td>Explosive decompression. A passenger was sucke...</td>\n",
       "    </tr>\n",
       "    <tr>\n",
       "      <th>2995</th>\n",
       "      <td>11/03/1977</td>\n",
       "      <td>NaN</td>\n",
       "      <td>Belgrade, Yugoslavia</td>\n",
       "      <td>El Al</td>\n",
       "      <td>NaN</td>\n",
       "      <td>NaN</td>\n",
       "      <td>Boeing B-747</td>\n",
       "      <td>NaN</td>\n",
       "      <td>NaN</td>\n",
       "      <td>NaN</td>\n",
       "      <td>1.0</td>\n",
       "      <td>0.0</td>\n",
       "      <td>Explosive decompression.</td>\n",
       "    </tr>\n",
       "  </tbody>\n",
       "</table>\n",
       "</div>"
      ],
      "text/plain": [
       "            date time              location    operator flight_no  \\\n",
       "1467  04/20/1957  NaN         Jirkouk, Iraq  Air France       NaN   \n",
       "2995  11/03/1977  NaN  Belgrade, Yugoslavia       El Al       NaN   \n",
       "\n",
       "                                route                          type  \\\n",
       "1467  Tehran, Iran - Istanbul, Turkey  Lockheed Super Constellation   \n",
       "2995                              NaN                  Boeing B-747   \n",
       "\n",
       "     registration cn/in  aboard  fatalities  ground  \\\n",
       "1467       F-BGNE  4514     NaN         1.0     0.0   \n",
       "2995          NaN   NaN     NaN         1.0     0.0   \n",
       "\n",
       "                                                summary  \n",
       "1467  Explosive decompression. A passenger was sucke...  \n",
       "2995                           Explosive decompression.  "
      ]
     },
     "execution_count": 34,
     "metadata": {},
     "output_type": "execute_result"
    }
   ],
   "source": [
    "airplanes_nopassengers = airplanes[(airplanes['aboard'].isna())]\n",
    "airplanes_nopassengers"
   ]
  },
  {
   "cell_type": "markdown",
   "id": "b7d484cb-a0a2-45db-a276-9173650ed876",
   "metadata": {},
   "source": [
    "We only have 2 remaining Nas for the aboard column. Not so relevant as we are focused more on the number of casualties. Both are decompression incidents so we can also calculate the ratio of these compared to the total of accidents."
   ]
  },
  {
   "cell_type": "markdown",
   "id": "69e7a6ab-8516-4176-bedc-05ea3b09c253",
   "metadata": {},
   "source": [
    "<h3>Fatalities<h3>"
   ]
  },
  {
   "cell_type": "markdown",
   "id": "ac60286f-7e9a-4574-bc5e-88234a075b39",
   "metadata": {},
   "source": [
    "Without any doubt, the worst possible issue that an airline company can face, even if the deaths are related to an underlying medical condition of the passenger, the mere association to the flight industry is a grime reminder of the human fragility."
   ]
  },
  {
   "cell_type": "code",
   "execution_count": 35,
   "id": "1e8163d0-fba9-4559-b6a5-b8b10887bdf6",
   "metadata": {
    "tags": []
   },
   "outputs": [
    {
     "data": {
      "text/plain": [
       "0"
      ]
     },
     "execution_count": 35,
     "metadata": {},
     "output_type": "execute_result"
    }
   ],
   "source": [
    "airplanes['fatalities'].isna().sum()"
   ]
  },
  {
   "cell_type": "markdown",
   "id": "77b5ed9d-334d-4609-b902-3923d72a5ea3",
   "metadata": {},
   "source": [
    "We don't have any missing values. Looks like the ones already filled in manually and the rows we dropped with no information has completed this column as well. We will explore now the ground column."
   ]
  },
  {
   "cell_type": "markdown",
   "id": "2fbf6055-f439-4d05-91fb-88a6061f7f6f",
   "metadata": {},
   "source": [
    "<h3>Ground<h3>"
   ]
  },
  {
   "cell_type": "markdown",
   "id": "6429233e-a859-4cd0-aac7-57c188a1e646",
   "metadata": {},
   "source": [
    "Ground, when talking about aircraft accidents, is how we refer to the casualties derived from the accident that are not inside the aircraft, like ground personnel or, in case with crashes with buildings, people inside those."
   ]
  },
  {
   "cell_type": "code",
   "execution_count": 36,
   "id": "a63be199-0c26-4858-939c-573cfc4de6f9",
   "metadata": {
    "tags": []
   },
   "outputs": [
    {
     "data": {
      "text/plain": [
       "11"
      ]
     },
     "execution_count": 36,
     "metadata": {},
     "output_type": "execute_result"
    }
   ],
   "source": [
    "airplanes['ground'].isna().sum()"
   ]
  },
  {
   "cell_type": "markdown",
   "id": "3325fd1f-011d-4e0a-8fba-42d3e1baef39",
   "metadata": {},
   "source": [
    "We have 11 missing values. Let's take a look and find out if we can fill those out too."
   ]
  },
  {
   "cell_type": "code",
   "execution_count": 55,
   "id": "6d6421aa-dd42-4a1e-8cba-69f1d9736082",
   "metadata": {
    "tags": []
   },
   "outputs": [
    {
     "data": {
      "text/html": [
       "<div>\n",
       "<style scoped>\n",
       "    .dataframe tbody tr th:only-of-type {\n",
       "        vertical-align: middle;\n",
       "    }\n",
       "\n",
       "    .dataframe tbody tr th {\n",
       "        vertical-align: top;\n",
       "    }\n",
       "\n",
       "    .dataframe thead th {\n",
       "        text-align: right;\n",
       "    }\n",
       "</style>\n",
       "<table border=\"1\" class=\"dataframe\">\n",
       "  <thead>\n",
       "    <tr style=\"text-align: right;\">\n",
       "      <th></th>\n",
       "      <th>date</th>\n",
       "      <th>time</th>\n",
       "      <th>location</th>\n",
       "      <th>operator</th>\n",
       "      <th>flight_no</th>\n",
       "      <th>route</th>\n",
       "      <th>type</th>\n",
       "      <th>registration</th>\n",
       "      <th>cn/in</th>\n",
       "      <th>aboard</th>\n",
       "      <th>fatalities</th>\n",
       "      <th>ground</th>\n",
       "      <th>summary</th>\n",
       "    </tr>\n",
       "  </thead>\n",
       "  <tbody>\n",
       "    <tr>\n",
       "      <th>310</th>\n",
       "      <td>11/20/1933</td>\n",
       "      <td>NaN</td>\n",
       "      <td>Near Tsinan, China</td>\n",
       "      <td>China National Aviation Corporation</td>\n",
       "      <td>NaN</td>\n",
       "      <td>Canton - Shanghi</td>\n",
       "      <td>Sinson</td>\n",
       "      <td>NaN</td>\n",
       "      <td>NaN</td>\n",
       "      <td>8.0</td>\n",
       "      <td>8.0</td>\n",
       "      <td>NaN</td>\n",
       "      <td>Crashed into the Chingshan mountain range in fog.</td>\n",
       "    </tr>\n",
       "    <tr>\n",
       "      <th>5250</th>\n",
       "      <td>05/26/2009</td>\n",
       "      <td>NaN</td>\n",
       "      <td>Near Isiro, DemocratiRepubliCongo</td>\n",
       "      <td>Service Air</td>\n",
       "      <td>NaN</td>\n",
       "      <td>Goma - Isiro</td>\n",
       "      <td>Antonov An-26</td>\n",
       "      <td>9Q-CSA</td>\n",
       "      <td>5005</td>\n",
       "      <td>4.0</td>\n",
       "      <td>4.0</td>\n",
       "      <td>NaN</td>\n",
       "      <td>The cargo plane crashed while on approach to I...</td>\n",
       "    </tr>\n",
       "  </tbody>\n",
       "</table>\n",
       "</div>"
      ],
      "text/plain": [
       "            date time                           location  \\\n",
       "310   11/20/1933  NaN                 Near Tsinan, China   \n",
       "5250  05/26/2009  NaN  Near Isiro, DemocratiRepubliCongo   \n",
       "\n",
       "                                 operator flight_no             route  \\\n",
       "310   China National Aviation Corporation       NaN  Canton - Shanghi   \n",
       "5250                          Service Air       NaN      Goma - Isiro   \n",
       "\n",
       "               type registration cn/in  aboard  fatalities  ground  \\\n",
       "310          Sinson          NaN   NaN     8.0         8.0     NaN   \n",
       "5250  Antonov An-26       9Q-CSA  5005     4.0         4.0     NaN   \n",
       "\n",
       "                                                summary  \n",
       "310   Crashed into the Chingshan mountain range in fog.  \n",
       "5250  The cargo plane crashed while on approach to I...  "
      ]
     },
     "execution_count": 55,
     "metadata": {},
     "output_type": "execute_result"
    }
   ],
   "source": [
    "airplanes_ground = airplanes[(airplanes['ground'].isna())]\n",
    "airplanes_ground"
   ]
  },
  {
   "cell_type": "markdown",
   "id": "3c3079e3-4b8c-4989-99af-33654518b7fb",
   "metadata": {},
   "source": [
    "We can find very relevant information on the summary column for these (only one has no summary)."
   ]
  },
  {
   "cell_type": "code",
   "execution_count": 38,
   "id": "1ccf17c4-1dd8-433b-9275-c719f3598b3b",
   "metadata": {
    "tags": []
   },
   "outputs": [
    {
     "data": {
      "text/plain": [
       "'Crashed into a mountainside at an altitude of 4,500  feet during a snowstorm.'"
      ]
     },
     "execution_count": 38,
     "metadata": {},
     "output_type": "execute_result"
    }
   ],
   "source": [
    "airplanes_ground['summary'][228]"
   ]
  },
  {
   "cell_type": "markdown",
   "id": "461ff71b-e95d-486b-a303-875c885a284f",
   "metadata": {},
   "source": [
    "We can safely assume no ground casualties at that height."
   ]
  },
  {
   "cell_type": "code",
   "execution_count": 40,
   "id": "fa8e2b84-0e80-4349-a74d-b3e0caef919e",
   "metadata": {
    "tags": []
   },
   "outputs": [
    {
     "data": {
      "text/plain": [
       "'Crashed in a thickly wooded area upon taking off after the pilot became lost in fog.'"
      ]
     },
     "execution_count": 40,
     "metadata": {},
     "output_type": "execute_result"
    }
   ],
   "source": [
    "airplanes_ground['summary'][308]"
   ]
  },
  {
   "cell_type": "markdown",
   "id": "3cad96b7-a385-4164-ab37-773aa6f70db5",
   "metadata": {},
   "source": [
    "Same as before."
   ]
  },
  {
   "cell_type": "code",
   "execution_count": 41,
   "id": "59dbdbc0-5e4d-4f54-b8c8-cbe305f78b44",
   "metadata": {
    "tags": []
   },
   "outputs": [
    {
     "data": {
      "text/plain": [
       "'Crashed into the Chingshan mountain range in fog.'"
      ]
     },
     "execution_count": 41,
     "metadata": {},
     "output_type": "execute_result"
    }
   ],
   "source": [
    "airplanes_ground['summary'][310]"
   ]
  },
  {
   "cell_type": "markdown",
   "id": "437257af-75c5-4ceb-8274-4aca565561c5",
   "metadata": {},
   "source": [
    "We will assume 0 ground casualties"
   ]
  },
  {
   "cell_type": "code",
   "execution_count": 42,
   "id": "5fbc820b-f21c-47cc-8623-f1a18082b01c",
   "metadata": {
    "tags": []
   },
   "outputs": [
    {
     "data": {
      "text/plain": [
       "nan"
      ]
     },
     "execution_count": 42,
     "metadata": {},
     "output_type": "execute_result"
    }
   ],
   "source": [
    "airplanes_ground['summary'][523]"
   ]
  },
  {
   "cell_type": "markdown",
   "id": "dcb3e98e-1a62-4a8b-8731-8fe56b5eebc6",
   "metadata": {},
   "source": [
    "Since it is the only one missing the summary, we will try to find more info online."
   ]
  },
  {
   "cell_type": "markdown",
   "id": "fa1ad3d0-5deb-4fc6-8346-eae5f3e969ef",
   "metadata": {},
   "source": [
    "https://en.wikipedia.org/wiki/List_of_accidents_and_incidents_involving_airliners_in_the_United_Kingdom#1930%E2%80%931939\n",
    "\n",
    "Airspeed Oxford G-AFFM being operated by British Airways crashed at Gosport, Hampshire after it hit a barrage balloon cable, two crew killed.\n",
    "\n",
    "This matches the info we have about aboard and fatalities. The date, model and registration perfectly matches so we will update the info accordingly."
   ]
  },
  {
   "cell_type": "code",
   "execution_count": 43,
   "id": "d22116f3-8274-4a2c-b044-d33385c2cfd0",
   "metadata": {
    "tags": []
   },
   "outputs": [
    {
     "data": {
      "text/plain": [
       "'Disappeared while en route on a non-combat mission. Wreckage found 39 years later on 4/30/1983.'"
      ]
     },
     "execution_count": 43,
     "metadata": {},
     "output_type": "execute_result"
    }
   ],
   "source": [
    "airplanes_ground['summary'][633]"
   ]
  },
  {
   "cell_type": "markdown",
   "id": "44cc3e40-0710-4726-b5dc-ff9d3fa2b98f",
   "metadata": {},
   "source": [
    "We will assume no ground casualties."
   ]
  },
  {
   "cell_type": "code",
   "execution_count": 44,
   "id": "2b89f308-565e-457c-a1ce-347e3f40b51f",
   "metadata": {
    "tags": []
   },
   "outputs": [
    {
     "data": {
      "text/plain": [
       "'Hit power lines and crashed into houses. Seventeen killed including civilians.'"
      ]
     },
     "execution_count": 44,
     "metadata": {},
     "output_type": "execute_result"
    }
   ],
   "source": [
    "airplanes_ground['summary'][1165]"
   ]
  },
  {
   "cell_type": "markdown",
   "id": "2769403b-3f1d-454e-a9ed-9e06930a0c3c",
   "metadata": {},
   "source": [
    "Bad luck, we will have to look up more info, although B29s usually had a crew of 10-15 members. If the accident details cannot be found, we will consider 2-7 ground casualties."
   ]
  },
  {
   "cell_type": "markdown",
   "id": "0cb58ae5-bf95-44e6-a10f-b5e297ba4a97",
   "metadata": {},
   "source": [
    "https://aviation-safety.net/wikibase/85403<br>\n",
    "Info found, 13/13 crew members, 4 ground casualties. We will also update description to this one as it is more complete:<br><br>\n",
    "Destroyed during combat operations 7 February 1952: Shortly after takeoff from Yokota AB, while climbing in snow falls, the heavy bomber went out of control<br> and crashed in a huge explosion on several houses located about three miles (5 km) northwest of the airfield. All 13 crew members and five people on the ground were killed. "
   ]
  },
  {
   "cell_type": "code",
   "execution_count": 45,
   "id": "936f6153-f150-4a17-a98a-6781d0779d0f",
   "metadata": {
    "tags": []
   },
   "outputs": [
    {
     "data": {
      "text/plain": [
       "'While on a training mission and flying blind on instruments the planes collided. One plane struck the ground and disintegrated. The other glided down several miles away, exploded and burned. Both planes crashed on ranches several miles apart about 18 miles from San Antonio . Six killed on one plane and seven on the other.'"
      ]
     },
     "execution_count": 45,
     "metadata": {},
     "output_type": "execute_result"
    }
   ],
   "source": [
    "airplanes_ground['summary'][1174]"
   ]
  },
  {
   "cell_type": "markdown",
   "id": "1cf6f95e-bd2a-4bcc-a5bf-d9bf6c547953",
   "metadata": {},
   "source": [
    "Even though they crashed into ranches, summary reports only the aircraft casualties. We will assume 0 ground fatalities."
   ]
  },
  {
   "cell_type": "code",
   "execution_count": 46,
   "id": "4040b653-3dd4-4704-bcfe-526a90320042",
   "metadata": {
    "tags": []
   },
   "outputs": [
    {
     "data": {
      "text/plain": [
       "'Twelve killed, including civilians. Two civilian houses burnt.'"
      ]
     },
     "execution_count": 46,
     "metadata": {},
     "output_type": "execute_result"
    }
   ],
   "source": [
    "airplanes_ground['summary'][1810]"
   ]
  },
  {
   "cell_type": "markdown",
   "id": "2664d9dc-c143-42f3-9e68-4767b6a2b299",
   "metadata": {},
   "source": [
    "We need to find out either how many civilians or how many crew members died. "
   ]
  },
  {
   "cell_type": "markdown",
   "id": "207ed0a9-e3a2-4658-9e3b-74c3f951a1f1",
   "metadata": {},
   "source": [
    "https://www.town.kadena.okinawa.jp/kadena/P08_base%20digest_English.pdf<br>\n",
    "\"A KB50 aerial tanker crashed on take-off into Kadena’s Yara district. 2 were killed, 8 injured, and three homes completely destroyed in the ensuing fire.\"<br>\n",
    "Looks like the website refers only to civilian casualties, so we will correct them accordingly."
   ]
  },
  {
   "cell_type": "code",
   "execution_count": 47,
   "id": "422c652d-ba28-43ed-9a78-834e492a6c8e",
   "metadata": {
    "tags": []
   },
   "outputs": [
    {
     "data": {
      "text/plain": [
       "'Crashed while attempting to land in poor weather.'"
      ]
     },
     "execution_count": 47,
     "metadata": {},
     "output_type": "execute_result"
    }
   ],
   "source": [
    "airplanes_ground['summary'][4691]"
   ]
  },
  {
   "cell_type": "markdown",
   "id": "ac62281b-1259-4780-a4f3-c552608c5e50",
   "metadata": {},
   "source": [
    "We can assume 0 ground casualties."
   ]
  },
  {
   "cell_type": "code",
   "execution_count": 48,
   "id": "6188d0fc-8565-4b65-8669-5e04472f4a95",
   "metadata": {
    "tags": []
   },
   "outputs": [
    {
     "data": {
      "text/plain": [
       "\"Shortly after takeoff the aircraft impacted another plane and crashed to the ground. The failure of the pilot's of both airplanes to maintain a visual lookout while climbing and maneuvering resulting in an in-flight collision and subsequent collision with residences and terrain.\""
      ]
     },
     "execution_count": 48,
     "metadata": {},
     "output_type": "execute_result"
    }
   ],
   "source": [
    "airplanes_ground['summary'][4695]"
   ]
  },
  {
   "cell_type": "markdown",
   "id": "5d6831d2-d976-4f67-b7f3-3169660f1f33",
   "metadata": {},
   "source": [
    "We need to dig in deeper."
   ]
  },
  {
   "cell_type": "markdown",
   "id": "a295ddaa-04a3-44e8-b357-b90850195747",
   "metadata": {},
   "source": [
    "http://edition.cnn.com/2000/US/06/23/plane.crash.03/index.html<br>\n",
    "4 dead, 3 from this aircraft and another from the other aircraft they collided with. No ground casualties."
   ]
  },
  {
   "cell_type": "code",
   "execution_count": 49,
   "id": "54948885-c1e2-479b-944e-c8261386cb9e",
   "metadata": {
    "tags": []
   },
   "outputs": [
    {
     "data": {
      "text/plain": [
       "'The cargo plane crashed while on approach to Isiro-Matari Airport.'"
      ]
     },
     "execution_count": 49,
     "metadata": {},
     "output_type": "execute_result"
    }
   ],
   "source": [
    "airplanes_ground['summary'][5250]"
   ]
  },
  {
   "cell_type": "markdown",
   "id": "ddf71197-7fff-4db6-9fa7-bd9dd1deac91",
   "metadata": {},
   "source": [
    "We can assume no ground fatalities, just the crew. This concludes the exploration so we will now correct the values."
   ]
  },
  {
   "cell_type": "code",
   "execution_count": 50,
   "id": "19d7fbfb-3c37-44ab-90f4-0e9a656a18b8",
   "metadata": {
    "tags": []
   },
   "outputs": [
    {
     "name": "stderr",
     "output_type": "stream",
     "text": [
      "/tmp/ipykernel_45867/3400115124.py:1: SettingWithCopyWarning: \n",
      "A value is trying to be set on a copy of a slice from a DataFrame\n",
      "\n",
      "See the caveats in the documentation: https://pandas.pydata.org/pandas-docs/stable/user_guide/indexing.html#returning-a-view-versus-a-copy\n",
      "  airplanes['ground'][228] = 0\n",
      "/tmp/ipykernel_45867/3400115124.py:3: SettingWithCopyWarning: \n",
      "A value is trying to be set on a copy of a slice from a DataFrame\n",
      "\n",
      "See the caveats in the documentation: https://pandas.pydata.org/pandas-docs/stable/user_guide/indexing.html#returning-a-view-versus-a-copy\n",
      "  airplanes['ground'][308] = 0\n",
      "/tmp/ipykernel_45867/3400115124.py:5: SettingWithCopyWarning: \n",
      "A value is trying to be set on a copy of a slice from a DataFrame\n",
      "\n",
      "See the caveats in the documentation: https://pandas.pydata.org/pandas-docs/stable/user_guide/indexing.html#returning-a-view-versus-a-copy\n",
      "  airplanes['ground'][523] = 0\n",
      "/tmp/ipykernel_45867/3400115124.py:6: SettingWithCopyWarning: \n",
      "A value is trying to be set on a copy of a slice from a DataFrame\n",
      "\n",
      "See the caveats in the documentation: https://pandas.pydata.org/pandas-docs/stable/user_guide/indexing.html#returning-a-view-versus-a-copy\n",
      "  airplanes['summary'][523] = '''Airspeed Oxford G-AFFM being operated by British Airways crashed at Gosport, Hampshire after it hit a barrage balloon cable, two crew killed.'''\n",
      "/tmp/ipykernel_45867/3400115124.py:8: SettingWithCopyWarning: \n",
      "A value is trying to be set on a copy of a slice from a DataFrame\n",
      "\n",
      "See the caveats in the documentation: https://pandas.pydata.org/pandas-docs/stable/user_guide/indexing.html#returning-a-view-versus-a-copy\n",
      "  airplanes['ground'][633] = 0\n",
      "/tmp/ipykernel_45867/3400115124.py:10: SettingWithCopyWarning: \n",
      "A value is trying to be set on a copy of a slice from a DataFrame\n",
      "\n",
      "See the caveats in the documentation: https://pandas.pydata.org/pandas-docs/stable/user_guide/indexing.html#returning-a-view-versus-a-copy\n",
      "  airplanes['aboard'][1165] = 13\n",
      "/tmp/ipykernel_45867/3400115124.py:11: SettingWithCopyWarning: \n",
      "A value is trying to be set on a copy of a slice from a DataFrame\n",
      "\n",
      "See the caveats in the documentation: https://pandas.pydata.org/pandas-docs/stable/user_guide/indexing.html#returning-a-view-versus-a-copy\n",
      "  airplanes['fatalities'][1165] = 13\n",
      "/tmp/ipykernel_45867/3400115124.py:12: SettingWithCopyWarning: \n",
      "A value is trying to be set on a copy of a slice from a DataFrame\n",
      "\n",
      "See the caveats in the documentation: https://pandas.pydata.org/pandas-docs/stable/user_guide/indexing.html#returning-a-view-versus-a-copy\n",
      "  airplanes['ground'][1165] = 5\n",
      "/tmp/ipykernel_45867/3400115124.py:13: SettingWithCopyWarning: \n",
      "A value is trying to be set on a copy of a slice from a DataFrame\n",
      "\n",
      "See the caveats in the documentation: https://pandas.pydata.org/pandas-docs/stable/user_guide/indexing.html#returning-a-view-versus-a-copy\n",
      "  airplanes['summary'][1165] = '''Destroyed during combat operations 7 February 1952: Shortly after takeoff from Yokota AB, while climbing in snow falls, the heavy bomber went out of control\n",
      "/tmp/ipykernel_45867/3400115124.py:16: SettingWithCopyWarning: \n",
      "A value is trying to be set on a copy of a slice from a DataFrame\n",
      "\n",
      "See the caveats in the documentation: https://pandas.pydata.org/pandas-docs/stable/user_guide/indexing.html#returning-a-view-versus-a-copy\n",
      "  airplanes['ground'][1174] = 0\n",
      "/tmp/ipykernel_45867/3400115124.py:18: SettingWithCopyWarning: \n",
      "A value is trying to be set on a copy of a slice from a DataFrame\n",
      "\n",
      "See the caveats in the documentation: https://pandas.pydata.org/pandas-docs/stable/user_guide/indexing.html#returning-a-view-versus-a-copy\n",
      "  airplanes['aboard'][1810] = 10\n",
      "/tmp/ipykernel_45867/3400115124.py:19: SettingWithCopyWarning: \n",
      "A value is trying to be set on a copy of a slice from a DataFrame\n",
      "\n",
      "See the caveats in the documentation: https://pandas.pydata.org/pandas-docs/stable/user_guide/indexing.html#returning-a-view-versus-a-copy\n",
      "  airplanes['fatalities'][1810] = 10\n",
      "/tmp/ipykernel_45867/3400115124.py:20: SettingWithCopyWarning: \n",
      "A value is trying to be set on a copy of a slice from a DataFrame\n",
      "\n",
      "See the caveats in the documentation: https://pandas.pydata.org/pandas-docs/stable/user_guide/indexing.html#returning-a-view-versus-a-copy\n",
      "  airplanes['ground'][1810] = 2\n",
      "/tmp/ipykernel_45867/3400115124.py:22: SettingWithCopyWarning: \n",
      "A value is trying to be set on a copy of a slice from a DataFrame\n",
      "\n",
      "See the caveats in the documentation: https://pandas.pydata.org/pandas-docs/stable/user_guide/indexing.html#returning-a-view-versus-a-copy\n",
      "  airplanes['ground'][4691] = 0\n",
      "/tmp/ipykernel_45867/3400115124.py:24: SettingWithCopyWarning: \n",
      "A value is trying to be set on a copy of a slice from a DataFrame\n",
      "\n",
      "See the caveats in the documentation: https://pandas.pydata.org/pandas-docs/stable/user_guide/indexing.html#returning-a-view-versus-a-copy\n",
      "  airplanes['ground'][4695] = 0\n"
     ]
    }
   ],
   "source": [
    "airplanes['ground'][228] = 0\n",
    "\n",
    "airplanes['ground'][308] = 0\n",
    "\n",
    "airplanes['ground'][310] = 0\n",
    "\n",
    "airplanes['ground'][523] = 0\n",
    "airplanes['summary'][523] = '''Airspeed Oxford G-AFFM being operated by British Airways crashed at Gosport, Hampshire after it hit a barrage balloon cable, two crew killed.'''\n",
    "\n",
    "airplanes['ground'][633] = 0\n",
    "\n",
    "airplanes['aboard'][1165] = 13\n",
    "airplanes['fatalities'][1165] = 13\n",
    "airplanes['ground'][1165] = 5\n",
    "airplanes['summary'][1165] = '''Destroyed during combat operations 7 February 1952: Shortly after takeoff from Yokota AB, while climbing in snow falls, the heavy bomber went out of control \n",
    "and crashed in a huge explosion on several houses located about three miles (5 km) northwest of the airfield. All 13 crew members and five people on the ground were killed. '''\n",
    "\n",
    "airplanes['ground'][1174] = 0\n",
    "\n",
    "airplanes['aboard'][1810] = 10\n",
    "airplanes['fatalities'][1810] = 10\n",
    "airplanes['ground'][1810] = 2\n",
    "\n",
    "airplanes['ground'][4691] = 0\n",
    "\n",
    "airplanes['ground'][4695] = 0\n",
    "\n",
    "airplanes['ground'][5250] = 0"
   ]
  },
  {
   "cell_type": "code",
   "execution_count": 51,
   "id": "8b08c013-75e0-4593-a61c-d59684964e2b",
   "metadata": {
    "tags": []
   },
   "outputs": [
    {
     "data": {
      "text/html": [
       "<div>\n",
       "<style scoped>\n",
       "    .dataframe tbody tr th:only-of-type {\n",
       "        vertical-align: middle;\n",
       "    }\n",
       "\n",
       "    .dataframe tbody tr th {\n",
       "        vertical-align: top;\n",
       "    }\n",
       "\n",
       "    .dataframe thead th {\n",
       "        text-align: right;\n",
       "    }\n",
       "</style>\n",
       "<table border=\"1\" class=\"dataframe\">\n",
       "  <thead>\n",
       "    <tr style=\"text-align: right;\">\n",
       "      <th></th>\n",
       "      <th>date</th>\n",
       "      <th>time</th>\n",
       "      <th>location</th>\n",
       "      <th>operator</th>\n",
       "      <th>flight_no</th>\n",
       "      <th>route</th>\n",
       "      <th>type</th>\n",
       "      <th>registration</th>\n",
       "      <th>cn/in</th>\n",
       "      <th>aboard</th>\n",
       "      <th>fatalities</th>\n",
       "      <th>ground</th>\n",
       "      <th>summary</th>\n",
       "    </tr>\n",
       "  </thead>\n",
       "  <tbody>\n",
       "    <tr>\n",
       "      <th>0</th>\n",
       "      <td>09/17/1908</td>\n",
       "      <td>17:18</td>\n",
       "      <td>Fort Myer, Virginia</td>\n",
       "      <td>Military - U.S. Army</td>\n",
       "      <td>NaN</td>\n",
       "      <td>Demonstration</td>\n",
       "      <td>Wright Flyer III</td>\n",
       "      <td>NaN</td>\n",
       "      <td>1</td>\n",
       "      <td>2.0</td>\n",
       "      <td>1.0</td>\n",
       "      <td>0.0</td>\n",
       "      <td>During a demonstration flight, a U.S. Army fly...</td>\n",
       "    </tr>\n",
       "    <tr>\n",
       "      <th>1</th>\n",
       "      <td>07/12/1912</td>\n",
       "      <td>06:30</td>\n",
       "      <td>AtlantiCity, New Jersey</td>\n",
       "      <td>Military - U.S. Navy</td>\n",
       "      <td>NaN</td>\n",
       "      <td>Test flight</td>\n",
       "      <td>Dirigible</td>\n",
       "      <td>NaN</td>\n",
       "      <td>NaN</td>\n",
       "      <td>5.0</td>\n",
       "      <td>5.0</td>\n",
       "      <td>0.0</td>\n",
       "      <td>First U.S. dirigible Akron exploded just offsh...</td>\n",
       "    </tr>\n",
       "    <tr>\n",
       "      <th>2</th>\n",
       "      <td>08/06/1913</td>\n",
       "      <td>NaN</td>\n",
       "      <td>Victoria, British Columbia, Canada</td>\n",
       "      <td>Private</td>\n",
       "      <td>-</td>\n",
       "      <td>NaN</td>\n",
       "      <td>Curtiss seaplane</td>\n",
       "      <td>NaN</td>\n",
       "      <td>NaN</td>\n",
       "      <td>1.0</td>\n",
       "      <td>1.0</td>\n",
       "      <td>0.0</td>\n",
       "      <td>The first fatal airplane accident in Canada oc...</td>\n",
       "    </tr>\n",
       "    <tr>\n",
       "      <th>3</th>\n",
       "      <td>09/09/1913</td>\n",
       "      <td>18:30</td>\n",
       "      <td>Over the North Sea</td>\n",
       "      <td>Military - German Navy</td>\n",
       "      <td>NaN</td>\n",
       "      <td>NaN</td>\n",
       "      <td>Zeppelin L-1 (airship)</td>\n",
       "      <td>NaN</td>\n",
       "      <td>NaN</td>\n",
       "      <td>20.0</td>\n",
       "      <td>14.0</td>\n",
       "      <td>0.0</td>\n",
       "      <td>The airship flew into a thunderstorm and encou...</td>\n",
       "    </tr>\n",
       "    <tr>\n",
       "      <th>4</th>\n",
       "      <td>10/17/1913</td>\n",
       "      <td>10:30</td>\n",
       "      <td>Near Johannisthal, Germany</td>\n",
       "      <td>Military - German Navy</td>\n",
       "      <td>NaN</td>\n",
       "      <td>NaN</td>\n",
       "      <td>Zeppelin L-2 (airship)</td>\n",
       "      <td>NaN</td>\n",
       "      <td>NaN</td>\n",
       "      <td>30.0</td>\n",
       "      <td>30.0</td>\n",
       "      <td>0.0</td>\n",
       "      <td>Hydrogen gas which was being vented was sucked...</td>\n",
       "    </tr>\n",
       "    <tr>\n",
       "      <th>...</th>\n",
       "      <td>...</td>\n",
       "      <td>...</td>\n",
       "      <td>...</td>\n",
       "      <td>...</td>\n",
       "      <td>...</td>\n",
       "      <td>...</td>\n",
       "      <td>...</td>\n",
       "      <td>...</td>\n",
       "      <td>...</td>\n",
       "      <td>...</td>\n",
       "      <td>...</td>\n",
       "      <td>...</td>\n",
       "      <td>...</td>\n",
       "    </tr>\n",
       "    <tr>\n",
       "      <th>5249</th>\n",
       "      <td>05/20/2009</td>\n",
       "      <td>06:30</td>\n",
       "      <td>Near Madiun, Indonesia</td>\n",
       "      <td>Military - Indonesian Air Force</td>\n",
       "      <td>NaN</td>\n",
       "      <td>Jakarta - Maduin</td>\n",
       "      <td>Lockheed C-130 Hercules</td>\n",
       "      <td>A-1325</td>\n",
       "      <td>1982</td>\n",
       "      <td>112.0</td>\n",
       "      <td>98.0</td>\n",
       "      <td>2.0</td>\n",
       "      <td>While on approach, the military transport cras...</td>\n",
       "    </tr>\n",
       "    <tr>\n",
       "      <th>5250</th>\n",
       "      <td>05/26/2009</td>\n",
       "      <td>NaN</td>\n",
       "      <td>Near Isiro, DemocratiRepubliCongo</td>\n",
       "      <td>Service Air</td>\n",
       "      <td>NaN</td>\n",
       "      <td>Goma - Isiro</td>\n",
       "      <td>Antonov An-26</td>\n",
       "      <td>9Q-CSA</td>\n",
       "      <td>5005</td>\n",
       "      <td>4.0</td>\n",
       "      <td>4.0</td>\n",
       "      <td>NaN</td>\n",
       "      <td>The cargo plane crashed while on approach to I...</td>\n",
       "    </tr>\n",
       "    <tr>\n",
       "      <th>5251</th>\n",
       "      <td>06/01/2009</td>\n",
       "      <td>00:15</td>\n",
       "      <td>AtlantiOcean, 570 miles northeast of Natal, Br...</td>\n",
       "      <td>Air France</td>\n",
       "      <td>447</td>\n",
       "      <td>Rio de Janeiro - Paris</td>\n",
       "      <td>Airbus A330-203</td>\n",
       "      <td>F-GZCP</td>\n",
       "      <td>660</td>\n",
       "      <td>228.0</td>\n",
       "      <td>228.0</td>\n",
       "      <td>0.0</td>\n",
       "      <td>The Airbus went missing over the AtlantiOcean ...</td>\n",
       "    </tr>\n",
       "    <tr>\n",
       "      <th>5252</th>\n",
       "      <td>06/07/2009</td>\n",
       "      <td>08:30</td>\n",
       "      <td>Near Port Hope Simpson, Newfoundland, Canada</td>\n",
       "      <td>Strait Air</td>\n",
       "      <td>NaN</td>\n",
       "      <td>Lourdes de BlanSablon - Port Hope Simpson</td>\n",
       "      <td>Britten-Norman BN-2A-27 Islander</td>\n",
       "      <td>C-FJJR</td>\n",
       "      <td>424</td>\n",
       "      <td>1.0</td>\n",
       "      <td>1.0</td>\n",
       "      <td>0.0</td>\n",
       "      <td>The air ambulance crashed into hills while att...</td>\n",
       "    </tr>\n",
       "    <tr>\n",
       "      <th>5253</th>\n",
       "      <td>06/08/2009</td>\n",
       "      <td>NaN</td>\n",
       "      <td>State of Arunachal Pradesh, India</td>\n",
       "      <td>Military - Indian Air Force</td>\n",
       "      <td>NaN</td>\n",
       "      <td>Mechuka for Jorhat</td>\n",
       "      <td>Antonov An-32</td>\n",
       "      <td>NaN</td>\n",
       "      <td>NaN</td>\n",
       "      <td>13.0</td>\n",
       "      <td>13.0</td>\n",
       "      <td>0.0</td>\n",
       "      <td>The military transport went missing while en r...</td>\n",
       "    </tr>\n",
       "  </tbody>\n",
       "</table>\n",
       "<p>5254 rows × 13 columns</p>\n",
       "</div>"
      ],
      "text/plain": [
       "            date   time                                           location  \\\n",
       "0     09/17/1908  17:18                                Fort Myer, Virginia   \n",
       "1     07/12/1912  06:30                            AtlantiCity, New Jersey   \n",
       "2     08/06/1913    NaN                 Victoria, British Columbia, Canada   \n",
       "3     09/09/1913  18:30                                 Over the North Sea   \n",
       "4     10/17/1913  10:30                         Near Johannisthal, Germany   \n",
       "...          ...    ...                                                ...   \n",
       "5249  05/20/2009  06:30                             Near Madiun, Indonesia   \n",
       "5250  05/26/2009    NaN                  Near Isiro, DemocratiRepubliCongo   \n",
       "5251  06/01/2009  00:15  AtlantiOcean, 570 miles northeast of Natal, Br...   \n",
       "5252  06/07/2009  08:30       Near Port Hope Simpson, Newfoundland, Canada   \n",
       "5253  06/08/2009    NaN                  State of Arunachal Pradesh, India   \n",
       "\n",
       "                             operator flight_no  \\\n",
       "0                Military - U.S. Army       NaN   \n",
       "1                Military - U.S. Navy       NaN   \n",
       "2                             Private         -   \n",
       "3              Military - German Navy       NaN   \n",
       "4              Military - German Navy       NaN   \n",
       "...                               ...       ...   \n",
       "5249  Military - Indonesian Air Force       NaN   \n",
       "5250                      Service Air       NaN   \n",
       "5251                       Air France       447   \n",
       "5252                       Strait Air       NaN   \n",
       "5253      Military - Indian Air Force       NaN   \n",
       "\n",
       "                                          route  \\\n",
       "0                                 Demonstration   \n",
       "1                                   Test flight   \n",
       "2                                           NaN   \n",
       "3                                           NaN   \n",
       "4                                           NaN   \n",
       "...                                         ...   \n",
       "5249                           Jakarta - Maduin   \n",
       "5250                               Goma - Isiro   \n",
       "5251                     Rio de Janeiro - Paris   \n",
       "5252  Lourdes de BlanSablon - Port Hope Simpson   \n",
       "5253                         Mechuka for Jorhat   \n",
       "\n",
       "                                  type registration cn/in  aboard  fatalities  \\\n",
       "0                     Wright Flyer III          NaN     1     2.0         1.0   \n",
       "1                            Dirigible          NaN   NaN     5.0         5.0   \n",
       "2                     Curtiss seaplane          NaN   NaN     1.0         1.0   \n",
       "3               Zeppelin L-1 (airship)          NaN   NaN    20.0        14.0   \n",
       "4               Zeppelin L-2 (airship)          NaN   NaN    30.0        30.0   \n",
       "...                                ...          ...   ...     ...         ...   \n",
       "5249           Lockheed C-130 Hercules       A-1325  1982   112.0        98.0   \n",
       "5250                     Antonov An-26       9Q-CSA  5005     4.0         4.0   \n",
       "5251                   Airbus A330-203       F-GZCP   660   228.0       228.0   \n",
       "5252  Britten-Norman BN-2A-27 Islander      C-FJJR    424     1.0         1.0   \n",
       "5253                     Antonov An-32          NaN   NaN    13.0        13.0   \n",
       "\n",
       "      ground                                            summary  \n",
       "0        0.0  During a demonstration flight, a U.S. Army fly...  \n",
       "1        0.0  First U.S. dirigible Akron exploded just offsh...  \n",
       "2        0.0  The first fatal airplane accident in Canada oc...  \n",
       "3        0.0  The airship flew into a thunderstorm and encou...  \n",
       "4        0.0  Hydrogen gas which was being vented was sucked...  \n",
       "...      ...                                                ...  \n",
       "5249     2.0  While on approach, the military transport cras...  \n",
       "5250     NaN  The cargo plane crashed while on approach to I...  \n",
       "5251     0.0  The Airbus went missing over the AtlantiOcean ...  \n",
       "5252     0.0  The air ambulance crashed into hills while att...  \n",
       "5253     0.0  The military transport went missing while en r...  \n",
       "\n",
       "[5254 rows x 13 columns]"
      ]
     },
     "execution_count": 51,
     "metadata": {},
     "output_type": "execute_result"
    }
   ],
   "source": [
    "airplanes.reset_index(drop=True)"
   ]
  },
  {
   "cell_type": "code",
   "execution_count": 52,
   "id": "454eeeea-6376-4e2e-b669-8668c177e3fe",
   "metadata": {
    "tags": []
   },
   "outputs": [
    {
     "data": {
      "text/html": [
       "<div>\n",
       "<style scoped>\n",
       "    .dataframe tbody tr th:only-of-type {\n",
       "        vertical-align: middle;\n",
       "    }\n",
       "\n",
       "    .dataframe tbody tr th {\n",
       "        vertical-align: top;\n",
       "    }\n",
       "\n",
       "    .dataframe thead th {\n",
       "        text-align: right;\n",
       "    }\n",
       "</style>\n",
       "<table border=\"1\" class=\"dataframe\">\n",
       "  <thead>\n",
       "    <tr style=\"text-align: right;\">\n",
       "      <th></th>\n",
       "      <th>date</th>\n",
       "      <th>time</th>\n",
       "      <th>location</th>\n",
       "      <th>operator</th>\n",
       "      <th>flight_no</th>\n",
       "      <th>route</th>\n",
       "      <th>type</th>\n",
       "      <th>registration</th>\n",
       "      <th>cn/in</th>\n",
       "      <th>aboard</th>\n",
       "      <th>fatalities</th>\n",
       "      <th>ground</th>\n",
       "      <th>summary</th>\n",
       "    </tr>\n",
       "  </thead>\n",
       "  <tbody>\n",
       "    <tr>\n",
       "      <th>0</th>\n",
       "      <td>09/17/1908</td>\n",
       "      <td>17:18</td>\n",
       "      <td>Fort Myer, Virginia</td>\n",
       "      <td>Military - U.S. Army</td>\n",
       "      <td>NaN</td>\n",
       "      <td>Demonstration</td>\n",
       "      <td>Wright Flyer III</td>\n",
       "      <td>NaN</td>\n",
       "      <td>1</td>\n",
       "      <td>2.0</td>\n",
       "      <td>1.0</td>\n",
       "      <td>0.0</td>\n",
       "      <td>During a demonstration flight, a U.S. Army fly...</td>\n",
       "    </tr>\n",
       "    <tr>\n",
       "      <th>1</th>\n",
       "      <td>07/12/1912</td>\n",
       "      <td>06:30</td>\n",
       "      <td>AtlantiCity, New Jersey</td>\n",
       "      <td>Military - U.S. Navy</td>\n",
       "      <td>NaN</td>\n",
       "      <td>Test flight</td>\n",
       "      <td>Dirigible</td>\n",
       "      <td>NaN</td>\n",
       "      <td>NaN</td>\n",
       "      <td>5.0</td>\n",
       "      <td>5.0</td>\n",
       "      <td>0.0</td>\n",
       "      <td>First U.S. dirigible Akron exploded just offsh...</td>\n",
       "    </tr>\n",
       "    <tr>\n",
       "      <th>2</th>\n",
       "      <td>08/06/1913</td>\n",
       "      <td>NaN</td>\n",
       "      <td>Victoria, British Columbia, Canada</td>\n",
       "      <td>Private</td>\n",
       "      <td>-</td>\n",
       "      <td>NaN</td>\n",
       "      <td>Curtiss seaplane</td>\n",
       "      <td>NaN</td>\n",
       "      <td>NaN</td>\n",
       "      <td>1.0</td>\n",
       "      <td>1.0</td>\n",
       "      <td>0.0</td>\n",
       "      <td>The first fatal airplane accident in Canada oc...</td>\n",
       "    </tr>\n",
       "    <tr>\n",
       "      <th>3</th>\n",
       "      <td>09/09/1913</td>\n",
       "      <td>18:30</td>\n",
       "      <td>Over the North Sea</td>\n",
       "      <td>Military - German Navy</td>\n",
       "      <td>NaN</td>\n",
       "      <td>NaN</td>\n",
       "      <td>Zeppelin L-1 (airship)</td>\n",
       "      <td>NaN</td>\n",
       "      <td>NaN</td>\n",
       "      <td>20.0</td>\n",
       "      <td>14.0</td>\n",
       "      <td>0.0</td>\n",
       "      <td>The airship flew into a thunderstorm and encou...</td>\n",
       "    </tr>\n",
       "    <tr>\n",
       "      <th>4</th>\n",
       "      <td>10/17/1913</td>\n",
       "      <td>10:30</td>\n",
       "      <td>Near Johannisthal, Germany</td>\n",
       "      <td>Military - German Navy</td>\n",
       "      <td>NaN</td>\n",
       "      <td>NaN</td>\n",
       "      <td>Zeppelin L-2 (airship)</td>\n",
       "      <td>NaN</td>\n",
       "      <td>NaN</td>\n",
       "      <td>30.0</td>\n",
       "      <td>30.0</td>\n",
       "      <td>0.0</td>\n",
       "      <td>Hydrogen gas which was being vented was sucked...</td>\n",
       "    </tr>\n",
       "  </tbody>\n",
       "</table>\n",
       "</div>"
      ],
      "text/plain": [
       "         date   time                            location  \\\n",
       "0  09/17/1908  17:18                 Fort Myer, Virginia   \n",
       "1  07/12/1912  06:30             AtlantiCity, New Jersey   \n",
       "2  08/06/1913    NaN  Victoria, British Columbia, Canada   \n",
       "3  09/09/1913  18:30                  Over the North Sea   \n",
       "4  10/17/1913  10:30          Near Johannisthal, Germany   \n",
       "\n",
       "                 operator flight_no          route                    type  \\\n",
       "0    Military - U.S. Army       NaN  Demonstration        Wright Flyer III   \n",
       "1    Military - U.S. Navy       NaN    Test flight               Dirigible   \n",
       "2                 Private         -            NaN        Curtiss seaplane   \n",
       "3  Military - German Navy       NaN            NaN  Zeppelin L-1 (airship)   \n",
       "4  Military - German Navy       NaN            NaN  Zeppelin L-2 (airship)   \n",
       "\n",
       "  registration cn/in  aboard  fatalities  ground  \\\n",
       "0          NaN     1     2.0         1.0     0.0   \n",
       "1          NaN   NaN     5.0         5.0     0.0   \n",
       "2          NaN   NaN     1.0         1.0     0.0   \n",
       "3          NaN   NaN    20.0        14.0     0.0   \n",
       "4          NaN   NaN    30.0        30.0     0.0   \n",
       "\n",
       "                                             summary  \n",
       "0  During a demonstration flight, a U.S. Army fly...  \n",
       "1  First U.S. dirigible Akron exploded just offsh...  \n",
       "2  The first fatal airplane accident in Canada oc...  \n",
       "3  The airship flew into a thunderstorm and encou...  \n",
       "4  Hydrogen gas which was being vented was sucked...  "
      ]
     },
     "execution_count": 52,
     "metadata": {},
     "output_type": "execute_result"
    }
   ],
   "source": [
    "airplanes.head()"
   ]
  },
  {
   "cell_type": "code",
   "execution_count": 54,
   "id": "4ff4c414-d266-405a-a4c5-8791878d67fd",
   "metadata": {
    "tags": []
   },
   "outputs": [
    {
     "data": {
      "text/plain": [
       "date               0\n",
       "time            2205\n",
       "location          19\n",
       "operator          18\n",
       "flight_no       4187\n",
       "route           1695\n",
       "type              25\n",
       "registration     333\n",
       "cn/in           1220\n",
       "aboard             2\n",
       "fatalities         0\n",
       "ground             2\n",
       "summary          383\n",
       "dtype: int64"
      ]
     },
     "execution_count": 54,
     "metadata": {},
     "output_type": "execute_result"
    }
   ],
   "source": [
    "airplanes.isna().sum()"
   ]
  },
  {
   "cell_type": "markdown",
   "id": "a92f19c4-c7a7-4554-944f-a4aa868cb673",
   "metadata": {},
   "source": [
    "Time column is not so relevant in this case as we have many missing values. It is simply not feasible to fill out those values by hand and we can't drop so many rows either (almost 50% of the dataset) so we will drop the column."
   ]
  },
  {
   "cell_type": "code",
   "execution_count": 56,
   "id": "94738f18-8792-4689-acd5-e43801c008b6",
   "metadata": {
    "tags": []
   },
   "outputs": [
    {
     "data": {
      "text/html": [
       "<div>\n",
       "<style scoped>\n",
       "    .dataframe tbody tr th:only-of-type {\n",
       "        vertical-align: middle;\n",
       "    }\n",
       "\n",
       "    .dataframe tbody tr th {\n",
       "        vertical-align: top;\n",
       "    }\n",
       "\n",
       "    .dataframe thead th {\n",
       "        text-align: right;\n",
       "    }\n",
       "</style>\n",
       "<table border=\"1\" class=\"dataframe\">\n",
       "  <thead>\n",
       "    <tr style=\"text-align: right;\">\n",
       "      <th></th>\n",
       "      <th>date</th>\n",
       "      <th>location</th>\n",
       "      <th>operator</th>\n",
       "      <th>flight_no</th>\n",
       "      <th>route</th>\n",
       "      <th>type</th>\n",
       "      <th>registration</th>\n",
       "      <th>cn/in</th>\n",
       "      <th>aboard</th>\n",
       "      <th>fatalities</th>\n",
       "      <th>ground</th>\n",
       "      <th>summary</th>\n",
       "    </tr>\n",
       "  </thead>\n",
       "  <tbody>\n",
       "    <tr>\n",
       "      <th>0</th>\n",
       "      <td>09/17/1908</td>\n",
       "      <td>Fort Myer, Virginia</td>\n",
       "      <td>Military - U.S. Army</td>\n",
       "      <td>NaN</td>\n",
       "      <td>Demonstration</td>\n",
       "      <td>Wright Flyer III</td>\n",
       "      <td>NaN</td>\n",
       "      <td>1</td>\n",
       "      <td>2.0</td>\n",
       "      <td>1.0</td>\n",
       "      <td>0.0</td>\n",
       "      <td>During a demonstration flight, a U.S. Army fly...</td>\n",
       "    </tr>\n",
       "    <tr>\n",
       "      <th>1</th>\n",
       "      <td>07/12/1912</td>\n",
       "      <td>AtlantiCity, New Jersey</td>\n",
       "      <td>Military - U.S. Navy</td>\n",
       "      <td>NaN</td>\n",
       "      <td>Test flight</td>\n",
       "      <td>Dirigible</td>\n",
       "      <td>NaN</td>\n",
       "      <td>NaN</td>\n",
       "      <td>5.0</td>\n",
       "      <td>5.0</td>\n",
       "      <td>0.0</td>\n",
       "      <td>First U.S. dirigible Akron exploded just offsh...</td>\n",
       "    </tr>\n",
       "    <tr>\n",
       "      <th>2</th>\n",
       "      <td>08/06/1913</td>\n",
       "      <td>Victoria, British Columbia, Canada</td>\n",
       "      <td>Private</td>\n",
       "      <td>-</td>\n",
       "      <td>NaN</td>\n",
       "      <td>Curtiss seaplane</td>\n",
       "      <td>NaN</td>\n",
       "      <td>NaN</td>\n",
       "      <td>1.0</td>\n",
       "      <td>1.0</td>\n",
       "      <td>0.0</td>\n",
       "      <td>The first fatal airplane accident in Canada oc...</td>\n",
       "    </tr>\n",
       "    <tr>\n",
       "      <th>3</th>\n",
       "      <td>09/09/1913</td>\n",
       "      <td>Over the North Sea</td>\n",
       "      <td>Military - German Navy</td>\n",
       "      <td>NaN</td>\n",
       "      <td>NaN</td>\n",
       "      <td>Zeppelin L-1 (airship)</td>\n",
       "      <td>NaN</td>\n",
       "      <td>NaN</td>\n",
       "      <td>20.0</td>\n",
       "      <td>14.0</td>\n",
       "      <td>0.0</td>\n",
       "      <td>The airship flew into a thunderstorm and encou...</td>\n",
       "    </tr>\n",
       "    <tr>\n",
       "      <th>4</th>\n",
       "      <td>10/17/1913</td>\n",
       "      <td>Near Johannisthal, Germany</td>\n",
       "      <td>Military - German Navy</td>\n",
       "      <td>NaN</td>\n",
       "      <td>NaN</td>\n",
       "      <td>Zeppelin L-2 (airship)</td>\n",
       "      <td>NaN</td>\n",
       "      <td>NaN</td>\n",
       "      <td>30.0</td>\n",
       "      <td>30.0</td>\n",
       "      <td>0.0</td>\n",
       "      <td>Hydrogen gas which was being vented was sucked...</td>\n",
       "    </tr>\n",
       "  </tbody>\n",
       "</table>\n",
       "</div>"
      ],
      "text/plain": [
       "         date                            location                operator  \\\n",
       "0  09/17/1908                 Fort Myer, Virginia    Military - U.S. Army   \n",
       "1  07/12/1912             AtlantiCity, New Jersey    Military - U.S. Navy   \n",
       "2  08/06/1913  Victoria, British Columbia, Canada                 Private   \n",
       "3  09/09/1913                  Over the North Sea  Military - German Navy   \n",
       "4  10/17/1913          Near Johannisthal, Germany  Military - German Navy   \n",
       "\n",
       "  flight_no          route                    type registration cn/in  aboard  \\\n",
       "0       NaN  Demonstration        Wright Flyer III          NaN     1     2.0   \n",
       "1       NaN    Test flight               Dirigible          NaN   NaN     5.0   \n",
       "2         -            NaN        Curtiss seaplane          NaN   NaN     1.0   \n",
       "3       NaN            NaN  Zeppelin L-1 (airship)          NaN   NaN    20.0   \n",
       "4       NaN            NaN  Zeppelin L-2 (airship)          NaN   NaN    30.0   \n",
       "\n",
       "   fatalities  ground                                            summary  \n",
       "0         1.0     0.0  During a demonstration flight, a U.S. Army fly...  \n",
       "1         5.0     0.0  First U.S. dirigible Akron exploded just offsh...  \n",
       "2         1.0     0.0  The first fatal airplane accident in Canada oc...  \n",
       "3        14.0     0.0  The airship flew into a thunderstorm and encou...  \n",
       "4        30.0     0.0  Hydrogen gas which was being vented was sucked...  "
      ]
     },
     "execution_count": 56,
     "metadata": {},
     "output_type": "execute_result"
    }
   ],
   "source": [
    "airplanes = airplanes.drop(['time'], axis=1)\n",
    "airplanes.head()"
   ]
  },
  {
   "cell_type": "markdown",
   "id": "8ccc210f-af14-4d92-800f-42c54b3ee04a",
   "metadata": {},
   "source": [
    "We're done with the basic cleaning, now we will focus on gathering info from the description to determine possible accident causes."
   ]
  },
  {
   "cell_type": "code",
   "execution_count": null,
   "id": "755e7d38-3837-42d4-bbc8-d18f7aa15357",
   "metadata": {},
   "outputs": [],
   "source": []
  }
 ],
 "metadata": {
  "kernelspec": {
   "display_name": "Python 3 (ipykernel)",
   "language": "python",
   "name": "python3"
  },
  "language_info": {
   "codemirror_mode": {
    "name": "ipython",
    "version": 3
   },
   "file_extension": ".py",
   "mimetype": "text/x-python",
   "name": "python",
   "nbconvert_exporter": "python",
   "pygments_lexer": "ipython3",
   "version": "3.10.6"
  }
 },
 "nbformat": 4,
 "nbformat_minor": 5
}
