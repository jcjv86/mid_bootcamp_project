{
 "cells": [
  {
   "cell_type": "code",
   "execution_count": 4,
   "id": "7aeed96b-d1cc-4d58-8b37-353c07553f33",
   "metadata": {},
   "outputs": [],
   "source": [
    "import pandas as pd\n",
    "import numpy as np"
   ]
  },
  {
   "cell_type": "code",
   "execution_count": 17,
   "id": "16a1a7f6",
   "metadata": {},
   "outputs": [],
   "source": [
    "def standard_headers(df):\n",
    "    cols = [col.lower().replace(' ', '_') for col in df.columns]\n",
    "    df.columns = cols\n",
    "    return df"
   ]
  },
  {
   "cell_type": "code",
   "execution_count": 69,
   "id": "bbcbef39-c47b-4ab9-b359-293594ddca91",
   "metadata": {
    "scrolled": false
   },
   "outputs": [
    {
     "data": {
      "text/html": [
       "<div>\n",
       "<style scoped>\n",
       "    .dataframe tbody tr th:only-of-type {\n",
       "        vertical-align: middle;\n",
       "    }\n",
       "\n",
       "    .dataframe tbody tr th {\n",
       "        vertical-align: top;\n",
       "    }\n",
       "\n",
       "    .dataframe thead th {\n",
       "        text-align: right;\n",
       "    }\n",
       "</style>\n",
       "<table border=\"1\" class=\"dataframe\">\n",
       "  <thead>\n",
       "    <tr style=\"text-align: right;\">\n",
       "      <th></th>\n",
       "      <th>date</th>\n",
       "      <th>time</th>\n",
       "      <th>location</th>\n",
       "      <th>operator</th>\n",
       "      <th>flight_no</th>\n",
       "      <th>route</th>\n",
       "      <th>type</th>\n",
       "      <th>registration</th>\n",
       "      <th>cn/in</th>\n",
       "      <th>aboard</th>\n",
       "      <th>fatalities</th>\n",
       "      <th>ground</th>\n",
       "      <th>summary</th>\n",
       "    </tr>\n",
       "  </thead>\n",
       "  <tbody>\n",
       "    <tr>\n",
       "      <th>0</th>\n",
       "      <td>09/17/1908</td>\n",
       "      <td>17:18</td>\n",
       "      <td>Fort Myer, Virginia</td>\n",
       "      <td>Military - U.S. Army</td>\n",
       "      <td>NaN</td>\n",
       "      <td>Demonstration</td>\n",
       "      <td>Wright Flyer III</td>\n",
       "      <td>NaN</td>\n",
       "      <td>1</td>\n",
       "      <td>2.0</td>\n",
       "      <td>1.0</td>\n",
       "      <td>0.0</td>\n",
       "      <td>During a demonstration flight, a U.S. Army fly...</td>\n",
       "    </tr>\n",
       "    <tr>\n",
       "      <th>1</th>\n",
       "      <td>07/12/1912</td>\n",
       "      <td>06:30</td>\n",
       "      <td>AtlantiCity, New Jersey</td>\n",
       "      <td>Military - U.S. Navy</td>\n",
       "      <td>NaN</td>\n",
       "      <td>Test flight</td>\n",
       "      <td>Dirigible</td>\n",
       "      <td>NaN</td>\n",
       "      <td>NaN</td>\n",
       "      <td>5.0</td>\n",
       "      <td>5.0</td>\n",
       "      <td>0.0</td>\n",
       "      <td>First U.S. dirigible Akron exploded just offsh...</td>\n",
       "    </tr>\n",
       "    <tr>\n",
       "      <th>2</th>\n",
       "      <td>08/06/1913</td>\n",
       "      <td>NaN</td>\n",
       "      <td>Victoria, British Columbia, Canada</td>\n",
       "      <td>Private</td>\n",
       "      <td>-</td>\n",
       "      <td>NaN</td>\n",
       "      <td>Curtiss seaplane</td>\n",
       "      <td>NaN</td>\n",
       "      <td>NaN</td>\n",
       "      <td>1.0</td>\n",
       "      <td>1.0</td>\n",
       "      <td>0.0</td>\n",
       "      <td>The first fatal airplane accident in Canada oc...</td>\n",
       "    </tr>\n",
       "    <tr>\n",
       "      <th>3</th>\n",
       "      <td>09/09/1913</td>\n",
       "      <td>18:30</td>\n",
       "      <td>Over the North Sea</td>\n",
       "      <td>Military - German Navy</td>\n",
       "      <td>NaN</td>\n",
       "      <td>NaN</td>\n",
       "      <td>Zeppelin L-1 (airship)</td>\n",
       "      <td>NaN</td>\n",
       "      <td>NaN</td>\n",
       "      <td>20.0</td>\n",
       "      <td>14.0</td>\n",
       "      <td>0.0</td>\n",
       "      <td>The airship flew into a thunderstorm and encou...</td>\n",
       "    </tr>\n",
       "    <tr>\n",
       "      <th>4</th>\n",
       "      <td>10/17/1913</td>\n",
       "      <td>10:30</td>\n",
       "      <td>Near Johannisthal, Germany</td>\n",
       "      <td>Military - German Navy</td>\n",
       "      <td>NaN</td>\n",
       "      <td>NaN</td>\n",
       "      <td>Zeppelin L-2 (airship)</td>\n",
       "      <td>NaN</td>\n",
       "      <td>NaN</td>\n",
       "      <td>30.0</td>\n",
       "      <td>30.0</td>\n",
       "      <td>0.0</td>\n",
       "      <td>Hydrogen gas which was being vented was sucked...</td>\n",
       "    </tr>\n",
       "  </tbody>\n",
       "</table>\n",
       "</div>"
      ],
      "text/plain": [
       "         date   time                            location  \\\n",
       "0  09/17/1908  17:18                 Fort Myer, Virginia   \n",
       "1  07/12/1912  06:30             AtlantiCity, New Jersey   \n",
       "2  08/06/1913    NaN  Victoria, British Columbia, Canada   \n",
       "3  09/09/1913  18:30                  Over the North Sea   \n",
       "4  10/17/1913  10:30          Near Johannisthal, Germany   \n",
       "\n",
       "                 operator flight_no          route                    type  \\\n",
       "0    Military - U.S. Army       NaN  Demonstration        Wright Flyer III   \n",
       "1    Military - U.S. Navy       NaN    Test flight               Dirigible   \n",
       "2                 Private         -            NaN        Curtiss seaplane   \n",
       "3  Military - German Navy       NaN            NaN  Zeppelin L-1 (airship)   \n",
       "4  Military - German Navy       NaN            NaN  Zeppelin L-2 (airship)   \n",
       "\n",
       "  registration cn/in  aboard  fatalities  ground  \\\n",
       "0          NaN     1     2.0         1.0     0.0   \n",
       "1          NaN   NaN     5.0         5.0     0.0   \n",
       "2          NaN   NaN     1.0         1.0     0.0   \n",
       "3          NaN   NaN    20.0        14.0     0.0   \n",
       "4          NaN   NaN    30.0        30.0     0.0   \n",
       "\n",
       "                                             summary  \n",
       "0  During a demonstration flight, a U.S. Army fly...  \n",
       "1  First U.S. dirigible Akron exploded just offsh...  \n",
       "2  The first fatal airplane accident in Canada oc...  \n",
       "3  The airship flew into a thunderstorm and encou...  \n",
       "4  Hydrogen gas which was being vented was sucked...  "
      ]
     },
     "metadata": {},
     "output_type": "display_data"
    },
    {
     "data": {
      "text/plain": [
       "(5268, 13)"
      ]
     },
     "metadata": {},
     "output_type": "display_data"
    }
   ],
   "source": [
    "airplanes = pd.read_csv('../data/raw/Airplane_Crashes_and_Fatalities_Since_1908.csv')\n",
    "airplanes = standard_headers(airplanes)\n",
    "airplanes = airplanes.rename(columns={'flight_#': 'flight_no'}) #Character can be a problem so we get rid of it.\n",
    "display(airplanes.head())\n",
    "display(airplanes.shape)"
   ]
  },
  {
   "cell_type": "code",
   "execution_count": 50,
   "id": "b3867136",
   "metadata": {},
   "outputs": [
    {
     "name": "stdout",
     "output_type": "stream",
     "text": [
      "<class 'pandas.core.frame.DataFrame'>\n",
      "RangeIndex: 5268 entries, 0 to 5267\n",
      "Data columns (total 13 columns):\n",
      " #   Column        Non-Null Count  Dtype  \n",
      "---  ------        --------------  -----  \n",
      " 0   date          5268 non-null   object \n",
      " 1   time          3049 non-null   object \n",
      " 2   location      5248 non-null   object \n",
      " 3   operator      5250 non-null   object \n",
      " 4   flight_no     1069 non-null   object \n",
      " 5   route         3562 non-null   object \n",
      " 6   type          5241 non-null   object \n",
      " 7   registration  4933 non-null   object \n",
      " 8   cn/in         4040 non-null   object \n",
      " 9   aboard        5246 non-null   float64\n",
      " 10  fatalities    5256 non-null   float64\n",
      " 11  ground        5246 non-null   float64\n",
      " 12  summary       4878 non-null   object \n",
      "dtypes: float64(3), object(10)\n",
      "memory usage: 535.2+ KB\n"
     ]
    }
   ],
   "source": [
    "airplanes.info()"
   ]
  },
  {
   "cell_type": "code",
   "execution_count": 55,
   "id": "2ea4147e",
   "metadata": {},
   "outputs": [
    {
     "data": {
      "text/plain": [
       "date               0\n",
       "time            2219\n",
       "location          20\n",
       "operator          18\n",
       "flight_no       4199\n",
       "route           1706\n",
       "type              27\n",
       "registration     335\n",
       "cn/in           1228\n",
       "aboard            22\n",
       "fatalities        12\n",
       "ground            22\n",
       "summary          390\n",
       "dtype: int64"
      ]
     },
     "execution_count": 55,
     "metadata": {},
     "output_type": "execute_result"
    }
   ],
   "source": [
    "airplanes.isna().sum()"
   ]
  },
  {
   "cell_type": "markdown",
   "id": "2b70ccaf",
   "metadata": {},
   "source": [
    "We can observe quite a number of Nas. This could be due to multiple reasons: lack of obligation to provide that information (as many measures were implemented with time and progressively with the industry development), non-registered flights (like military or pirate flights), unclear information or damaged sensors.\n",
    "\n",
    "For now we will not drop any rows or columns and continue to explore the data, as one missing value in a row may not be that relevant to understand the case. Date is the essential paramenter to classify the flights (also will allow us to build a time accident rate) and we have no missing values on that one."
   ]
  },
  {
   "cell_type": "markdown",
   "id": "ba5bce55",
   "metadata": {},
   "source": [
    "<h3>Let's explore the location column.<h3>"
   ]
  },
  {
   "cell_type": "code",
   "execution_count": 56,
   "id": "b1a65f38",
   "metadata": {},
   "outputs": [
    {
     "data": {
      "text/plain": [
       "4304"
      ]
     },
     "execution_count": 56,
     "metadata": {},
     "output_type": "execute_result"
    }
   ],
   "source": [
    "airplanes['location'].nunique(dropna = False)"
   ]
  },
  {
   "cell_type": "code",
   "execution_count": 57,
   "id": "1ea86e72",
   "metadata": {},
   "outputs": [
    {
     "data": {
      "text/plain": [
       "Sao Paulo, Brazil                    15\n",
       "Moscow, Russia                       15\n",
       "Rio de Janeiro, Brazil               14\n",
       "Anchorage, Alaska                    13\n",
       "Manila, Philippines                  13\n",
       "                                     ..\n",
       "Near Charana, Bolivia                 1\n",
       "Monte Matto, Italy                    1\n",
       "Misaki Mountain, Japan                1\n",
       "Angelholm, Sweden                     1\n",
       "State of Arunachal Pradesh, India     1\n",
       "Name: location, Length: 4303, dtype: int64"
      ]
     },
     "execution_count": 57,
     "metadata": {},
     "output_type": "execute_result"
    }
   ],
   "source": [
    "airplanes['location'].value_counts()"
   ]
  },
  {
   "cell_type": "markdown",
   "id": "3db8cf77",
   "metadata": {},
   "source": [
    "We have 4304 different locations for the flights (we also have 20 Nas and one of them is included in this calculation, so in reality we would have 4303).\n",
    "\n",
    "Some of these locations can be in the same country and even region or city. As this column stores info as a string, just a minor difference in the writing would count as a different value, so we will have to consider that when using the information (as we can see in the value counts - 2 locations from the same country on top, an USA state but without stating the country). We will have to get the country information from this column."
   ]
  },
  {
   "cell_type": "markdown",
   "id": "d6d5d0e4",
   "metadata": {},
   "source": [
    "<h3>Let's now check the flight operators:<h3>"
   ]
  },
  {
   "cell_type": "code",
   "execution_count": 58,
   "id": "9b36b5fc",
   "metadata": {},
   "outputs": [
    {
     "data": {
      "text/plain": [
       "2476"
      ]
     },
     "execution_count": 58,
     "metadata": {},
     "output_type": "execute_result"
    }
   ],
   "source": [
    "airplanes['operator'].nunique()"
   ]
  },
  {
   "cell_type": "code",
   "execution_count": 59,
   "id": "fa386a4a",
   "metadata": {},
   "outputs": [
    {
     "data": {
      "text/plain": [
       "Aeroflot                               179\n",
       "Military - U.S. Air Force              176\n",
       "Air France                              70\n",
       "Deutsche Lufthansa                      65\n",
       "Air Taxi                                44\n",
       "                                      ... \n",
       "Military - Argentine Navy                1\n",
       "Richland Flying Service - Air Taxii      1\n",
       "Harbor Airlines - Air Taxi               1\n",
       "Aerovias Venezolanas SA (Venezuela)      1\n",
       "Strait Air                               1\n",
       "Name: operator, Length: 2476, dtype: int64"
      ]
     },
     "execution_count": 59,
     "metadata": {},
     "output_type": "execute_result"
    }
   ],
   "source": [
    "airplanes['operator'].value_counts()"
   ]
  },
  {
   "cell_type": "markdown",
   "id": "a2a5cfce",
   "metadata": {},
   "source": [
    "We have 2476 unique flight operators. Nas have not been considered as the nunique function drops them by default. Here we have some considerations: this info is also stored in a string so any minor difference or typo would count as a different value. Also, some flights are labeled as private - they may be grouped but it doesn't mean they were handled by the same company.\n",
    "We can already see which operators have the biggest incident rate: Aeroflot, USAF and Air France (closely followed by Lufthansa)."
   ]
  },
  {
   "cell_type": "markdown",
   "id": "583196a2",
   "metadata": {},
   "source": [
    "<h3>Let's check the flight number column:<h3>"
   ]
  },
  {
   "cell_type": "code",
   "execution_count": 63,
   "id": "1d4c578c",
   "metadata": {},
   "outputs": [
    {
     "data": {
      "text/plain": [
       "NaN     4199\n",
       "-         67\n",
       "1         10\n",
       "4          7\n",
       "21         6\n",
       "        ... \n",
       "621        1\n",
       "215        1\n",
       "208B       1\n",
       "158        1\n",
       "447        1\n",
       "Name: flight_no, Length: 725, dtype: int64"
      ]
     },
     "execution_count": 63,
     "metadata": {},
     "output_type": "execute_result"
    }
   ],
   "source": [
    "airplanes['flight_no'].value_counts(dropna = False)"
   ]
  },
  {
   "cell_type": "markdown",
   "id": "5634cada",
   "metadata": {},
   "source": [
    "There are many Nas, it may be interesting to keep it just for extra information purposes (for example, to provide extra narrative context when talking about an specific flight when this info is available). That would be the only purpose of this column, also because flight names are usually based on aircraft routes, and these can change with relative frequence depending on many factors."
   ]
  },
  {
   "cell_type": "markdown",
   "id": "362504dc",
   "metadata": {},
   "source": [
    "<h3>Let's check now the route column:<h3>"
   ]
  },
  {
   "cell_type": "code",
   "execution_count": 65,
   "id": "0a5f61c6",
   "metadata": {
    "scrolled": false
   },
   "outputs": [
    {
     "data": {
      "text/plain": [
       "NaN                           1706\n",
       "Training                        81\n",
       "Sightseeing                     29\n",
       "Test flight                     17\n",
       "Test                             6\n",
       "                              ... \n",
       "Manila - Lapu Lapu               1\n",
       "Saint Denis - Paris              1\n",
       "Cork - London                    1\n",
       "Peoria, IL - St. Louis, MO       1\n",
       "Mechuka for Jorhat               1\n",
       "Name: route, Length: 3245, dtype: int64"
      ]
     },
     "execution_count": 65,
     "metadata": {},
     "output_type": "execute_result"
    }
   ],
   "source": [
    "airplanes['route'].value_counts(dropna = False)"
   ]
  },
  {
   "cell_type": "markdown",
   "id": "2af74072",
   "metadata": {},
   "source": [
    "As before, we have quite a number of Nas but it may be interesting to keep this column for extra context."
   ]
  },
  {
   "cell_type": "markdown",
   "id": "fcc6b163",
   "metadata": {},
   "source": [
    "<h3>We will check now the type column, which indicates the plane model that was involved in the accident:<h3>"
   ]
  },
  {
   "cell_type": "code",
   "execution_count": 67,
   "id": "08aec3db",
   "metadata": {},
   "outputs": [
    {
     "data": {
      "text/plain": [
       "Douglas DC-3                                334\n",
       "de Havilland Canada DHC-6 Twin Otter 300     81\n",
       "Douglas C-47A                                74\n",
       "Douglas C-47                                 62\n",
       "Douglas DC-4                                 40\n",
       "                                           ... \n",
       "Boeing 727-21                                 1\n",
       "NAMC-YS-11-111                                1\n",
       "Lockheed EC-121H                              1\n",
       "Cessna 205A                                   1\n",
       "Airbus A330-203                               1\n",
       "Name: type, Length: 2447, dtype: int64"
      ]
     },
     "execution_count": 67,
     "metadata": {},
     "output_type": "execute_result"
    }
   ],
   "source": [
    "airplanes['type'].value_counts(dropna = False)"
   ]
  },
  {
   "cell_type": "markdown",
   "id": "cfb8b52b",
   "metadata": {},
   "source": [
    "We can observe that the Douglas models have the highest number of accidents by far. We can later consider to cross check it with the operators."
   ]
  },
  {
   "cell_type": "markdown",
   "id": "eb1d2449",
   "metadata": {},
   "source": [
    "<h3>registration and cn/In<h3>"
   ]
  },
  {
   "cell_type": "markdown",
   "id": "3b48627a",
   "metadata": {},
   "source": [
    "These columns indicate the registration number of the aircraft and the serial number given by the manufacturer. It is not relevant for our dataset and they contain quite a number or Nas, but we will keep them as we did with the flight number."
   ]
  },
  {
   "cell_type": "code",
   "execution_count": null,
   "id": "03979711",
   "metadata": {},
   "outputs": [],
   "source": [
    "Aboard"
   ]
  },
  {
   "cell_type": "code",
   "execution_count": 14,
   "id": "89531105-797d-491a-b7b9-b7b3afb47420",
   "metadata": {},
   "outputs": [
    {
     "data": {
      "text/plain": [
       "'The Airbus went missing over the AtlantiOcean on a flight from Rio de Janeiro to Paris, France. The plane departed from Rio de Janeiro-Galeao International Airport at 19:03 LT bound for Charles de Gaulle Airport in Paris. The last radio contact with the flight was at 01:33 UTC.  The aircraft left CINDACTA III radar coverage at 01:48 UTC, flying normally at FL350. The aircraft reportedly went through a thunderstorm with strong turbulence at 02:00 UTC. At 02:14 UTC an automated message was received indicating a failure of the electrical system. The plane carried 12 crew members and 216 passengers.'"
      ]
     },
     "execution_count": 14,
     "metadata": {},
     "output_type": "execute_result"
    }
   ],
   "source": [
    "airplanes['Summary'][5265]"
   ]
  },
  {
   "cell_type": "code",
   "execution_count": 9,
   "id": "db074b56-ef7b-4b7a-85f1-3c346e92a768",
   "metadata": {},
   "outputs": [
    {
     "data": {
      "text/html": [
       "<div>\n",
       "<style scoped>\n",
       "    .dataframe tbody tr th:only-of-type {\n",
       "        vertical-align: middle;\n",
       "    }\n",
       "\n",
       "    .dataframe tbody tr th {\n",
       "        vertical-align: top;\n",
       "    }\n",
       "\n",
       "    .dataframe thead th {\n",
       "        text-align: right;\n",
       "    }\n",
       "</style>\n",
       "<table border=\"1\" class=\"dataframe\">\n",
       "  <thead>\n",
       "    <tr style=\"text-align: right;\">\n",
       "      <th></th>\n",
       "      <th>Date</th>\n",
       "      <th>Time</th>\n",
       "      <th>Location</th>\n",
       "      <th>Operator</th>\n",
       "      <th>Flight #</th>\n",
       "      <th>Route</th>\n",
       "      <th>Type</th>\n",
       "      <th>Registration</th>\n",
       "      <th>cn/In</th>\n",
       "      <th>Aboard</th>\n",
       "      <th>Fatalities</th>\n",
       "      <th>Ground</th>\n",
       "      <th>Summary</th>\n",
       "    </tr>\n",
       "  </thead>\n",
       "  <tbody>\n",
       "    <tr>\n",
       "      <th>4803</th>\n",
       "      <td>09/11/2001</td>\n",
       "      <td>08:47</td>\n",
       "      <td>New York City, New York</td>\n",
       "      <td>American Airlines</td>\n",
       "      <td>11</td>\n",
       "      <td>Boston - Los Angeles</td>\n",
       "      <td>Boeing 767-223ER</td>\n",
       "      <td>N334AA</td>\n",
       "      <td>22332/169</td>\n",
       "      <td>92.0</td>\n",
       "      <td>92.0</td>\n",
       "      <td>2750.0</td>\n",
       "      <td>The aircraft was hijacked shortly after it lef...</td>\n",
       "    </tr>\n",
       "    <tr>\n",
       "      <th>4804</th>\n",
       "      <td>09/11/2001</td>\n",
       "      <td>09:03</td>\n",
       "      <td>New York City, New York</td>\n",
       "      <td>United Air Lines</td>\n",
       "      <td>175</td>\n",
       "      <td>Boston - Los Angeles</td>\n",
       "      <td>Boeing B-767-222</td>\n",
       "      <td>N612UA</td>\n",
       "      <td>21873/41</td>\n",
       "      <td>65.0</td>\n",
       "      <td>65.0</td>\n",
       "      <td>2750.0</td>\n",
       "      <td>The aircraft was hijacked shortly after it lef...</td>\n",
       "    </tr>\n",
       "  </tbody>\n",
       "</table>\n",
       "</div>"
      ],
      "text/plain": [
       "            Date   Time                 Location           Operator Flight #  \\\n",
       "4803  09/11/2001  08:47  New York City, New York  American Airlines       11   \n",
       "4804  09/11/2001  09:03  New York City, New York   United Air Lines      175   \n",
       "\n",
       "                     Route              Type Registration      cn/In  Aboard  \\\n",
       "4803  Boston - Los Angeles  Boeing 767-223ER       N334AA  22332/169    92.0   \n",
       "4804  Boston - Los Angeles  Boeing B-767-222       N612UA   21873/41    65.0   \n",
       "\n",
       "      Fatalities  Ground                                            Summary  \n",
       "4803        92.0  2750.0  The aircraft was hijacked shortly after it lef...  \n",
       "4804        65.0  2750.0  The aircraft was hijacked shortly after it lef...  "
      ]
     },
     "execution_count": 9,
     "metadata": {},
     "output_type": "execute_result"
    }
   ],
   "source": [
    "airplanes_high = airplanes[(airplanes['Ground'] == 2750)]\n",
    "airplanes_high"
   ]
  },
  {
   "cell_type": "code",
   "execution_count": 15,
   "id": "a835cc66-01fb-40b0-8b3c-119252cf1106",
   "metadata": {},
   "outputs": [
    {
     "data": {
      "text/plain": [
       "<bound method NDFrame._add_numeric_operations.<locals>.max of 2.0      528\n",
       "3.0      458\n",
       "1.0      409\n",
       "4.0      328\n",
       "5.0      260\n",
       "        ... \n",
       "256.0      1\n",
       "159.0      1\n",
       "290.0      1\n",
       "259.0      1\n",
       "228.0      1\n",
       "Name: Fatalities, Length: 191, dtype: int64>"
      ]
     },
     "execution_count": 15,
     "metadata": {},
     "output_type": "execute_result"
    }
   ],
   "source": [
    "airplanes['Fatalities'].value_counts().max"
   ]
  },
  {
   "cell_type": "code",
   "execution_count": 20,
   "id": "7fe0653b-040b-4950-bbbc-b011f08a395a",
   "metadata": {},
   "outputs": [
    {
     "data": {
      "text/html": [
       "<div>\n",
       "<style scoped>\n",
       "    .dataframe tbody tr th:only-of-type {\n",
       "        vertical-align: middle;\n",
       "    }\n",
       "\n",
       "    .dataframe tbody tr th {\n",
       "        vertical-align: top;\n",
       "    }\n",
       "\n",
       "    .dataframe thead th {\n",
       "        text-align: right;\n",
       "    }\n",
       "</style>\n",
       "<table border=\"1\" class=\"dataframe\">\n",
       "  <thead>\n",
       "    <tr style=\"text-align: right;\">\n",
       "      <th></th>\n",
       "      <th>Date</th>\n",
       "      <th>Time</th>\n",
       "      <th>Location</th>\n",
       "      <th>Operator</th>\n",
       "      <th>Flight #</th>\n",
       "      <th>Route</th>\n",
       "      <th>Type</th>\n",
       "      <th>Registration</th>\n",
       "      <th>cn/In</th>\n",
       "      <th>Aboard</th>\n",
       "      <th>Fatalities</th>\n",
       "      <th>Ground</th>\n",
       "      <th>Summary</th>\n",
       "    </tr>\n",
       "  </thead>\n",
       "  <tbody>\n",
       "    <tr>\n",
       "      <th>2726</th>\n",
       "      <td>03/03/1974</td>\n",
       "      <td>11:41</td>\n",
       "      <td>Near Ermenonville, France</td>\n",
       "      <td>Turkish Airlines (THY)</td>\n",
       "      <td>981</td>\n",
       "      <td>Paris - London</td>\n",
       "      <td>McDonnell Douglas DC-10-10</td>\n",
       "      <td>TC-JAV</td>\n",
       "      <td>46704/29</td>\n",
       "      <td>346.0</td>\n",
       "      <td>346.0</td>\n",
       "      <td>0.0</td>\n",
       "      <td>The aircraft crashed shortly after takeoff fro...</td>\n",
       "    </tr>\n",
       "    <tr>\n",
       "      <th>2963</th>\n",
       "      <td>03/27/1977</td>\n",
       "      <td>17:07</td>\n",
       "      <td>Tenerife, Canary Islands</td>\n",
       "      <td>Pan American World Airways / KLM</td>\n",
       "      <td>1736/4805</td>\n",
       "      <td>Tenerife - Las Palmas / Tenerife - Las Palmas</td>\n",
       "      <td>Boeing B-747-121 / Boeing B-747-206B</td>\n",
       "      <td>N736PA/PH-BUF</td>\n",
       "      <td>19643/11 / 20400/157</td>\n",
       "      <td>644.0</td>\n",
       "      <td>583.0</td>\n",
       "      <td>0.0</td>\n",
       "      <td>Both aircraft were diverted to Tenerife becaus...</td>\n",
       "    </tr>\n",
       "    <tr>\n",
       "      <th>3240</th>\n",
       "      <td>08/19/1980</td>\n",
       "      <td>19:08</td>\n",
       "      <td>Near Riyadh, Saudi Arabia</td>\n",
       "      <td>Saudi Arabian Airlines</td>\n",
       "      <td>163</td>\n",
       "      <td>Riyadh - Jeddah</td>\n",
       "      <td>Lockheed 1011-200 TriStar</td>\n",
       "      <td>HZ-AHK</td>\n",
       "      <td>1169</td>\n",
       "      <td>301.0</td>\n",
       "      <td>301.0</td>\n",
       "      <td>0.0</td>\n",
       "      <td>The flight experienced a fire in the aft cargo...</td>\n",
       "    </tr>\n",
       "    <tr>\n",
       "      <th>3562</th>\n",
       "      <td>06/23/1985</td>\n",
       "      <td>07:15</td>\n",
       "      <td>AtlantiOcean, 110 miles West of Ireland</td>\n",
       "      <td>Air India</td>\n",
       "      <td>182</td>\n",
       "      <td>Montreal - London</td>\n",
       "      <td>Boeing B-747-237B</td>\n",
       "      <td>VT-EFO</td>\n",
       "      <td>21473/330</td>\n",
       "      <td>329.0</td>\n",
       "      <td>329.0</td>\n",
       "      <td>0.0</td>\n",
       "      <td>The aircraft broke up in flight and crashed in...</td>\n",
       "    </tr>\n",
       "    <tr>\n",
       "      <th>3568</th>\n",
       "      <td>08/12/1985</td>\n",
       "      <td>18:56</td>\n",
       "      <td>Mt. Osutaka, near Ueno Village, Japan</td>\n",
       "      <td>Japan Air Lines</td>\n",
       "      <td>123</td>\n",
       "      <td>Tokyo - Osaka</td>\n",
       "      <td>Boeing B-747-SR46</td>\n",
       "      <td>JA8119</td>\n",
       "      <td>20783/230</td>\n",
       "      <td>524.0</td>\n",
       "      <td>520.0</td>\n",
       "      <td>0.0</td>\n",
       "      <td>The aircraft suffered an aft pressure bulkhead...</td>\n",
       "    </tr>\n",
       "    <tr>\n",
       "      <th>4455</th>\n",
       "      <td>11/12/1996</td>\n",
       "      <td>18:40</td>\n",
       "      <td>Near Charkhidadri, India</td>\n",
       "      <td>Saudi Arabian Airlines / Kazastan Airlines</td>\n",
       "      <td>763/1907</td>\n",
       "      <td>New Delhi - Dhahran / Chimkent - New Delhi</td>\n",
       "      <td>Boeing B-747-168B / Ilyushin IL-76TD</td>\n",
       "      <td>HZAIH/UN-76435</td>\n",
       "      <td>22748/555/1023413428</td>\n",
       "      <td>349.0</td>\n",
       "      <td>349.0</td>\n",
       "      <td>0.0</td>\n",
       "      <td>Midair collision 17 km W of New Delhi.  The Sa...</td>\n",
       "    </tr>\n",
       "  </tbody>\n",
       "</table>\n",
       "</div>"
      ],
      "text/plain": [
       "            Date   Time                                 Location  \\\n",
       "2726  03/03/1974  11:41                Near Ermenonville, France   \n",
       "2963  03/27/1977  17:07                 Tenerife, Canary Islands   \n",
       "3240  08/19/1980  19:08                Near Riyadh, Saudi Arabia   \n",
       "3562  06/23/1985  07:15  AtlantiOcean, 110 miles West of Ireland   \n",
       "3568  08/12/1985  18:56    Mt. Osutaka, near Ueno Village, Japan   \n",
       "4455  11/12/1996  18:40                 Near Charkhidadri, India   \n",
       "\n",
       "                                        Operator   Flight #  \\\n",
       "2726                      Turkish Airlines (THY)        981   \n",
       "2963            Pan American World Airways / KLM  1736/4805   \n",
       "3240                      Saudi Arabian Airlines        163   \n",
       "3562                                   Air India        182   \n",
       "3568                             Japan Air Lines        123   \n",
       "4455  Saudi Arabian Airlines / Kazastan Airlines   763/1907   \n",
       "\n",
       "                                              Route  \\\n",
       "2726                                 Paris - London   \n",
       "2963  Tenerife - Las Palmas / Tenerife - Las Palmas   \n",
       "3240                                Riyadh - Jeddah   \n",
       "3562                              Montreal - London   \n",
       "3568                                  Tokyo - Osaka   \n",
       "4455     New Delhi - Dhahran / Chimkent - New Delhi   \n",
       "\n",
       "                                      Type    Registration  \\\n",
       "2726            McDonnell Douglas DC-10-10          TC-JAV   \n",
       "2963  Boeing B-747-121 / Boeing B-747-206B   N736PA/PH-BUF   \n",
       "3240             Lockheed 1011-200 TriStar          HZ-AHK   \n",
       "3562                     Boeing B-747-237B          VT-EFO   \n",
       "3568                     Boeing B-747-SR46          JA8119   \n",
       "4455  Boeing B-747-168B / Ilyushin IL-76TD  HZAIH/UN-76435   \n",
       "\n",
       "                     cn/In  Aboard  Fatalities  Ground  \\\n",
       "2726              46704/29   346.0       346.0     0.0   \n",
       "2963  19643/11 / 20400/157   644.0       583.0     0.0   \n",
       "3240                  1169   301.0       301.0     0.0   \n",
       "3562             21473/330   329.0       329.0     0.0   \n",
       "3568             20783/230   524.0       520.0     0.0   \n",
       "4455  22748/555/1023413428   349.0       349.0     0.0   \n",
       "\n",
       "                                                Summary  \n",
       "2726  The aircraft crashed shortly after takeoff fro...  \n",
       "2963  Both aircraft were diverted to Tenerife becaus...  \n",
       "3240  The flight experienced a fire in the aft cargo...  \n",
       "3562  The aircraft broke up in flight and crashed in...  \n",
       "3568  The aircraft suffered an aft pressure bulkhead...  \n",
       "4455  Midair collision 17 km W of New Delhi.  The Sa...  "
      ]
     },
     "execution_count": 20,
     "metadata": {},
     "output_type": "execute_result"
    }
   ],
   "source": [
    "airplanes_deaths = airplanes[(airplanes['Fatalities'] > 300)]\n",
    "airplanes_deaths"
   ]
  },
  {
   "cell_type": "code",
   "execution_count": null,
   "id": "ecf4697a-b735-4549-a049-5d55f5c952cd",
   "metadata": {},
   "outputs": [],
   "source": []
  }
 ],
 "metadata": {
  "kernelspec": {
   "display_name": "Python 3 (ipykernel)",
   "language": "python",
   "name": "python3"
  },
  "language_info": {
   "codemirror_mode": {
    "name": "ipython",
    "version": 3
   },
   "file_extension": ".py",
   "mimetype": "text/x-python",
   "name": "python",
   "nbconvert_exporter": "python",
   "pygments_lexer": "ipython3",
   "version": "3.10.6"
  }
 },
 "nbformat": 4,
 "nbformat_minor": 5
}
